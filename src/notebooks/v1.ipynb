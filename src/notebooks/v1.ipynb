{
 "cells": [
  {
   "cell_type": "markdown",
   "id": "8fb2db9b",
   "metadata": {},
   "source": [
    "This is the example model "
   ]
  },
  {
   "cell_type": "code",
   "execution_count": 1,
   "id": "df79f519",
   "metadata": {},
   "outputs": [],
   "source": [
    "using JuMP, DataFrames, Plots, CSV"
   ]
  },
  {
   "cell_type": "markdown",
   "id": "d5b2640e",
   "metadata": {},
   "source": [
    "Define parameters from the model"
   ]
  },
  {
   "cell_type": "code",
   "execution_count": null,
   "id": "c564decc",
   "metadata": {},
   "outputs": [],
   "source": [
    "tHorz = 24"
   ]
  },
  {
   "cell_type": "code",
   "execution_count": null,
   "id": "bf982404",
   "metadata": {},
   "outputs": [],
   "source": []
  }
 ],
 "metadata": {
  "kernelspec": {
   "display_name": "Julia 1.6.1",
   "language": "julia",
   "name": "julia-1.6"
  },
  "language_info": {
   "file_extension": ".jl",
   "mimetype": "application/julia",
   "name": "julia",
   "version": "1.6.1"
  }
 },
 "nbformat": 4,
 "nbformat_minor": 5
}
