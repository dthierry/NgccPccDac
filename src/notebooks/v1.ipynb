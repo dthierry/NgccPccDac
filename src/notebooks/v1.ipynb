{
 "cells": [
  {
   "cell_type": "markdown",
   "id": "e513ba3b",
   "metadata": {},
   "source": [
    "# NGCC-PCC-DAC model"
   ]
  },
  {
   "cell_type": "markdown",
   "id": "8fb2db9b",
   "metadata": {},
   "source": [
    "This is the example model implemented in Julia."
   ]
  },
  {
   "cell_type": "code",
   "execution_count": 1,
   "id": "df79f519",
   "metadata": {},
   "outputs": [],
   "source": [
    "# By David PThierry\n",
    "using JuMP, Clp, DataFrames, Plots, CSV"
   ]
  },
  {
   "cell_type": "markdown",
   "id": "0e5409d1",
   "metadata": {},
   "source": [
    "# Parameters"
   ]
  },
  {
   "cell_type": "markdown",
   "id": "d5b2640e",
   "metadata": {},
   "source": [
    "Load `DataFrame`s containing parameters"
   ]
  },
  {
   "cell_type": "code",
   "execution_count": 2,
   "id": "387a49ae",
   "metadata": {
    "scrolled": true
   },
   "outputs": [
    {
     "data": {
      "text/html": [
       "<table class=\"data-frame\"><thead><tr><th></th><th>U.S. Natural Gas Electric Power Price</th><th>Price </th></tr><tr><th></th><th>String</th><th>Float64</th></tr></thead><tbody><p>230 rows × 2 columns</p><tr><th>1</th><td>Feb 2021</td><td>16.29</td></tr><tr><th>2</th><td>Jan 2021</td><td>3.33</td></tr><tr><th>3</th><td>Dec 2020</td><td>3.3</td></tr><tr><th>4</th><td>Nov 2020</td><td>3.08</td></tr><tr><th>5</th><td>Oct 2020</td><td>2.57</td></tr><tr><th>6</th><td>Sep 2020</td><td>2.49</td></tr><tr><th>7</th><td>Aug 2020</td><td>2.47</td></tr><tr><th>8</th><td>Jul 2020</td><td>2.1</td></tr><tr><th>9</th><td>Jun 2020</td><td>2.08</td></tr><tr><th>10</th><td>May 2020</td><td>2.25</td></tr><tr><th>11</th><td>Apr 2020</td><td>2.2</td></tr><tr><th>12</th><td>Mar 2020</td><td>2.23</td></tr><tr><th>13</th><td>Feb 2020</td><td>2.5</td></tr><tr><th>14</th><td>Jan 2020</td><td>2.74</td></tr><tr><th>15</th><td>Dec 2019</td><td>3.05</td></tr><tr><th>16</th><td>Nov 2019</td><td>3.08</td></tr><tr><th>17</th><td>Oct 2019</td><td>2.58</td></tr><tr><th>18</th><td>Sep 2019</td><td>2.68</td></tr><tr><th>19</th><td>Aug 2019</td><td>2.5</td></tr><tr><th>20</th><td>Jul 2019</td><td>2.62</td></tr><tr><th>21</th><td>Jun 2019</td><td>2.67</td></tr><tr><th>22</th><td>May 2019</td><td>2.85</td></tr><tr><th>23</th><td>Apr 2019</td><td>2.99</td></tr><tr><th>24</th><td>Mar 2019</td><td>3.59</td></tr><tr><th>25</th><td>Feb 2019</td><td>3.79</td></tr><tr><th>26</th><td>Jan 2019</td><td>4.16</td></tr><tr><th>27</th><td>Dec 2018</td><td>4.89</td></tr><tr><th>28</th><td>Nov 2018</td><td>4.34</td></tr><tr><th>29</th><td>Oct 2018</td><td>3.52</td></tr><tr><th>30</th><td>Sep 2018</td><td>3.23</td></tr><tr><th>&vellip;</th><td>&vellip;</td><td>&vellip;</td></tr></tbody></table>"
      ],
      "text/latex": [
       "\\begin{tabular}{r|cc}\n",
       "\t& U.S. Natural Gas Electric Power Price & Price \\\\\n",
       "\t\\hline\n",
       "\t& String & Float64\\\\\n",
       "\t\\hline\n",
       "\t1 & Feb 2021 & 16.29 \\\\\n",
       "\t2 & Jan 2021 & 3.33 \\\\\n",
       "\t3 & Dec 2020 & 3.3 \\\\\n",
       "\t4 & Nov 2020 & 3.08 \\\\\n",
       "\t5 & Oct 2020 & 2.57 \\\\\n",
       "\t6 & Sep 2020 & 2.49 \\\\\n",
       "\t7 & Aug 2020 & 2.47 \\\\\n",
       "\t8 & Jul 2020 & 2.1 \\\\\n",
       "\t9 & Jun 2020 & 2.08 \\\\\n",
       "\t10 & May 2020 & 2.25 \\\\\n",
       "\t11 & Apr 2020 & 2.2 \\\\\n",
       "\t12 & Mar 2020 & 2.23 \\\\\n",
       "\t13 & Feb 2020 & 2.5 \\\\\n",
       "\t14 & Jan 2020 & 2.74 \\\\\n",
       "\t15 & Dec 2019 & 3.05 \\\\\n",
       "\t16 & Nov 2019 & 3.08 \\\\\n",
       "\t17 & Oct 2019 & 2.58 \\\\\n",
       "\t18 & Sep 2019 & 2.68 \\\\\n",
       "\t19 & Aug 2019 & 2.5 \\\\\n",
       "\t20 & Jul 2019 & 2.62 \\\\\n",
       "\t21 & Jun 2019 & 2.67 \\\\\n",
       "\t22 & May 2019 & 2.85 \\\\\n",
       "\t23 & Apr 2019 & 2.99 \\\\\n",
       "\t24 & Mar 2019 & 3.59 \\\\\n",
       "\t25 & Feb 2019 & 3.79 \\\\\n",
       "\t26 & Jan 2019 & 4.16 \\\\\n",
       "\t27 & Dec 2018 & 4.89 \\\\\n",
       "\t28 & Nov 2018 & 4.34 \\\\\n",
       "\t29 & Oct 2018 & 3.52 \\\\\n",
       "\t30 & Sep 2018 & 3.23 \\\\\n",
       "\t$\\dots$ & $\\dots$ & $\\dots$ \\\\\n",
       "\\end{tabular}\n"
      ],
      "text/plain": [
       "230×2 DataFrame\n",
       "│ Row │ U.S. Natural Gas Electric Power Price │ Price   │\n",
       "│     │ \u001b[90mString\u001b[39m                                │ \u001b[90mFloat64\u001b[39m │\n",
       "├─────┼───────────────────────────────────────┼─────────┤\n",
       "│ 1   │ Feb 2021                              │ 16.29   │\n",
       "│ 2   │ Jan 2021                              │ 3.33    │\n",
       "│ 3   │ Dec 2020                              │ 3.3     │\n",
       "│ 4   │ Nov 2020                              │ 3.08    │\n",
       "│ 5   │ Oct 2020                              │ 2.57    │\n",
       "│ 6   │ Sep 2020                              │ 2.49    │\n",
       "│ 7   │ Aug 2020                              │ 2.47    │\n",
       "│ 8   │ Jul 2020                              │ 2.1     │\n",
       "│ 9   │ Jun 2020                              │ 2.08    │\n",
       "│ 10  │ May 2020                              │ 2.25    │\n",
       "⋮\n",
       "│ 220 │ Nov 2002                              │ 4.35    │\n",
       "│ 221 │ Oct 2002                              │ 4.19    │\n",
       "│ 222 │ Sep 2002                              │ 3.71    │\n",
       "│ 223 │ Aug 2002                              │ 3.42    │\n",
       "│ 224 │ Jul 2002                              │ 3.49    │\n",
       "│ 225 │ Jun 2002                              │ 3.61    │\n",
       "│ 226 │ May 2002                              │ 3.78    │\n",
       "│ 227 │ Apr 2002                              │ 3.8     │\n",
       "│ 228 │ Mar 2002                              │ 3.37    │\n",
       "│ 229 │ Feb 2002                              │ 2.86    │\n",
       "│ 230 │ Jan 2002                              │ 3.1     │"
      ]
     },
     "execution_count": 2,
     "metadata": {},
     "output_type": "execute_result"
    }
   ],
   "source": [
    "#: Fitted parameters\n",
    "df_gas = DataFrame(CSV.File(\"../reg/gas_coeffs.csv\"))\n",
    "df_steam = DataFrame(CSV.File(\"../reg/steam_coeffs.csv\"))\n",
    "#: costs\n",
    "df_pow_c = DataFrame(CSV.File(\"../resources/prices_avg.csv\")) #: 9th col)\n",
    "df_ng_c = DataFrame(CSV.File(\"../resources/natural_gas_price.csv\"))"
   ]
  },
  {
   "cell_type": "markdown",
   "id": "8b0f7a79",
   "metadata": {},
   "source": [
    "Assign parameters for gas turbine."
   ]
  },
  {
   "cell_type": "code",
   "execution_count": 3,
   "id": "819b1712",
   "metadata": {},
   "outputs": [
    {
     "data": {
      "text/plain": [
       "0.058520000000000294"
      ]
     },
     "execution_count": 3,
     "metadata": {},
     "output_type": "execute_result"
    }
   ],
   "source": [
    "bPowGasTeLoad = df_gas[1, 2]\n",
    "aPowGasTeLoad = df_gas[1, 3]\n",
    "\n",
    "bFuelEload = df_gas[2, 2]\n",
    "aFuelEload = df_gas[2, 3]\n",
    "\n",
    "lbcoToTonneco = 0.4535924 / 1000  #: Scale factor\n",
    "bEmissFactEload = df_gas[3, 2] * lbcoToTonneco\n",
    "aEmissFactEload = df_gas[3, 3] * lbcoToTonneco\n",
    "\n",
    "bPowHpEload = df_gas[4, 2] / 1000  #: To scale the kW to MW\n",
    "aPowHpEload = df_gas[4, 3] / 1000\n",
    "\n",
    "bPowIpEload = df_gas[5, 2] / 1000\n",
    "aPowIpEload = df_gas[5, 3] / 1000\n",
    "\n",
    "bAuxRateGas = df_gas[6, 2] / 1000\n",
    "aAuxRateGas = df_gas[6, 3] / 1000"
   ]
  },
  {
   "cell_type": "markdown",
   "id": "64a746a9",
   "metadata": {},
   "source": [
    "Assign parameters for steam turbines."
   ]
  },
  {
   "cell_type": "code",
   "execution_count": 4,
   "id": "7fbf4c35",
   "metadata": {},
   "outputs": [
    {
     "data": {
      "text/plain": [
       "2.5"
      ]
     },
     "execution_count": 4,
     "metadata": {},
     "output_type": "execute_result"
    }
   ],
   "source": [
    "#: Steam params\n",
    "bPowLpEload = df_steam[1, 2] / 1000\n",
    "aPowLpEload = df_steam[1, 3] / 1000\n",
    "\n",
    "bCcRebDutyEload = df_steam[2, 2]\n",
    "aCcRebDutyEload = df_steam[2, 3]\n",
    "\n",
    "bDacSteaEload = df_steam[3, 2]\n",
    "aDacSteaEload = df_steam[3, 3]\n",
    "\n",
    "bAuxRateStea = df_steam[4, 2] / 1000\n",
    "aAuxRateStea = df_steam[4, 3] / 1000\n",
    "\n",
    "\n",
    "kwhToMmbtu = 3412.1416416 / 1e+06\n",
    "aSteaUseRateDacAir = 1944 * kwhToMmbtu\n",
    "aSteaUseRateDacFlue = 1944 * kwhToMmbtu\n",
    "\n",
    "aPowUseRateDacAir = 2 * 250 / 1000\n",
    "aPowUseRateDacFlue = 250 / 1000\n",
    "\n",
    "mmolcoToTonne = (1/1000) * 44.0095 * (0.000001)\n",
    "\n",
    "aSorbCo2CapFlue = 1 * mmolcoToTonne\n",
    "aSorbCo2CapAir = 1 * mmolcoToTonne\n",
    "\n",
    "aCapRatePcc = 0.5\n",
    "aSteaUseRatePcc = aSteaUseRateDacFlue * .7\n",
    "aPowUseRatePcc = aPowUseRateDacFlue * 10"
   ]
  },
  {
   "cell_type": "markdown",
   "id": "60f92817",
   "metadata": {},
   "source": [
    "Horizon length, e.g., 1 - `tHorz` hours"
   ]
  },
  {
   "cell_type": "code",
   "execution_count": 5,
   "id": "52697c8f",
   "metadata": {},
   "outputs": [
    {
     "data": {
      "text/plain": [
       "24"
      ]
     },
     "execution_count": 5,
     "metadata": {},
     "output_type": "execute_result"
    }
   ],
   "source": [
    "tHorz = 24"
   ]
  },
  {
   "cell_type": "markdown",
   "id": "7411c4c2",
   "metadata": {},
   "source": [
    "Random data for pricing."
   ]
  },
  {
   "cell_type": "code",
   "execution_count": 6,
   "id": "08e3ce59",
   "metadata": {},
   "outputs": [
    {
     "data": {
      "text/plain": [
       "24-element Vector{Float64}:\n",
       " 0.21213445272857911\n",
       " 0.41219831050961875\n",
       " 0.45005307456725396\n",
       " 0.24847961344046876\n",
       " 0.34485839712035005\n",
       " 0.3067420520083859\n",
       " 0.6355580004610124\n",
       " 0.036860306284216326\n",
       " 0.9625773480713216\n",
       " 0.8363972262375725\n",
       " 0.534304636240106\n",
       " 0.05033306439633645\n",
       " 0.11866975991559459\n",
       " 0.12347375598107413\n",
       " 0.32937141824797256\n",
       " 0.28634900855990986\n",
       " 0.8306098229567038\n",
       " 0.00991531902253584\n",
       " 0.19033020746820029\n",
       " 0.5268336604249102\n",
       " 0.22485087606556586\n",
       " 0.1413017905121805\n",
       " 0.5386935177820973\n",
       " 0.035774131728856684"
      ]
     },
     "execution_count": 6,
     "metadata": {},
     "output_type": "execute_result"
    }
   ],
   "source": [
    "rnum = rand(Float64, tHorz)  # Random numbers"
   ]
  },
  {
   "cell_type": "markdown",
   "id": "7b2ecdfe",
   "metadata": {},
   "source": [
    "Assign random price signal."
   ]
  },
  {
   "cell_type": "code",
   "execution_count": 7,
   "id": "66933a45",
   "metadata": {},
   "outputs": [
    {
     "data": {
      "text/plain": [
       "24-element Vector{Float64}:\n",
       "  22.613532660866532\n",
       "  43.940339900325355\n",
       "  47.97565774886927\n",
       "  26.487926792753967\n",
       "  36.761905133029316\n",
       "  32.698702744093936\n",
       "  67.75048284914392\n",
       "   3.92930864989746\n",
       " 102.61074530440287\n",
       "  89.15994431692522\n",
       "  56.9568742231953\n",
       "   5.365504664649465\n",
       "  12.650196407002381\n",
       "  13.162302387582502\n",
       "  35.11099318523387\n",
       "  30.52480431248639\n",
       "  88.54300712718462\n",
       "   1.0569730078023205\n",
       "  20.28920011611015\n",
       "  56.16046820129542\n",
       "  23.96910338858932\n",
       "  15.062770868598442\n",
       "  57.42472899557157\n",
       "   3.8135224422961223"
      ]
     },
     "execution_count": 7,
     "metadata": {},
     "output_type": "execute_result"
    }
   ],
   "source": [
    "pow_price = rnum .* (df_pow_c[11, 6] * 1000 / 100)  # Power USD/MWh"
   ]
  },
  {
   "cell_type": "markdown",
   "id": "106e5566",
   "metadata": {},
   "source": [
    "Assign price of Natural gas."
   ]
  },
  {
   "cell_type": "code",
   "execution_count": 8,
   "id": "b36ffa2f",
   "metadata": {},
   "outputs": [
    {
     "data": {
      "text/plain": [
       "1.263086026399636"
      ]
     },
     "execution_count": 8,
     "metadata": {},
     "output_type": "execute_result"
    }
   ],
   "source": [
    "std_w_ng1000cuft = (50000 / 2636.4)/50\n",
    "price_ng_lb = df_ng_c[2, 2] * std_w_ng1000cuft  # Price of NG USD/lb(std)"
   ]
  },
  {
   "cell_type": "markdown",
   "id": "e6c48a77",
   "metadata": {},
   "source": [
    "Create model."
   ]
  },
  {
   "cell_type": "code",
   "execution_count": 9,
   "id": "db10de63",
   "metadata": {},
   "outputs": [
    {
     "data": {
      "text/plain": [
       "A JuMP Model\n",
       "Feasibility problem with:\n",
       "Variables: 0\n",
       "Model mode: AUTOMATIC\n",
       "CachingOptimizer state: NO_OPTIMIZER\n",
       "Solver name: No optimizer attached."
      ]
     },
     "execution_count": 9,
     "metadata": {},
     "output_type": "execute_result"
    }
   ],
   "source": [
    "m = Model()"
   ]
  },
  {
   "cell_type": "code",
   "execution_count": 10,
   "id": "0fff1e4f",
   "metadata": {},
   "outputs": [
    {
     "data": {
      "text/plain": [
       "0.1"
      ]
     },
     "execution_count": 10,
     "metadata": {},
     "output_type": "execute_result"
    }
   ],
   "source": [
    "aCo2PccCapRate = .1"
   ]
  },
  {
   "cell_type": "markdown",
   "id": "159812e1",
   "metadata": {},
   "source": []
  },
  {
   "cell_type": "code",
   "execution_count": 11,
   "id": "0a53fb6c",
   "metadata": {},
   "outputs": [
    {
     "data": {
      "text/plain": [
       "0.001"
      ]
     },
     "execution_count": 11,
     "metadata": {},
     "output_type": "execute_result"
    }
   ],
   "source": [
    "aPowUseRateComp = 0.001"
   ]
  },
  {
   "cell_type": "code",
   "execution_count": 12,
   "id": "3d06cc11",
   "metadata": {},
   "outputs": [
    {
     "data": {
      "text/plain": [
       "1.0"
      ]
     },
     "execution_count": 12,
     "metadata": {},
     "output_type": "execute_result"
    }
   ],
   "source": [
    "# Cost parameters.\n",
    "cCostInvCombTurb = 1e+02\n",
    "cCostInvSteaTurb = 1e+02\n",
    "cCostInvTransInter = 1e+02\n",
    "cCostInvPcc = 1e+02\n",
    "cCostInvDac = 1e+03\n",
    "cCostInvComp = 1e+01\n",
    "\n",
    "pEmissionPrice = 20000000 # USD/tonne CO2\n",
    "pCo2TranspPrice = 1e+01\n",
    "pCo2Credit = 1e+00"
   ]
  },
  {
   "cell_type": "markdown",
   "id": "7acc3697",
   "metadata": {},
   "source": [
    "# Variables"
   ]
  },
  {
   "cell_type": "markdown",
   "id": "70a3926c",
   "metadata": {},
   "source": [
    "The load of the gas turbine will act as the main degree of freedom."
   ]
  },
  {
   "cell_type": "code",
   "execution_count": 13,
   "id": "3e4dc01d",
   "metadata": {},
   "outputs": [
    {
     "data": {
      "text/plain": [
       "1-dimensional DenseAxisArray{VariableRef,1,...} with index sets:\n",
       "    Dimension 1, 0:23\n",
       "And data, a 24-element Vector{VariableRef}:\n",
       " yGasTelecLoad[0]\n",
       " yGasTelecLoad[1]\n",
       " yGasTelecLoad[2]\n",
       " yGasTelecLoad[3]\n",
       " yGasTelecLoad[4]\n",
       " yGasTelecLoad[5]\n",
       " yGasTelecLoad[6]\n",
       " yGasTelecLoad[7]\n",
       " yGasTelecLoad[8]\n",
       " yGasTelecLoad[9]\n",
       " yGasTelecLoad[10]\n",
       " yGasTelecLoad[11]\n",
       " yGasTelecLoad[12]\n",
       " yGasTelecLoad[13]\n",
       " yGasTelecLoad[14]\n",
       " yGasTelecLoad[15]\n",
       " yGasTelecLoad[16]\n",
       " yGasTelecLoad[17]\n",
       " yGasTelecLoad[18]\n",
       " yGasTelecLoad[19]\n",
       " yGasTelecLoad[20]\n",
       " yGasTelecLoad[21]\n",
       " yGasTelecLoad[22]\n",
       " yGasTelecLoad[23]"
      ]
     },
     "execution_count": 13,
     "metadata": {},
     "output_type": "execute_result"
    }
   ],
   "source": [
    "@variable(m, 60 <= yGasTelecLoad[0:tHorz - 1] <= 100)"
   ]
  },
  {
   "cell_type": "code",
   "execution_count": 14,
   "id": "21655331",
   "metadata": {},
   "outputs": [
    {
     "data": {
      "text/plain": [
       "1-dimensional DenseAxisArray{VariableRef,1,...} with index sets:\n",
       "    Dimension 1, 0:23\n",
       "And data, a 24-element Vector{VariableRef}:\n",
       " xAuxPow[0]\n",
       " xAuxPow[1]\n",
       " xAuxPow[2]\n",
       " xAuxPow[3]\n",
       " xAuxPow[4]\n",
       " xAuxPow[5]\n",
       " xAuxPow[6]\n",
       " xAuxPow[7]\n",
       " xAuxPow[8]\n",
       " xAuxPow[9]\n",
       " xAuxPow[10]\n",
       " xAuxPow[11]\n",
       " xAuxPow[12]\n",
       " xAuxPow[13]\n",
       " xAuxPow[14]\n",
       " xAuxPow[15]\n",
       " xAuxPow[16]\n",
       " xAuxPow[17]\n",
       " xAuxPow[18]\n",
       " xAuxPow[19]\n",
       " xAuxPow[20]\n",
       " xAuxPow[21]\n",
       " xAuxPow[22]\n",
       " xAuxPow[23]"
      ]
     },
     "execution_count": 14,
     "metadata": {},
     "output_type": "execute_result"
    }
   ],
   "source": [
    "#: Gas Turbine\n",
    "@variable(m, 0 <= xPowGasTur[0:tHorz - 1])\n",
    "@variable(m, 0 <= xPowGross[0:tHorz - 1])\n",
    "@variable(m, 0 <= xPowOut[ 0:tHorz - 1])\n",
    "@variable(m, xAuxPowGasT[0:tHorz - 1] >= 0)\n",
    "@variable(m, 0 <= xFuel[0:tHorz - 1])\n",
    "@variable(m, 0 <= xCo2Fuel[0:tHorz - 1])\n",
    "\n",
    "#: Steam Turbine\n",
    "@variable(m, 0 <= xPowHp[0:tHorz - 1])\n",
    "@variable(m, 0 <= xPowIp[0:tHorz - 1])\n",
    "@variable(m, 0 <= xAuxPowSteaT[0:tHorz - 1])\n",
    "\n",
    "#: Steam generation CC\n",
    "@variable(m, 0 <= xPowLp[0:tHorz - 1])\n",
    "@variable(m, 0 <= xCcRebDuty[0:tHorz - 1])\n",
    "@variable(m, 0 <= xDacSteaDuty[0:tHorz - 1])\n",
    "@variable(m, 0 <= xPowSteaTur[0:tHorz - 1])\n",
    "\n",
    "\n",
    "#: PCC\n",
    "@variable(m, 0 <= xCo2CapPcc[0:tHorz - 1])\n",
    "@variable(m, 0 <= xSteaUsePcc[0:tHorz - 1])\n",
    "@variable(m, 0 <= xPowUsePcc[0:tHorz - 1])\n",
    "@variable(m, 0 <= xCo2PccOut[0:tHorz - 1])\n",
    "@variable(m, 0 <= vCo2PccVent[0:tHorz - 1])\n",
    "@variable(m, 0 <= xCo2DacFlueIn[0:tHorz - 1])\n",
    "@variable(m, 0 <= xPccSteaSlack[0:tHorz - 1])\n",
    "\n",
    "# Dac-Flue\n",
    "@variable(m, 0 <= a0Flue[0:tHorz - 1])  \n",
    "@variable(m, 0 <= a1Flue[0:tHorz]) # State\n",
    "@variable(m, 0 <= a2Flue[0:tHorz]) # State\n",
    "\n",
    "@variable(m, 0 <= aR0Flue[0:tHorz - 1])  # Not-a-State\n",
    "@variable(m, 0 <= aR1Flue[0:tHorz])  # State\n",
    "@variable(m, 0 <= sFflue[0:tHorz])  # State\n",
    "@variable(m, 0 <= sSflue[0:tHorz])  # State\n",
    "\n",
    "@variable(m, 0 <= vAbsFlue[0:tHorz - 1])  # Input\n",
    "@variable(m, 0 <= vRegFlue[0:tHorz - 1])  # Input\n",
    "\n",
    "@variable(m, 0 <= xCo2StorDacFlue[0:tHorz - 1])\n",
    "@variable(m, 0 <= xCo2CapDacFlue[0:tHorz - 1])\n",
    "@variable(m, 0 <= xSteaUseDacFlue[0:tHorz - 1])\n",
    "@variable(m, 0 <= xPowUseDacFlue[0:tHorz - 1])\n",
    "@variable(m, 0 <= xCo2DacVentFlue[0:tHorz - 1])\n",
    "\n",
    "# Dac-Air\n",
    "@variable(m, 0 <= a0Air[0:tHorz - 1])  #\n",
    "@variable(m, 0 <= a1Air[0:tHorz]) # State\n",
    "@variable(m, 0 <= a2Air[0:tHorz]) # State\n",
    "\n",
    "@variable(m, 0 <= aR0Air[0:tHorz - 1])  # Not-a-State\n",
    "@variable(m, 0 <= aR1Air[0:tHorz])  # State\n",
    "@variable(m, 0 <= sFair[0:tHorz])  # State\n",
    "@variable(m, 0 <= sSair[0:tHorz])  # State\n",
    "\n",
    "@variable(m, 0 <= vAbsAir[0:tHorz - 1])  # Input\n",
    "@variable(m, 0 <= vRegAir[0:tHorz - 1])  # Input\n",
    "\n",
    "@variable(m, 0 <= xCo2StorDacAir[0:tHorz - 1])\n",
    "@variable(m, 0 <= xCo2CapDacAir[0:tHorz - 1])\n",
    "@variable(m, xSteaUseDacAir[0:tHorz - 1] >= 0)\n",
    "@variable(m, 0 <= xPowUseDacAir[0:tHorz - 1])\n",
    "@variable(m, 0 <= xDacSteaSlack[0:tHorz - 1])\n",
    "\n",
    "\n",
    "# CO2 compression\n",
    "@variable(m, 0 <= xCo2Comp[0:tHorz - 1])\n",
    "@variable(m, 0 <= xPowUseComp[0:tHorz - 1])\n",
    "@variable(m, xCo2Vent[0:tHorz - 1])  # This used to be only positive.\n",
    "@variable(m, xAuxPow[0:tHorz - 1])"
   ]
  },
  {
   "cell_type": "markdown",
   "id": "3d188d80",
   "metadata": {},
   "source": [
    "# Constraints"
   ]
  },
  {
   "cell_type": "markdown",
   "id": "31178dcf",
   "metadata": {},
   "source": [
    "## Gas Turbine"
   ]
  },
  {
   "cell_type": "markdown",
   "id": "2f1637fc",
   "metadata": {},
   "source": [
    "The expressions of this section relate the _load of the gas turbine_ (`yGasTelecLoad`). These\n",
    "include the most relevant performance indicators: \n",
    "\n",
    "* Gas turbine power as function of load.\n",
    "\n",
    "$\\mathtt{xPowGasTur}_t = \\mathtt{aPowGasTeLoad} \\times \\mathtt{yGasTelecLoad}_t +\\mathtt{bPowGasTeLoad} $"
   ]
  },
  {
   "cell_type": "code",
   "execution_count": 15,
   "id": "9dba9cfc",
   "metadata": {},
   "outputs": [
    {
     "data": {
      "text/plain": [
       "1-dimensional DenseAxisArray{ConstraintRef{Model, MathOptInterface.ConstraintIndex{MathOptInterface.ScalarAffineFunction{Float64}, MathOptInterface.EqualTo{Float64}}, ScalarShape},1,...} with index sets:\n",
       "    Dimension 1, 0:23\n",
       "And data, a 24-element Vector{ConstraintRef{Model, MathOptInterface.ConstraintIndex{MathOptInterface.ScalarAffineFunction{Float64}, MathOptInterface.EqualTo{Float64}}, ScalarShape}}:\n",
       " powGasTur[0] : -4.769999999999982 yGasTelecLoad[0] + xPowGasTur[0] = 1.5006662579253325e-12\n",
       " powGasTur[1] : -4.769999999999982 yGasTelecLoad[1] + xPowGasTur[1] = 1.5006662579253325e-12\n",
       " powGasTur[2] : -4.769999999999982 yGasTelecLoad[2] + xPowGasTur[2] = 1.5006662579253325e-12\n",
       " powGasTur[3] : -4.769999999999982 yGasTelecLoad[3] + xPowGasTur[3] = 1.5006662579253325e-12\n",
       " powGasTur[4] : -4.769999999999982 yGasTelecLoad[4] + xPowGasTur[4] = 1.5006662579253325e-12\n",
       " powGasTur[5] : -4.769999999999982 yGasTelecLoad[5] + xPowGasTur[5] = 1.5006662579253325e-12\n",
       " powGasTur[6] : -4.769999999999982 yGasTelecLoad[6] + xPowGasTur[6] = 1.5006662579253325e-12\n",
       " powGasTur[7] : -4.769999999999982 yGasTelecLoad[7] + xPowGasTur[7] = 1.5006662579253325e-12\n",
       " powGasTur[8] : -4.769999999999982 yGasTelecLoad[8] + xPowGasTur[8] = 1.5006662579253325e-12\n",
       " powGasTur[9] : -4.769999999999982 yGasTelecLoad[9] + xPowGasTur[9] = 1.5006662579253325e-12\n",
       " powGasTur[10] : -4.769999999999982 yGasTelecLoad[10] + xPowGasTur[10] = 1.5006662579253325e-12\n",
       " powGasTur[11] : -4.769999999999982 yGasTelecLoad[11] + xPowGasTur[11] = 1.5006662579253325e-12\n",
       " powGasTur[12] : -4.769999999999982 yGasTelecLoad[12] + xPowGasTur[12] = 1.5006662579253325e-12\n",
       " powGasTur[13] : -4.769999999999982 yGasTelecLoad[13] + xPowGasTur[13] = 1.5006662579253325e-12\n",
       " powGasTur[14] : -4.769999999999982 yGasTelecLoad[14] + xPowGasTur[14] = 1.5006662579253325e-12\n",
       " powGasTur[15] : -4.769999999999982 yGasTelecLoad[15] + xPowGasTur[15] = 1.5006662579253325e-12\n",
       " powGasTur[16] : -4.769999999999982 yGasTelecLoad[16] + xPowGasTur[16] = 1.5006662579253325e-12\n",
       " powGasTur[17] : -4.769999999999982 yGasTelecLoad[17] + xPowGasTur[17] = 1.5006662579253325e-12\n",
       " powGasTur[18] : -4.769999999999982 yGasTelecLoad[18] + xPowGasTur[18] = 1.5006662579253325e-12\n",
       " powGasTur[19] : -4.769999999999982 yGasTelecLoad[19] + xPowGasTur[19] = 1.5006662579253325e-12\n",
       " powGasTur[20] : -4.769999999999982 yGasTelecLoad[20] + xPowGasTur[20] = 1.5006662579253325e-12\n",
       " powGasTur[21] : -4.769999999999982 yGasTelecLoad[21] + xPowGasTur[21] = 1.5006662579253325e-12\n",
       " powGasTur[22] : -4.769999999999982 yGasTelecLoad[22] + xPowGasTur[22] = 1.5006662579253325e-12\n",
       " powGasTur[23] : -4.769999999999982 yGasTelecLoad[23] + xPowGasTur[23] = 1.5006662579253325e-12"
      ]
     },
     "execution_count": 15,
     "metadata": {},
     "output_type": "execute_result"
    }
   ],
   "source": [
    "# Gas Turbine\n",
    "@constraint(m, powGasTur[i = 0:tHorz - 1], \n",
    "            xPowGasTur[i] == aPowGasTeLoad * yGasTelecLoad[i] + bPowGasTeLoad\n",
    "           )"
   ]
  },
  {
   "cell_type": "markdown",
   "id": "3825c620",
   "metadata": {},
   "source": [
    "* Fuel (Gas)\n",
    "\n",
    "$\\mathtt{xFuel}_t = \\mathtt{aFuelEload} \\times \\mathtt{yGasTelecLoad}_t, +\\mathtt{bFuelEload}$"
   ]
  },
  {
   "cell_type": "code",
   "execution_count": 16,
   "id": "e395ebed",
   "metadata": {},
   "outputs": [
    {
     "data": {
      "text/plain": [
       "1-dimensional DenseAxisArray{ConstraintRef{Model, MathOptInterface.ConstraintIndex{MathOptInterface.ScalarAffineFunction{Float64}, MathOptInterface.EqualTo{Float64}}, ScalarShape},1,...} with index sets:\n",
       "    Dimension 1, 0:23\n",
       "And data, a 24-element Vector{ConstraintRef{Model, MathOptInterface.ConstraintIndex{MathOptInterface.ScalarAffineFunction{Float64}, MathOptInterface.EqualTo{Float64}}, ScalarShape}}:\n",
       " fuelEq[0] : -1509.52983000001 yGasTelecLoad[0] + xFuel[0] = 55528.325199999184\n",
       " fuelEq[1] : -1509.52983000001 yGasTelecLoad[1] + xFuel[1] = 55528.325199999184\n",
       " fuelEq[2] : -1509.52983000001 yGasTelecLoad[2] + xFuel[2] = 55528.325199999184\n",
       " fuelEq[3] : -1509.52983000001 yGasTelecLoad[3] + xFuel[3] = 55528.325199999184\n",
       " fuelEq[4] : -1509.52983000001 yGasTelecLoad[4] + xFuel[4] = 55528.325199999184\n",
       " fuelEq[5] : -1509.52983000001 yGasTelecLoad[5] + xFuel[5] = 55528.325199999184\n",
       " fuelEq[6] : -1509.52983000001 yGasTelecLoad[6] + xFuel[6] = 55528.325199999184\n",
       " fuelEq[7] : -1509.52983000001 yGasTelecLoad[7] + xFuel[7] = 55528.325199999184\n",
       " fuelEq[8] : -1509.52983000001 yGasTelecLoad[8] + xFuel[8] = 55528.325199999184\n",
       " fuelEq[9] : -1509.52983000001 yGasTelecLoad[9] + xFuel[9] = 55528.325199999184\n",
       " fuelEq[10] : -1509.52983000001 yGasTelecLoad[10] + xFuel[10] = 55528.325199999184\n",
       " fuelEq[11] : -1509.52983000001 yGasTelecLoad[11] + xFuel[11] = 55528.325199999184\n",
       " fuelEq[12] : -1509.52983000001 yGasTelecLoad[12] + xFuel[12] = 55528.325199999184\n",
       " fuelEq[13] : -1509.52983000001 yGasTelecLoad[13] + xFuel[13] = 55528.325199999184\n",
       " fuelEq[14] : -1509.52983000001 yGasTelecLoad[14] + xFuel[14] = 55528.325199999184\n",
       " fuelEq[15] : -1509.52983000001 yGasTelecLoad[15] + xFuel[15] = 55528.325199999184\n",
       " fuelEq[16] : -1509.52983000001 yGasTelecLoad[16] + xFuel[16] = 55528.325199999184\n",
       " fuelEq[17] : -1509.52983000001 yGasTelecLoad[17] + xFuel[17] = 55528.325199999184\n",
       " fuelEq[18] : -1509.52983000001 yGasTelecLoad[18] + xFuel[18] = 55528.325199999184\n",
       " fuelEq[19] : -1509.52983000001 yGasTelecLoad[19] + xFuel[19] = 55528.325199999184\n",
       " fuelEq[20] : -1509.52983000001 yGasTelecLoad[20] + xFuel[20] = 55528.325199999184\n",
       " fuelEq[21] : -1509.52983000001 yGasTelecLoad[21] + xFuel[21] = 55528.325199999184\n",
       " fuelEq[22] : -1509.52983000001 yGasTelecLoad[22] + xFuel[22] = 55528.325199999184\n",
       " fuelEq[23] : -1509.52983000001 yGasTelecLoad[23] + xFuel[23] = 55528.325199999184"
      ]
     },
     "execution_count": 16,
     "metadata": {},
     "output_type": "execute_result"
    }
   ],
   "source": [
    "@constraint(m, fuelEq[i = 0:tHorz - 1], \n",
    "            xFuel[i] == aFuelEload * yGasTelecLoad[i] + bFuelEload\n",
    "           )"
   ]
  },
  {
   "cell_type": "markdown",
   "id": "769ba3ce",
   "metadata": {},
   "source": [
    "* Emissions\n",
    "\n",
    "$\\mathtt{xCo2GasT}_t = \\mathtt{aEmissFactEload} \\times \\mathtt{yGasTelecLoad}_t + \\mathtt{bEmissFactEload}$"
   ]
  },
  {
   "cell_type": "code",
   "execution_count": 17,
   "id": "f9cd5df8",
   "metadata": {},
   "outputs": [
    {
     "data": {
      "text/plain": [
       "1-dimensional DenseAxisArray{ConstraintRef{Model, MathOptInterface.ConstraintIndex{MathOptInterface.ScalarAffineFunction{Float64}, MathOptInterface.EqualTo{Float64}}, ScalarShape},1,...} with index sets:\n",
       "    Dimension 1, 0:23\n",
       "And data, a 24-element Vector{ConstraintRef{Model, MathOptInterface.ConstraintIndex{MathOptInterface.ScalarAffineFunction{Float64}, MathOptInterface.EqualTo{Float64}}, ScalarShape}}:\n",
       " co2FuelEq[0] : -1.8943379818504946 yGasTelecLoad[0] + xCo2Fuel[0] = 69.88704903203953\n",
       " co2FuelEq[1] : -1.8943379818504946 yGasTelecLoad[1] + xCo2Fuel[1] = 69.88704903203953\n",
       " co2FuelEq[2] : -1.8943379818504946 yGasTelecLoad[2] + xCo2Fuel[2] = 69.88704903203953\n",
       " co2FuelEq[3] : -1.8943379818504946 yGasTelecLoad[3] + xCo2Fuel[3] = 69.88704903203953\n",
       " co2FuelEq[4] : -1.8943379818504946 yGasTelecLoad[4] + xCo2Fuel[4] = 69.88704903203953\n",
       " co2FuelEq[5] : -1.8943379818504946 yGasTelecLoad[5] + xCo2Fuel[5] = 69.88704903203953\n",
       " co2FuelEq[6] : -1.8943379818504946 yGasTelecLoad[6] + xCo2Fuel[6] = 69.88704903203953\n",
       " co2FuelEq[7] : -1.8943379818504946 yGasTelecLoad[7] + xCo2Fuel[7] = 69.88704903203953\n",
       " co2FuelEq[8] : -1.8943379818504946 yGasTelecLoad[8] + xCo2Fuel[8] = 69.88704903203953\n",
       " co2FuelEq[9] : -1.8943379818504946 yGasTelecLoad[9] + xCo2Fuel[9] = 69.88704903203953\n",
       " co2FuelEq[10] : -1.8943379818504946 yGasTelecLoad[10] + xCo2Fuel[10] = 69.88704903203953\n",
       " co2FuelEq[11] : -1.8943379818504946 yGasTelecLoad[11] + xCo2Fuel[11] = 69.88704903203953\n",
       " co2FuelEq[12] : -1.8943379818504946 yGasTelecLoad[12] + xCo2Fuel[12] = 69.88704903203953\n",
       " co2FuelEq[13] : -1.8943379818504946 yGasTelecLoad[13] + xCo2Fuel[13] = 69.88704903203953\n",
       " co2FuelEq[14] : -1.8943379818504946 yGasTelecLoad[14] + xCo2Fuel[14] = 69.88704903203953\n",
       " co2FuelEq[15] : -1.8943379818504946 yGasTelecLoad[15] + xCo2Fuel[15] = 69.88704903203953\n",
       " co2FuelEq[16] : -1.8943379818504946 yGasTelecLoad[16] + xCo2Fuel[16] = 69.88704903203953\n",
       " co2FuelEq[17] : -1.8943379818504946 yGasTelecLoad[17] + xCo2Fuel[17] = 69.88704903203953\n",
       " co2FuelEq[18] : -1.8943379818504946 yGasTelecLoad[18] + xCo2Fuel[18] = 69.88704903203953\n",
       " co2FuelEq[19] : -1.8943379818504946 yGasTelecLoad[19] + xCo2Fuel[19] = 69.88704903203953\n",
       " co2FuelEq[20] : -1.8943379818504946 yGasTelecLoad[20] + xCo2Fuel[20] = 69.88704903203953\n",
       " co2FuelEq[21] : -1.8943379818504946 yGasTelecLoad[21] + xCo2Fuel[21] = 69.88704903203953\n",
       " co2FuelEq[22] : -1.8943379818504946 yGasTelecLoad[22] + xCo2Fuel[22] = 69.88704903203953\n",
       " co2FuelEq[23] : -1.8943379818504946 yGasTelecLoad[23] + xCo2Fuel[23] = 69.88704903203953"
      ]
     },
     "execution_count": 17,
     "metadata": {},
     "output_type": "execute_result"
    }
   ],
   "source": [
    "@constraint(m, co2FuelEq[i = 0:tHorz - 1], \n",
    "            xCo2Fuel[i] == aEmissFactEload * yGasTelecLoad[i] + bEmissFactEload\n",
    "           )"
   ]
  },
  {
   "cell_type": "markdown",
   "id": "a2e8dec5",
   "metadata": {},
   "source": [
    "* Auxiliar power (for gas turbine).\n",
    "\n",
    "$\\mathtt{xAuxPowGasT}_t = \\mathtt{aAuxRateGas} \\times \\mathtt{yGasTelecLoad}_t + \\mathtt{bAuxRateGas}$"
   ]
  },
  {
   "cell_type": "code",
   "execution_count": 18,
   "id": "d2d9c2bc",
   "metadata": {},
   "outputs": [
    {
     "data": {
      "text/plain": [
       "1-dimensional DenseAxisArray{ConstraintRef{Model, MathOptInterface.ConstraintIndex{MathOptInterface.ScalarAffineFunction{Float64}, MathOptInterface.EqualTo{Float64}}, ScalarShape},1,...} with index sets:\n",
       "    Dimension 1, 0:23\n",
       "And data, a 24-element Vector{ConstraintRef{Model, MathOptInterface.ConstraintIndex{MathOptInterface.ScalarAffineFunction{Float64}, MathOptInterface.EqualTo{Float64}}, ScalarShape}}:\n",
       " auxPowGasT[0] : -0.058520000000000294 yGasTelecLoad[0] + xAuxPowGasT[0] = -2.401066012680532e-14\n",
       " auxPowGasT[1] : -0.058520000000000294 yGasTelecLoad[1] + xAuxPowGasT[1] = -2.401066012680532e-14\n",
       " auxPowGasT[2] : -0.058520000000000294 yGasTelecLoad[2] + xAuxPowGasT[2] = -2.401066012680532e-14\n",
       " auxPowGasT[3] : -0.058520000000000294 yGasTelecLoad[3] + xAuxPowGasT[3] = -2.401066012680532e-14\n",
       " auxPowGasT[4] : -0.058520000000000294 yGasTelecLoad[4] + xAuxPowGasT[4] = -2.401066012680532e-14\n",
       " auxPowGasT[5] : -0.058520000000000294 yGasTelecLoad[5] + xAuxPowGasT[5] = -2.401066012680532e-14\n",
       " auxPowGasT[6] : -0.058520000000000294 yGasTelecLoad[6] + xAuxPowGasT[6] = -2.401066012680532e-14\n",
       " auxPowGasT[7] : -0.058520000000000294 yGasTelecLoad[7] + xAuxPowGasT[7] = -2.401066012680532e-14\n",
       " auxPowGasT[8] : -0.058520000000000294 yGasTelecLoad[8] + xAuxPowGasT[8] = -2.401066012680532e-14\n",
       " auxPowGasT[9] : -0.058520000000000294 yGasTelecLoad[9] + xAuxPowGasT[9] = -2.401066012680532e-14\n",
       " auxPowGasT[10] : -0.058520000000000294 yGasTelecLoad[10] + xAuxPowGasT[10] = -2.401066012680532e-14\n",
       " auxPowGasT[11] : -0.058520000000000294 yGasTelecLoad[11] + xAuxPowGasT[11] = -2.401066012680532e-14\n",
       " auxPowGasT[12] : -0.058520000000000294 yGasTelecLoad[12] + xAuxPowGasT[12] = -2.401066012680532e-14\n",
       " auxPowGasT[13] : -0.058520000000000294 yGasTelecLoad[13] + xAuxPowGasT[13] = -2.401066012680532e-14\n",
       " auxPowGasT[14] : -0.058520000000000294 yGasTelecLoad[14] + xAuxPowGasT[14] = -2.401066012680532e-14\n",
       " auxPowGasT[15] : -0.058520000000000294 yGasTelecLoad[15] + xAuxPowGasT[15] = -2.401066012680532e-14\n",
       " auxPowGasT[16] : -0.058520000000000294 yGasTelecLoad[16] + xAuxPowGasT[16] = -2.401066012680532e-14\n",
       " auxPowGasT[17] : -0.058520000000000294 yGasTelecLoad[17] + xAuxPowGasT[17] = -2.401066012680532e-14\n",
       " auxPowGasT[18] : -0.058520000000000294 yGasTelecLoad[18] + xAuxPowGasT[18] = -2.401066012680532e-14\n",
       " auxPowGasT[19] : -0.058520000000000294 yGasTelecLoad[19] + xAuxPowGasT[19] = -2.401066012680532e-14\n",
       " auxPowGasT[20] : -0.058520000000000294 yGasTelecLoad[20] + xAuxPowGasT[20] = -2.401066012680532e-14\n",
       " auxPowGasT[21] : -0.058520000000000294 yGasTelecLoad[21] + xAuxPowGasT[21] = -2.401066012680532e-14\n",
       " auxPowGasT[22] : -0.058520000000000294 yGasTelecLoad[22] + xAuxPowGasT[22] = -2.401066012680532e-14\n",
       " auxPowGasT[23] : -0.058520000000000294 yGasTelecLoad[23] + xAuxPowGasT[23] = -2.401066012680532e-14"
      ]
     },
     "execution_count": 18,
     "metadata": {},
     "output_type": "execute_result"
    }
   ],
   "source": [
    "@constraint(m, auxPowGasT[i = 0:tHorz - 1],\n",
    "            xAuxPowGasT[i] == aAuxRateGas * yGasTelecLoad[i] + bAuxRateGas\n",
    "           )"
   ]
  },
  {
   "cell_type": "markdown",
   "id": "02be05a6",
   "metadata": {},
   "source": [
    "## Steam Turbines"
   ]
  },
  {
   "cell_type": "markdown",
   "id": "ab429c6a",
   "metadata": {},
   "source": [
    "* Power from HP turbine.\n",
    "\n",
    "$\\mathtt{xPowHp}_t = \\mathtt{aPowHpEload} \\times \\mathtt{yGasTelecLoad}_t$"
   ]
  },
  {
   "cell_type": "code",
   "execution_count": 19,
   "id": "c2d79a3c",
   "metadata": {},
   "outputs": [
    {
     "data": {
      "text/plain": [
       "1-dimensional DenseAxisArray{ConstraintRef{Model, MathOptInterface.ConstraintIndex{MathOptInterface.ScalarAffineFunction{Float64}, MathOptInterface.EqualTo{Float64}}, ScalarShape},1,...} with index sets:\n",
       "    Dimension 1, 0:23\n",
       "And data, a 24-element Vector{ConstraintRef{Model, MathOptInterface.ConstraintIndex{MathOptInterface.ScalarAffineFunction{Float64}, MathOptInterface.EqualTo{Float64}}, ScalarShape}}:\n",
       " powHpEq[0] : -0.34072688529999917 yGasTelecLoad[0] + xPowHp[0] = 22.45427125600007\n",
       " powHpEq[1] : -0.34072688529999917 yGasTelecLoad[1] + xPowHp[1] = 22.45427125600007\n",
       " powHpEq[2] : -0.34072688529999917 yGasTelecLoad[2] + xPowHp[2] = 22.45427125600007\n",
       " powHpEq[3] : -0.34072688529999917 yGasTelecLoad[3] + xPowHp[3] = 22.45427125600007\n",
       " powHpEq[4] : -0.34072688529999917 yGasTelecLoad[4] + xPowHp[4] = 22.45427125600007\n",
       " powHpEq[5] : -0.34072688529999917 yGasTelecLoad[5] + xPowHp[5] = 22.45427125600007\n",
       " powHpEq[6] : -0.34072688529999917 yGasTelecLoad[6] + xPowHp[6] = 22.45427125600007\n",
       " powHpEq[7] : -0.34072688529999917 yGasTelecLoad[7] + xPowHp[7] = 22.45427125600007\n",
       " powHpEq[8] : -0.34072688529999917 yGasTelecLoad[8] + xPowHp[8] = 22.45427125600007\n",
       " powHpEq[9] : -0.34072688529999917 yGasTelecLoad[9] + xPowHp[9] = 22.45427125600007\n",
       " powHpEq[10] : -0.34072688529999917 yGasTelecLoad[10] + xPowHp[10] = 22.45427125600007\n",
       " powHpEq[11] : -0.34072688529999917 yGasTelecLoad[11] + xPowHp[11] = 22.45427125600007\n",
       " powHpEq[12] : -0.34072688529999917 yGasTelecLoad[12] + xPowHp[12] = 22.45427125600007\n",
       " powHpEq[13] : -0.34072688529999917 yGasTelecLoad[13] + xPowHp[13] = 22.45427125600007\n",
       " powHpEq[14] : -0.34072688529999917 yGasTelecLoad[14] + xPowHp[14] = 22.45427125600007\n",
       " powHpEq[15] : -0.34072688529999917 yGasTelecLoad[15] + xPowHp[15] = 22.45427125600007\n",
       " powHpEq[16] : -0.34072688529999917 yGasTelecLoad[16] + xPowHp[16] = 22.45427125600007\n",
       " powHpEq[17] : -0.34072688529999917 yGasTelecLoad[17] + xPowHp[17] = 22.45427125600007\n",
       " powHpEq[18] : -0.34072688529999917 yGasTelecLoad[18] + xPowHp[18] = 22.45427125600007\n",
       " powHpEq[19] : -0.34072688529999917 yGasTelecLoad[19] + xPowHp[19] = 22.45427125600007\n",
       " powHpEq[20] : -0.34072688529999917 yGasTelecLoad[20] + xPowHp[20] = 22.45427125600007\n",
       " powHpEq[21] : -0.34072688529999917 yGasTelecLoad[21] + xPowHp[21] = 22.45427125600007\n",
       " powHpEq[22] : -0.34072688529999917 yGasTelecLoad[22] + xPowHp[22] = 22.45427125600007\n",
       " powHpEq[23] : -0.34072688529999917 yGasTelecLoad[23] + xPowHp[23] = 22.45427125600007"
      ]
     },
     "execution_count": 19,
     "metadata": {},
     "output_type": "execute_result"
    }
   ],
   "source": [
    "@constraint(m, powHpEq[i = 0:tHorz - 1], \n",
    "            xPowHp[i] == aPowHpEload * yGasTelecLoad[i] + bPowHpEload\n",
    "           )"
   ]
  },
  {
   "cell_type": "markdown",
   "id": "c9bcab68",
   "metadata": {},
   "source": [
    "* Power from IP turbine.\n",
    "\n",
    "$\\mathtt{xPowIp}_t = \\mathtt{aPowIpEload} \\times \\mathtt{yGasTelecLoad}_t$\n"
   ]
  },
  {
   "cell_type": "code",
   "execution_count": 20,
   "id": "3c1c7599",
   "metadata": {},
   "outputs": [
    {
     "data": {
      "text/plain": [
       "1-dimensional DenseAxisArray{ConstraintRef{Model, MathOptInterface.ConstraintIndex{MathOptInterface.ScalarAffineFunction{Float64}, MathOptInterface.EqualTo{Float64}}, ScalarShape},1,...} with index sets:\n",
       "    Dimension 1, 0:23\n",
       "And data, a 24-element Vector{ConstraintRef{Model, MathOptInterface.ConstraintIndex{MathOptInterface.ScalarAffineFunction{Float64}, MathOptInterface.EqualTo{Float64}}, ScalarShape}}:\n",
       " powIpEq[0] : -0.4702062453000054 yGasTelecLoad[0] + xPowIp[0] = 26.159721341999568\n",
       " powIpEq[1] : -0.4702062453000054 yGasTelecLoad[1] + xPowIp[1] = 26.159721341999568\n",
       " powIpEq[2] : -0.4702062453000054 yGasTelecLoad[2] + xPowIp[2] = 26.159721341999568\n",
       " powIpEq[3] : -0.4702062453000054 yGasTelecLoad[3] + xPowIp[3] = 26.159721341999568\n",
       " powIpEq[4] : -0.4702062453000054 yGasTelecLoad[4] + xPowIp[4] = 26.159721341999568\n",
       " powIpEq[5] : -0.4702062453000054 yGasTelecLoad[5] + xPowIp[5] = 26.159721341999568\n",
       " powIpEq[6] : -0.4702062453000054 yGasTelecLoad[6] + xPowIp[6] = 26.159721341999568\n",
       " powIpEq[7] : -0.4702062453000054 yGasTelecLoad[7] + xPowIp[7] = 26.159721341999568\n",
       " powIpEq[8] : -0.4702062453000054 yGasTelecLoad[8] + xPowIp[8] = 26.159721341999568\n",
       " powIpEq[9] : -0.4702062453000054 yGasTelecLoad[9] + xPowIp[9] = 26.159721341999568\n",
       " powIpEq[10] : -0.4702062453000054 yGasTelecLoad[10] + xPowIp[10] = 26.159721341999568\n",
       " powIpEq[11] : -0.4702062453000054 yGasTelecLoad[11] + xPowIp[11] = 26.159721341999568\n",
       " powIpEq[12] : -0.4702062453000054 yGasTelecLoad[12] + xPowIp[12] = 26.159721341999568\n",
       " powIpEq[13] : -0.4702062453000054 yGasTelecLoad[13] + xPowIp[13] = 26.159721341999568\n",
       " powIpEq[14] : -0.4702062453000054 yGasTelecLoad[14] + xPowIp[14] = 26.159721341999568\n",
       " powIpEq[15] : -0.4702062453000054 yGasTelecLoad[15] + xPowIp[15] = 26.159721341999568\n",
       " powIpEq[16] : -0.4702062453000054 yGasTelecLoad[16] + xPowIp[16] = 26.159721341999568\n",
       " powIpEq[17] : -0.4702062453000054 yGasTelecLoad[17] + xPowIp[17] = 26.159721341999568\n",
       " powIpEq[18] : -0.4702062453000054 yGasTelecLoad[18] + xPowIp[18] = 26.159721341999568\n",
       " powIpEq[19] : -0.4702062453000054 yGasTelecLoad[19] + xPowIp[19] = 26.159721341999568\n",
       " powIpEq[20] : -0.4702062453000054 yGasTelecLoad[20] + xPowIp[20] = 26.159721341999568\n",
       " powIpEq[21] : -0.4702062453000054 yGasTelecLoad[21] + xPowIp[21] = 26.159721341999568\n",
       " powIpEq[22] : -0.4702062453000054 yGasTelecLoad[22] + xPowIp[22] = 26.159721341999568\n",
       " powIpEq[23] : -0.4702062453000054 yGasTelecLoad[23] + xPowIp[23] = 26.159721341999568"
      ]
     },
     "execution_count": 20,
     "metadata": {},
     "output_type": "execute_result"
    }
   ],
   "source": [
    "@constraint(m, powIpEq[i = 0:tHorz - 1], \n",
    "            xPowIp[i] == aPowIpEload * yGasTelecLoad[i] + bPowIpEload\n",
    "           )"
   ]
  },
  {
   "cell_type": "markdown",
   "id": "14cf8f54",
   "metadata": {},
   "source": [
    "* Auxiliary power for Steam turbines\n",
    "\n",
    "$\\mathtt{xAuxPowSteaT}_t = \\mathtt{aAuxRateStea} \\times\\mathtt{yGasTelecLoad}_t$"
   ]
  },
  {
   "cell_type": "code",
   "execution_count": 21,
   "id": "f45a9ee5",
   "metadata": {
    "collapsed": true
   },
   "outputs": [
    {
     "data": {
      "text/plain": [
       "1-dimensional DenseAxisArray{ConstraintRef{Model, MathOptInterface.ConstraintIndex{MathOptInterface.ScalarAffineFunction{Float64}, MathOptInterface.EqualTo{Float64}}, ScalarShape},1,...} with index sets:\n",
       "    Dimension 1, 0:23\n",
       "And data, a 24-element Vector{ConstraintRef{Model, MathOptInterface.ConstraintIndex{MathOptInterface.ScalarAffineFunction{Float64}, MathOptInterface.EqualTo{Float64}}, ScalarShape}}:\n",
       " auxPowSteaTEq[0] : -0.032935694230000125 yGasTelecLoad[0] + xAuxPowSteaT[0] = 2.0083757979999906\n",
       " auxPowSteaTEq[1] : -0.032935694230000125 yGasTelecLoad[1] + xAuxPowSteaT[1] = 2.0083757979999906\n",
       " auxPowSteaTEq[2] : -0.032935694230000125 yGasTelecLoad[2] + xAuxPowSteaT[2] = 2.0083757979999906\n",
       " auxPowSteaTEq[3] : -0.032935694230000125 yGasTelecLoad[3] + xAuxPowSteaT[3] = 2.0083757979999906\n",
       " auxPowSteaTEq[4] : -0.032935694230000125 yGasTelecLoad[4] + xAuxPowSteaT[4] = 2.0083757979999906\n",
       " auxPowSteaTEq[5] : -0.032935694230000125 yGasTelecLoad[5] + xAuxPowSteaT[5] = 2.0083757979999906\n",
       " auxPowSteaTEq[6] : -0.032935694230000125 yGasTelecLoad[6] + xAuxPowSteaT[6] = 2.0083757979999906\n",
       " auxPowSteaTEq[7] : -0.032935694230000125 yGasTelecLoad[7] + xAuxPowSteaT[7] = 2.0083757979999906\n",
       " auxPowSteaTEq[8] : -0.032935694230000125 yGasTelecLoad[8] + xAuxPowSteaT[8] = 2.0083757979999906\n",
       " auxPowSteaTEq[9] : -0.032935694230000125 yGasTelecLoad[9] + xAuxPowSteaT[9] = 2.0083757979999906\n",
       " auxPowSteaTEq[10] : -0.032935694230000125 yGasTelecLoad[10] + xAuxPowSteaT[10] = 2.0083757979999906\n",
       " auxPowSteaTEq[11] : -0.032935694230000125 yGasTelecLoad[11] + xAuxPowSteaT[11] = 2.0083757979999906\n",
       " auxPowSteaTEq[12] : -0.032935694230000125 yGasTelecLoad[12] + xAuxPowSteaT[12] = 2.0083757979999906\n",
       " auxPowSteaTEq[13] : -0.032935694230000125 yGasTelecLoad[13] + xAuxPowSteaT[13] = 2.0083757979999906\n",
       " auxPowSteaTEq[14] : -0.032935694230000125 yGasTelecLoad[14] + xAuxPowSteaT[14] = 2.0083757979999906\n",
       " auxPowSteaTEq[15] : -0.032935694230000125 yGasTelecLoad[15] + xAuxPowSteaT[15] = 2.0083757979999906\n",
       " auxPowSteaTEq[16] : -0.032935694230000125 yGasTelecLoad[16] + xAuxPowSteaT[16] = 2.0083757979999906\n",
       " auxPowSteaTEq[17] : -0.032935694230000125 yGasTelecLoad[17] + xAuxPowSteaT[17] = 2.0083757979999906\n",
       " auxPowSteaTEq[18] : -0.032935694230000125 yGasTelecLoad[18] + xAuxPowSteaT[18] = 2.0083757979999906\n",
       " auxPowSteaTEq[19] : -0.032935694230000125 yGasTelecLoad[19] + xAuxPowSteaT[19] = 2.0083757979999906\n",
       " auxPowSteaTEq[20] : -0.032935694230000125 yGasTelecLoad[20] + xAuxPowSteaT[20] = 2.0083757979999906\n",
       " auxPowSteaTEq[21] : -0.032935694230000125 yGasTelecLoad[21] + xAuxPowSteaT[21] = 2.0083757979999906\n",
       " auxPowSteaTEq[22] : -0.032935694230000125 yGasTelecLoad[22] + xAuxPowSteaT[22] = 2.0083757979999906\n",
       " auxPowSteaTEq[23] : -0.032935694230000125 yGasTelecLoad[23] + xAuxPowSteaT[23] = 2.0083757979999906"
      ]
     },
     "execution_count": 21,
     "metadata": {},
     "output_type": "execute_result"
    }
   ],
   "source": [
    "@constraint(m, auxPowSteaTEq[i = 0:tHorz - 1],\n",
    "            xAuxPowSteaT[i] == aAuxRateStea * yGasTelecLoad[i] + bAuxRateStea \n",
    "           )"
   ]
  },
  {
   "cell_type": "markdown",
   "id": "cccd706d",
   "metadata": {},
   "source": [
    "## LP turbine and steam generation"
   ]
  },
  {
   "cell_type": "markdown",
   "id": "6f6907a9",
   "metadata": {},
   "source": [
    "* Power from LP turbine (configuration 1)\n",
    "\n",
    "$\\mathtt{xPowLp}_t = \\mathtt{aPowLpEload} \\times \\mathtt{yGasTelecLoad}_t$"
   ]
  },
  {
   "cell_type": "code",
   "execution_count": 22,
   "id": "e05f2ec9",
   "metadata": {
    "collapsed": true
   },
   "outputs": [
    {
     "data": {
      "text/plain": [
       "1-dimensional DenseAxisArray{ConstraintRef{Model, MathOptInterface.ConstraintIndex{MathOptInterface.ScalarAffineFunction{Float64}, MathOptInterface.EqualTo{Float64}}, ScalarShape},1,...} with index sets:\n",
       "    Dimension 1, 0:23\n",
       "And data, a 24-element Vector{ConstraintRef{Model, MathOptInterface.ConstraintIndex{MathOptInterface.ScalarAffineFunction{Float64}, MathOptInterface.EqualTo{Float64}}, ScalarShape}}:\n",
       " powLpEq[0] : -0.4558890884999999 yGasTelecLoad[0] + xPowLp[0] = 15.91436314200001\n",
       " powLpEq[1] : -0.4558890884999999 yGasTelecLoad[1] + xPowLp[1] = 15.91436314200001\n",
       " powLpEq[2] : -0.4558890884999999 yGasTelecLoad[2] + xPowLp[2] = 15.91436314200001\n",
       " powLpEq[3] : -0.4558890884999999 yGasTelecLoad[3] + xPowLp[3] = 15.91436314200001\n",
       " powLpEq[4] : -0.4558890884999999 yGasTelecLoad[4] + xPowLp[4] = 15.91436314200001\n",
       " powLpEq[5] : -0.4558890884999999 yGasTelecLoad[5] + xPowLp[5] = 15.91436314200001\n",
       " powLpEq[6] : -0.4558890884999999 yGasTelecLoad[6] + xPowLp[6] = 15.91436314200001\n",
       " powLpEq[7] : -0.4558890884999999 yGasTelecLoad[7] + xPowLp[7] = 15.91436314200001\n",
       " powLpEq[8] : -0.4558890884999999 yGasTelecLoad[8] + xPowLp[8] = 15.91436314200001\n",
       " powLpEq[9] : -0.4558890884999999 yGasTelecLoad[9] + xPowLp[9] = 15.91436314200001\n",
       " powLpEq[10] : -0.4558890884999999 yGasTelecLoad[10] + xPowLp[10] = 15.91436314200001\n",
       " powLpEq[11] : -0.4558890884999999 yGasTelecLoad[11] + xPowLp[11] = 15.91436314200001\n",
       " powLpEq[12] : -0.4558890884999999 yGasTelecLoad[12] + xPowLp[12] = 15.91436314200001\n",
       " powLpEq[13] : -0.4558890884999999 yGasTelecLoad[13] + xPowLp[13] = 15.91436314200001\n",
       " powLpEq[14] : -0.4558890884999999 yGasTelecLoad[14] + xPowLp[14] = 15.91436314200001\n",
       " powLpEq[15] : -0.4558890884999999 yGasTelecLoad[15] + xPowLp[15] = 15.91436314200001\n",
       " powLpEq[16] : -0.4558890884999999 yGasTelecLoad[16] + xPowLp[16] = 15.91436314200001\n",
       " powLpEq[17] : -0.4558890884999999 yGasTelecLoad[17] + xPowLp[17] = 15.91436314200001\n",
       " powLpEq[18] : -0.4558890884999999 yGasTelecLoad[18] + xPowLp[18] = 15.91436314200001\n",
       " powLpEq[19] : -0.4558890884999999 yGasTelecLoad[19] + xPowLp[19] = 15.91436314200001\n",
       " powLpEq[20] : -0.4558890884999999 yGasTelecLoad[20] + xPowLp[20] = 15.91436314200001\n",
       " powLpEq[21] : -0.4558890884999999 yGasTelecLoad[21] + xPowLp[21] = 15.91436314200001\n",
       " powLpEq[22] : -0.4558890884999999 yGasTelecLoad[22] + xPowLp[22] = 15.91436314200001\n",
       " powLpEq[23] : -0.4558890884999999 yGasTelecLoad[23] + xPowLp[23] = 15.91436314200001"
      ]
     },
     "execution_count": 22,
     "metadata": {},
     "output_type": "execute_result"
    }
   ],
   "source": [
    "@constraint(m, powLpEq[i = 0:tHorz - 1], \n",
    "            xPowLp[i] == aPowLpEload * yGasTelecLoad[i] + bPowLpEload\n",
    "           )"
   ]
  },
  {
   "cell_type": "markdown",
   "id": "e6c3267b",
   "metadata": {},
   "source": [
    "* Overall power generated from the turbines.\n",
    "\n",
    "$\\mathtt{xPowSteaTur}_t = \\mathtt{xPowHp}_t + \\mathtt{xPowIp}_t + \\mathtt{xPowLp}_t$"
   ]
  },
  {
   "cell_type": "code",
   "execution_count": 23,
   "id": "bd3fe9e6",
   "metadata": {
    "collapsed": true
   },
   "outputs": [
    {
     "data": {
      "text/plain": [
       "1-dimensional DenseAxisArray{ConstraintRef{Model, MathOptInterface.ConstraintIndex{MathOptInterface.ScalarAffineFunction{Float64}, MathOptInterface.EqualTo{Float64}}, ScalarShape},1,...} with index sets:\n",
       "    Dimension 1, 0:23\n",
       "And data, a 24-element Vector{ConstraintRef{Model, MathOptInterface.ConstraintIndex{MathOptInterface.ScalarAffineFunction{Float64}, MathOptInterface.EqualTo{Float64}}, ScalarShape}}:\n",
       " powerSteaEq[0] : -xPowHp[0] - xPowIp[0] - xPowLp[0] + xPowSteaTur[0] = 0.0\n",
       " powerSteaEq[1] : -xPowHp[1] - xPowIp[1] - xPowLp[1] + xPowSteaTur[1] = 0.0\n",
       " powerSteaEq[2] : -xPowHp[2] - xPowIp[2] - xPowLp[2] + xPowSteaTur[2] = 0.0\n",
       " powerSteaEq[3] : -xPowHp[3] - xPowIp[3] - xPowLp[3] + xPowSteaTur[3] = 0.0\n",
       " powerSteaEq[4] : -xPowHp[4] - xPowIp[4] - xPowLp[4] + xPowSteaTur[4] = 0.0\n",
       " powerSteaEq[5] : -xPowHp[5] - xPowIp[5] - xPowLp[5] + xPowSteaTur[5] = 0.0\n",
       " powerSteaEq[6] : -xPowHp[6] - xPowIp[6] - xPowLp[6] + xPowSteaTur[6] = 0.0\n",
       " powerSteaEq[7] : -xPowHp[7] - xPowIp[7] - xPowLp[7] + xPowSteaTur[7] = 0.0\n",
       " powerSteaEq[8] : -xPowHp[8] - xPowIp[8] - xPowLp[8] + xPowSteaTur[8] = 0.0\n",
       " powerSteaEq[9] : -xPowHp[9] - xPowIp[9] - xPowLp[9] + xPowSteaTur[9] = 0.0\n",
       " powerSteaEq[10] : -xPowHp[10] - xPowIp[10] - xPowLp[10] + xPowSteaTur[10] = 0.0\n",
       " powerSteaEq[11] : -xPowHp[11] - xPowIp[11] - xPowLp[11] + xPowSteaTur[11] = 0.0\n",
       " powerSteaEq[12] : -xPowHp[12] - xPowIp[12] - xPowLp[12] + xPowSteaTur[12] = 0.0\n",
       " powerSteaEq[13] : -xPowHp[13] - xPowIp[13] - xPowLp[13] + xPowSteaTur[13] = 0.0\n",
       " powerSteaEq[14] : -xPowHp[14] - xPowIp[14] - xPowLp[14] + xPowSteaTur[14] = 0.0\n",
       " powerSteaEq[15] : -xPowHp[15] - xPowIp[15] - xPowLp[15] + xPowSteaTur[15] = 0.0\n",
       " powerSteaEq[16] : -xPowHp[16] - xPowIp[16] - xPowLp[16] + xPowSteaTur[16] = 0.0\n",
       " powerSteaEq[17] : -xPowHp[17] - xPowIp[17] - xPowLp[17] + xPowSteaTur[17] = 0.0\n",
       " powerSteaEq[18] : -xPowHp[18] - xPowIp[18] - xPowLp[18] + xPowSteaTur[18] = 0.0\n",
       " powerSteaEq[19] : -xPowHp[19] - xPowIp[19] - xPowLp[19] + xPowSteaTur[19] = 0.0\n",
       " powerSteaEq[20] : -xPowHp[20] - xPowIp[20] - xPowLp[20] + xPowSteaTur[20] = 0.0\n",
       " powerSteaEq[21] : -xPowHp[21] - xPowIp[21] - xPowLp[21] + xPowSteaTur[21] = 0.0\n",
       " powerSteaEq[22] : -xPowHp[22] - xPowIp[22] - xPowLp[22] + xPowSteaTur[22] = 0.0\n",
       " powerSteaEq[23] : -xPowHp[23] - xPowIp[23] - xPowLp[23] + xPowSteaTur[23] = 0.0"
      ]
     },
     "execution_count": 23,
     "metadata": {},
     "output_type": "execute_result"
    }
   ],
   "source": [
    "@constraint(m, powerSteaEq[i = 0:tHorz - 1], \n",
    "            xPowSteaTur[i] == xPowHp[i] + xPowIp[i] + xPowLp[i])"
   ]
  },
  {
   "cell_type": "markdown",
   "id": "ea219077",
   "metadata": {},
   "source": [
    "* Available heat for the PCC reboiler.\n",
    "\n",
    "$\\mathtt{xCcRebDuty}_t = \\mathtt{aCcRebDutyEload} \\times \\mathtt{yGasTelecLoad}_t $"
   ]
  },
  {
   "cell_type": "code",
   "execution_count": 24,
   "id": "dc5826ad",
   "metadata": {},
   "outputs": [
    {
     "data": {
      "text/plain": [
       "1-dimensional DenseAxisArray{ConstraintRef{Model, MathOptInterface.ConstraintIndex{MathOptInterface.ScalarAffineFunction{Float64}, MathOptInterface.EqualTo{Float64}}, ScalarShape},1,...} with index sets:\n",
       "    Dimension 1, 0:23\n",
       "And data, a 24-element Vector{ConstraintRef{Model, MathOptInterface.ConstraintIndex{MathOptInterface.ScalarAffineFunction{Float64}, MathOptInterface.EqualTo{Float64}}, ScalarShape}}:\n",
       " ccRebDutyEq[0] : -3.7200000000000233 yGasTelecLoad[0] + xCcRebDuty[0] = 335.59999999999815\n",
       " ccRebDutyEq[1] : -3.7200000000000233 yGasTelecLoad[1] + xCcRebDuty[1] = 335.59999999999815\n",
       " ccRebDutyEq[2] : -3.7200000000000233 yGasTelecLoad[2] + xCcRebDuty[2] = 335.59999999999815\n",
       " ccRebDutyEq[3] : -3.7200000000000233 yGasTelecLoad[3] + xCcRebDuty[3] = 335.59999999999815\n",
       " ccRebDutyEq[4] : -3.7200000000000233 yGasTelecLoad[4] + xCcRebDuty[4] = 335.59999999999815\n",
       " ccRebDutyEq[5] : -3.7200000000000233 yGasTelecLoad[5] + xCcRebDuty[5] = 335.59999999999815\n",
       " ccRebDutyEq[6] : -3.7200000000000233 yGasTelecLoad[6] + xCcRebDuty[6] = 335.59999999999815\n",
       " ccRebDutyEq[7] : -3.7200000000000233 yGasTelecLoad[7] + xCcRebDuty[7] = 335.59999999999815\n",
       " ccRebDutyEq[8] : -3.7200000000000233 yGasTelecLoad[8] + xCcRebDuty[8] = 335.59999999999815\n",
       " ccRebDutyEq[9] : -3.7200000000000233 yGasTelecLoad[9] + xCcRebDuty[9] = 335.59999999999815\n",
       " ccRebDutyEq[10] : -3.7200000000000233 yGasTelecLoad[10] + xCcRebDuty[10] = 335.59999999999815\n",
       " ccRebDutyEq[11] : -3.7200000000000233 yGasTelecLoad[11] + xCcRebDuty[11] = 335.59999999999815\n",
       " ccRebDutyEq[12] : -3.7200000000000233 yGasTelecLoad[12] + xCcRebDuty[12] = 335.59999999999815\n",
       " ccRebDutyEq[13] : -3.7200000000000233 yGasTelecLoad[13] + xCcRebDuty[13] = 335.59999999999815\n",
       " ccRebDutyEq[14] : -3.7200000000000233 yGasTelecLoad[14] + xCcRebDuty[14] = 335.59999999999815\n",
       " ccRebDutyEq[15] : -3.7200000000000233 yGasTelecLoad[15] + xCcRebDuty[15] = 335.59999999999815\n",
       " ccRebDutyEq[16] : -3.7200000000000233 yGasTelecLoad[16] + xCcRebDuty[16] = 335.59999999999815\n",
       " ccRebDutyEq[17] : -3.7200000000000233 yGasTelecLoad[17] + xCcRebDuty[17] = 335.59999999999815\n",
       " ccRebDutyEq[18] : -3.7200000000000233 yGasTelecLoad[18] + xCcRebDuty[18] = 335.59999999999815\n",
       " ccRebDutyEq[19] : -3.7200000000000233 yGasTelecLoad[19] + xCcRebDuty[19] = 335.59999999999815\n",
       " ccRebDutyEq[20] : -3.7200000000000233 yGasTelecLoad[20] + xCcRebDuty[20] = 335.59999999999815\n",
       " ccRebDutyEq[21] : -3.7200000000000233 yGasTelecLoad[21] + xCcRebDuty[21] = 335.59999999999815\n",
       " ccRebDutyEq[22] : -3.7200000000000233 yGasTelecLoad[22] + xCcRebDuty[22] = 335.59999999999815\n",
       " ccRebDutyEq[23] : -3.7200000000000233 yGasTelecLoad[23] + xCcRebDuty[23] = 335.59999999999815"
      ]
     },
     "execution_count": 24,
     "metadata": {},
     "output_type": "execute_result"
    }
   ],
   "source": [
    "@constraint(m, ccRebDutyEq[i = 0:tHorz - 1],\n",
    "            xCcRebDuty[i] == aCcRebDutyEload * yGasTelecLoad[i] + bCcRebDutyEload\n",
    "           )"
   ]
  },
  {
   "cell_type": "markdown",
   "id": "3089e45b",
   "metadata": {},
   "source": [
    "* Steam generated for DAC.\n",
    "\n",
    "$\\mathtt{xDacSteaDuty}_t = \\mathtt{aDacSteaEload} \\times \\mathtt{yGasTelecLoad}_t$"
   ]
  },
  {
   "cell_type": "code",
   "execution_count": 25,
   "id": "b4c48366",
   "metadata": {},
   "outputs": [
    {
     "data": {
      "text/plain": [
       "1-dimensional DenseAxisArray{ConstraintRef{Model, MathOptInterface.ConstraintIndex{MathOptInterface.ScalarAffineFunction{Float64}, MathOptInterface.EqualTo{Float64}}, ScalarShape},1,...} with index sets:\n",
       "    Dimension 1, 0:23\n",
       "And data, a 24-element Vector{ConstraintRef{Model, MathOptInterface.ConstraintIndex{MathOptInterface.ScalarAffineFunction{Float64}, MathOptInterface.EqualTo{Float64}}, ScalarShape}}:\n",
       " dacSteaDutyEq[0] : -1.3386120679999969 yGasTelecLoad[0] + xDacSteaDuty[0] = 55.04318128000024\n",
       " dacSteaDutyEq[1] : -1.3386120679999969 yGasTelecLoad[1] + xDacSteaDuty[1] = 55.04318128000024\n",
       " dacSteaDutyEq[2] : -1.3386120679999969 yGasTelecLoad[2] + xDacSteaDuty[2] = 55.04318128000024\n",
       " dacSteaDutyEq[3] : -1.3386120679999969 yGasTelecLoad[3] + xDacSteaDuty[3] = 55.04318128000024\n",
       " dacSteaDutyEq[4] : -1.3386120679999969 yGasTelecLoad[4] + xDacSteaDuty[4] = 55.04318128000024\n",
       " dacSteaDutyEq[5] : -1.3386120679999969 yGasTelecLoad[5] + xDacSteaDuty[5] = 55.04318128000024\n",
       " dacSteaDutyEq[6] : -1.3386120679999969 yGasTelecLoad[6] + xDacSteaDuty[6] = 55.04318128000024\n",
       " dacSteaDutyEq[7] : -1.3386120679999969 yGasTelecLoad[7] + xDacSteaDuty[7] = 55.04318128000024\n",
       " dacSteaDutyEq[8] : -1.3386120679999969 yGasTelecLoad[8] + xDacSteaDuty[8] = 55.04318128000024\n",
       " dacSteaDutyEq[9] : -1.3386120679999969 yGasTelecLoad[9] + xDacSteaDuty[9] = 55.04318128000024\n",
       " dacSteaDutyEq[10] : -1.3386120679999969 yGasTelecLoad[10] + xDacSteaDuty[10] = 55.04318128000024\n",
       " dacSteaDutyEq[11] : -1.3386120679999969 yGasTelecLoad[11] + xDacSteaDuty[11] = 55.04318128000024\n",
       " dacSteaDutyEq[12] : -1.3386120679999969 yGasTelecLoad[12] + xDacSteaDuty[12] = 55.04318128000024\n",
       " dacSteaDutyEq[13] : -1.3386120679999969 yGasTelecLoad[13] + xDacSteaDuty[13] = 55.04318128000024\n",
       " dacSteaDutyEq[14] : -1.3386120679999969 yGasTelecLoad[14] + xDacSteaDuty[14] = 55.04318128000024\n",
       " dacSteaDutyEq[15] : -1.3386120679999969 yGasTelecLoad[15] + xDacSteaDuty[15] = 55.04318128000024\n",
       " dacSteaDutyEq[16] : -1.3386120679999969 yGasTelecLoad[16] + xDacSteaDuty[16] = 55.04318128000024\n",
       " dacSteaDutyEq[17] : -1.3386120679999969 yGasTelecLoad[17] + xDacSteaDuty[17] = 55.04318128000024\n",
       " dacSteaDutyEq[18] : -1.3386120679999969 yGasTelecLoad[18] + xDacSteaDuty[18] = 55.04318128000024\n",
       " dacSteaDutyEq[19] : -1.3386120679999969 yGasTelecLoad[19] + xDacSteaDuty[19] = 55.04318128000024\n",
       " dacSteaDutyEq[20] : -1.3386120679999969 yGasTelecLoad[20] + xDacSteaDuty[20] = 55.04318128000024\n",
       " dacSteaDutyEq[21] : -1.3386120679999969 yGasTelecLoad[21] + xDacSteaDuty[21] = 55.04318128000024\n",
       " dacSteaDutyEq[22] : -1.3386120679999969 yGasTelecLoad[22] + xDacSteaDuty[22] = 55.04318128000024\n",
       " dacSteaDutyEq[23] : -1.3386120679999969 yGasTelecLoad[23] + xDacSteaDuty[23] = 55.04318128000024"
      ]
     },
     "execution_count": 25,
     "metadata": {},
     "output_type": "execute_result"
    }
   ],
   "source": [
    "@constraint(m, dacSteaDutyEq[i = 0:tHorz - 1],\n",
    "            xDacSteaDuty[i] == aDacSteaEload * yGasTelecLoad[i] + bDacSteaEload\n",
    "           )"
   ]
  },
  {
   "cell_type": "markdown",
   "id": "a0a47a15",
   "metadata": {},
   "source": [
    "## PCC"
   ]
  },
  {
   "cell_type": "markdown",
   "id": "fb826a24",
   "metadata": {},
   "source": [
    "* Capacity of the PCC\n",
    "\n",
    "$\\mathtt{xCO2CapPcc}_t = \\mathtt{pCo2PccCapRate} \\times \\mathtt{xCo2GasT}_t$"
   ]
  },
  {
   "cell_type": "code",
   "execution_count": 26,
   "id": "d842f477",
   "metadata": {},
   "outputs": [
    {
     "data": {
      "text/plain": [
       "1-dimensional DenseAxisArray{ConstraintRef{Model, MathOptInterface.ConstraintIndex{MathOptInterface.ScalarAffineFunction{Float64}, MathOptInterface.EqualTo{Float64}}, ScalarShape},1,...} with index sets:\n",
       "    Dimension 1, 0:23\n",
       "And data, a 24-element Vector{ConstraintRef{Model, MathOptInterface.ConstraintIndex{MathOptInterface.ScalarAffineFunction{Float64}, MathOptInterface.EqualTo{Float64}}, ScalarShape}}:\n",
       " co2CapPccEq[0] : -0.5 xCo2Fuel[0] + xCo2CapPcc[0] = 0.0\n",
       " co2CapPccEq[1] : -0.5 xCo2Fuel[1] + xCo2CapPcc[1] = 0.0\n",
       " co2CapPccEq[2] : -0.5 xCo2Fuel[2] + xCo2CapPcc[2] = 0.0\n",
       " co2CapPccEq[3] : -0.5 xCo2Fuel[3] + xCo2CapPcc[3] = 0.0\n",
       " co2CapPccEq[4] : -0.5 xCo2Fuel[4] + xCo2CapPcc[4] = 0.0\n",
       " co2CapPccEq[5] : -0.5 xCo2Fuel[5] + xCo2CapPcc[5] = 0.0\n",
       " co2CapPccEq[6] : -0.5 xCo2Fuel[6] + xCo2CapPcc[6] = 0.0\n",
       " co2CapPccEq[7] : -0.5 xCo2Fuel[7] + xCo2CapPcc[7] = 0.0\n",
       " co2CapPccEq[8] : -0.5 xCo2Fuel[8] + xCo2CapPcc[8] = 0.0\n",
       " co2CapPccEq[9] : -0.5 xCo2Fuel[9] + xCo2CapPcc[9] = 0.0\n",
       " co2CapPccEq[10] : -0.5 xCo2Fuel[10] + xCo2CapPcc[10] = 0.0\n",
       " co2CapPccEq[11] : -0.5 xCo2Fuel[11] + xCo2CapPcc[11] = 0.0\n",
       " co2CapPccEq[12] : -0.5 xCo2Fuel[12] + xCo2CapPcc[12] = 0.0\n",
       " co2CapPccEq[13] : -0.5 xCo2Fuel[13] + xCo2CapPcc[13] = 0.0\n",
       " co2CapPccEq[14] : -0.5 xCo2Fuel[14] + xCo2CapPcc[14] = 0.0\n",
       " co2CapPccEq[15] : -0.5 xCo2Fuel[15] + xCo2CapPcc[15] = 0.0\n",
       " co2CapPccEq[16] : -0.5 xCo2Fuel[16] + xCo2CapPcc[16] = 0.0\n",
       " co2CapPccEq[17] : -0.5 xCo2Fuel[17] + xCo2CapPcc[17] = 0.0\n",
       " co2CapPccEq[18] : -0.5 xCo2Fuel[18] + xCo2CapPcc[18] = 0.0\n",
       " co2CapPccEq[19] : -0.5 xCo2Fuel[19] + xCo2CapPcc[19] = 0.0\n",
       " co2CapPccEq[20] : -0.5 xCo2Fuel[20] + xCo2CapPcc[20] = 0.0\n",
       " co2CapPccEq[21] : -0.5 xCo2Fuel[21] + xCo2CapPcc[21] = 0.0\n",
       " co2CapPccEq[22] : -0.5 xCo2Fuel[22] + xCo2CapPcc[22] = 0.0\n",
       " co2CapPccEq[23] : -0.5 xCo2Fuel[23] + xCo2CapPcc[23] = 0.0"
      ]
     },
     "execution_count": 26,
     "metadata": {},
     "output_type": "execute_result"
    }
   ],
   "source": [
    "@constraint(m, co2CapPccEq[i = 0:tHorz - 1], \n",
    "            xCo2CapPcc[i] == aCapRatePcc * xCo2Fuel[i])"
   ]
  },
  {
   "cell_type": "markdown",
   "id": "69525d3f",
   "metadata": {},
   "source": [
    "* Amount of outlet CO2 from PCC\n",
    "\n",
    "$\\mathtt{xCo2PccOut}_t = \\mathtt{xCo2Fuel}_{t} - \\mathtt{xCo2CapPcc}_{t}$"
   ]
  },
  {
   "cell_type": "code",
   "execution_count": 27,
   "id": "03aebbe1",
   "metadata": {},
   "outputs": [
    {
     "data": {
      "text/plain": [
       "1-dimensional DenseAxisArray{ConstraintRef{Model, MathOptInterface.ConstraintIndex{MathOptInterface.ScalarAffineFunction{Float64}, MathOptInterface.EqualTo{Float64}}, ScalarShape},1,...} with index sets:\n",
       "    Dimension 1, 0:23\n",
       "And data, a 24-element Vector{ConstraintRef{Model, MathOptInterface.ConstraintIndex{MathOptInterface.ScalarAffineFunction{Float64}, MathOptInterface.EqualTo{Float64}}, ScalarShape}}:\n",
       " co2PccOutEq[0] : -xCo2Fuel[0] + xCo2CapPcc[0] + xCo2PccOut[0] = 0.0\n",
       " co2PccOutEq[1] : -xCo2Fuel[1] + xCo2CapPcc[1] + xCo2PccOut[1] = 0.0\n",
       " co2PccOutEq[2] : -xCo2Fuel[2] + xCo2CapPcc[2] + xCo2PccOut[2] = 0.0\n",
       " co2PccOutEq[3] : -xCo2Fuel[3] + xCo2CapPcc[3] + xCo2PccOut[3] = 0.0\n",
       " co2PccOutEq[4] : -xCo2Fuel[4] + xCo2CapPcc[4] + xCo2PccOut[4] = 0.0\n",
       " co2PccOutEq[5] : -xCo2Fuel[5] + xCo2CapPcc[5] + xCo2PccOut[5] = 0.0\n",
       " co2PccOutEq[6] : -xCo2Fuel[6] + xCo2CapPcc[6] + xCo2PccOut[6] = 0.0\n",
       " co2PccOutEq[7] : -xCo2Fuel[7] + xCo2CapPcc[7] + xCo2PccOut[7] = 0.0\n",
       " co2PccOutEq[8] : -xCo2Fuel[8] + xCo2CapPcc[8] + xCo2PccOut[8] = 0.0\n",
       " co2PccOutEq[9] : -xCo2Fuel[9] + xCo2CapPcc[9] + xCo2PccOut[9] = 0.0\n",
       " co2PccOutEq[10] : -xCo2Fuel[10] + xCo2CapPcc[10] + xCo2PccOut[10] = 0.0\n",
       " co2PccOutEq[11] : -xCo2Fuel[11] + xCo2CapPcc[11] + xCo2PccOut[11] = 0.0\n",
       " co2PccOutEq[12] : -xCo2Fuel[12] + xCo2CapPcc[12] + xCo2PccOut[12] = 0.0\n",
       " co2PccOutEq[13] : -xCo2Fuel[13] + xCo2CapPcc[13] + xCo2PccOut[13] = 0.0\n",
       " co2PccOutEq[14] : -xCo2Fuel[14] + xCo2CapPcc[14] + xCo2PccOut[14] = 0.0\n",
       " co2PccOutEq[15] : -xCo2Fuel[15] + xCo2CapPcc[15] + xCo2PccOut[15] = 0.0\n",
       " co2PccOutEq[16] : -xCo2Fuel[16] + xCo2CapPcc[16] + xCo2PccOut[16] = 0.0\n",
       " co2PccOutEq[17] : -xCo2Fuel[17] + xCo2CapPcc[17] + xCo2PccOut[17] = 0.0\n",
       " co2PccOutEq[18] : -xCo2Fuel[18] + xCo2CapPcc[18] + xCo2PccOut[18] = 0.0\n",
       " co2PccOutEq[19] : -xCo2Fuel[19] + xCo2CapPcc[19] + xCo2PccOut[19] = 0.0\n",
       " co2PccOutEq[20] : -xCo2Fuel[20] + xCo2CapPcc[20] + xCo2PccOut[20] = 0.0\n",
       " co2PccOutEq[21] : -xCo2Fuel[21] + xCo2CapPcc[21] + xCo2PccOut[21] = 0.0\n",
       " co2PccOutEq[22] : -xCo2Fuel[22] + xCo2CapPcc[22] + xCo2PccOut[22] = 0.0\n",
       " co2PccOutEq[23] : -xCo2Fuel[23] + xCo2CapPcc[23] + xCo2PccOut[23] = 0.0"
      ]
     },
     "execution_count": 27,
     "metadata": {},
     "output_type": "execute_result"
    }
   ],
   "source": [
    "@constraint(m, co2PccOutEq[i = 0:tHorz - 1], \n",
    "            xCo2PccOut[i] == xCo2Fuel[i] - xCo2CapPcc[i])"
   ]
  },
  {
   "cell_type": "markdown",
   "id": "f9449bd1",
   "metadata": {},
   "source": [
    "* Amount of CO2 that goes into the DAC\n",
    "\n",
    "$\\mathtt{xCo2DacFlueIn}_{t} = \\mathtt{xCo2PccOut}_t - \\mathtt{yCo2PccVent}_t$"
   ]
  },
  {
   "cell_type": "code",
   "execution_count": 28,
   "id": "737fce9e",
   "metadata": {},
   "outputs": [
    {
     "data": {
      "text/plain": [
       "1-dimensional DenseAxisArray{ConstraintRef{Model, MathOptInterface.ConstraintIndex{MathOptInterface.ScalarAffineFunction{Float64}, MathOptInterface.EqualTo{Float64}}, ScalarShape},1,...} with index sets:\n",
       "    Dimension 1, 0:23\n",
       "And data, a 24-element Vector{ConstraintRef{Model, MathOptInterface.ConstraintIndex{MathOptInterface.ScalarAffineFunction{Float64}, MathOptInterface.EqualTo{Float64}}, ScalarShape}}:\n",
       " co2DacFlueInEq[0] : -xCo2PccOut[0] + vCo2PccVent[0] + xCo2DacFlueIn[0] = 0.0\n",
       " co2DacFlueInEq[1] : -xCo2PccOut[1] + vCo2PccVent[1] + xCo2DacFlueIn[1] = 0.0\n",
       " co2DacFlueInEq[2] : -xCo2PccOut[2] + vCo2PccVent[2] + xCo2DacFlueIn[2] = 0.0\n",
       " co2DacFlueInEq[3] : -xCo2PccOut[3] + vCo2PccVent[3] + xCo2DacFlueIn[3] = 0.0\n",
       " co2DacFlueInEq[4] : -xCo2PccOut[4] + vCo2PccVent[4] + xCo2DacFlueIn[4] = 0.0\n",
       " co2DacFlueInEq[5] : -xCo2PccOut[5] + vCo2PccVent[5] + xCo2DacFlueIn[5] = 0.0\n",
       " co2DacFlueInEq[6] : -xCo2PccOut[6] + vCo2PccVent[6] + xCo2DacFlueIn[6] = 0.0\n",
       " co2DacFlueInEq[7] : -xCo2PccOut[7] + vCo2PccVent[7] + xCo2DacFlueIn[7] = 0.0\n",
       " co2DacFlueInEq[8] : -xCo2PccOut[8] + vCo2PccVent[8] + xCo2DacFlueIn[8] = 0.0\n",
       " co2DacFlueInEq[9] : -xCo2PccOut[9] + vCo2PccVent[9] + xCo2DacFlueIn[9] = 0.0\n",
       " co2DacFlueInEq[10] : -xCo2PccOut[10] + vCo2PccVent[10] + xCo2DacFlueIn[10] = 0.0\n",
       " co2DacFlueInEq[11] : -xCo2PccOut[11] + vCo2PccVent[11] + xCo2DacFlueIn[11] = 0.0\n",
       " co2DacFlueInEq[12] : -xCo2PccOut[12] + vCo2PccVent[12] + xCo2DacFlueIn[12] = 0.0\n",
       " co2DacFlueInEq[13] : -xCo2PccOut[13] + vCo2PccVent[13] + xCo2DacFlueIn[13] = 0.0\n",
       " co2DacFlueInEq[14] : -xCo2PccOut[14] + vCo2PccVent[14] + xCo2DacFlueIn[14] = 0.0\n",
       " co2DacFlueInEq[15] : -xCo2PccOut[15] + vCo2PccVent[15] + xCo2DacFlueIn[15] = 0.0\n",
       " co2DacFlueInEq[16] : -xCo2PccOut[16] + vCo2PccVent[16] + xCo2DacFlueIn[16] = 0.0\n",
       " co2DacFlueInEq[17] : -xCo2PccOut[17] + vCo2PccVent[17] + xCo2DacFlueIn[17] = 0.0\n",
       " co2DacFlueInEq[18] : -xCo2PccOut[18] + vCo2PccVent[18] + xCo2DacFlueIn[18] = 0.0\n",
       " co2DacFlueInEq[19] : -xCo2PccOut[19] + vCo2PccVent[19] + xCo2DacFlueIn[19] = 0.0\n",
       " co2DacFlueInEq[20] : -xCo2PccOut[20] + vCo2PccVent[20] + xCo2DacFlueIn[20] = 0.0\n",
       " co2DacFlueInEq[21] : -xCo2PccOut[21] + vCo2PccVent[21] + xCo2DacFlueIn[21] = 0.0\n",
       " co2DacFlueInEq[22] : -xCo2PccOut[22] + vCo2PccVent[22] + xCo2DacFlueIn[22] = 0.0\n",
       " co2DacFlueInEq[23] : -xCo2PccOut[23] + vCo2PccVent[23] + xCo2DacFlueIn[23] = 0.0"
      ]
     },
     "execution_count": 28,
     "metadata": {},
     "output_type": "execute_result"
    }
   ],
   "source": [
    "@constraint(m, co2DacFlueInEq[i = 0:tHorz - 1], \n",
    "            xCo2DacFlueIn[i] == xCo2PccOut[i] - vCo2PccVent[i])"
   ]
  },
  {
   "cell_type": "markdown",
   "id": "cc46d214",
   "metadata": {},
   "source": [
    "* Steam used by the PCC reboiler.\n",
    "\n",
    "$\\mathtt{xSteaUsePcc}_t = \\mathtt{aSteaUseRatePcc} \\times \\mathtt{xCo2CapPcc}_t$"
   ]
  },
  {
   "cell_type": "code",
   "execution_count": 29,
   "id": "acab7577",
   "metadata": {},
   "outputs": [
    {
     "data": {
      "text/plain": [
       "1-dimensional DenseAxisArray{ConstraintRef{Model, MathOptInterface.ConstraintIndex{MathOptInterface.ScalarAffineFunction{Float64}, MathOptInterface.EqualTo{Float64}}, ScalarShape},1,...} with index sets:\n",
       "    Dimension 1, 0:23\n",
       "And data, a 24-element Vector{ConstraintRef{Model, MathOptInterface.ConstraintIndex{MathOptInterface.ScalarAffineFunction{Float64}, MathOptInterface.EqualTo{Float64}}, ScalarShape}}:\n",
       " steamUsePccEq[0] : -4.64324234588928 xCo2CapPcc[0] + xSteaUsePcc[0] = 0.0\n",
       " steamUsePccEq[1] : -4.64324234588928 xCo2CapPcc[1] + xSteaUsePcc[1] = 0.0\n",
       " steamUsePccEq[2] : -4.64324234588928 xCo2CapPcc[2] + xSteaUsePcc[2] = 0.0\n",
       " steamUsePccEq[3] : -4.64324234588928 xCo2CapPcc[3] + xSteaUsePcc[3] = 0.0\n",
       " steamUsePccEq[4] : -4.64324234588928 xCo2CapPcc[4] + xSteaUsePcc[4] = 0.0\n",
       " steamUsePccEq[5] : -4.64324234588928 xCo2CapPcc[5] + xSteaUsePcc[5] = 0.0\n",
       " steamUsePccEq[6] : -4.64324234588928 xCo2CapPcc[6] + xSteaUsePcc[6] = 0.0\n",
       " steamUsePccEq[7] : -4.64324234588928 xCo2CapPcc[7] + xSteaUsePcc[7] = 0.0\n",
       " steamUsePccEq[8] : -4.64324234588928 xCo2CapPcc[8] + xSteaUsePcc[8] = 0.0\n",
       " steamUsePccEq[9] : -4.64324234588928 xCo2CapPcc[9] + xSteaUsePcc[9] = 0.0\n",
       " steamUsePccEq[10] : -4.64324234588928 xCo2CapPcc[10] + xSteaUsePcc[10] = 0.0\n",
       " steamUsePccEq[11] : -4.64324234588928 xCo2CapPcc[11] + xSteaUsePcc[11] = 0.0\n",
       " steamUsePccEq[12] : -4.64324234588928 xCo2CapPcc[12] + xSteaUsePcc[12] = 0.0\n",
       " steamUsePccEq[13] : -4.64324234588928 xCo2CapPcc[13] + xSteaUsePcc[13] = 0.0\n",
       " steamUsePccEq[14] : -4.64324234588928 xCo2CapPcc[14] + xSteaUsePcc[14] = 0.0\n",
       " steamUsePccEq[15] : -4.64324234588928 xCo2CapPcc[15] + xSteaUsePcc[15] = 0.0\n",
       " steamUsePccEq[16] : -4.64324234588928 xCo2CapPcc[16] + xSteaUsePcc[16] = 0.0\n",
       " steamUsePccEq[17] : -4.64324234588928 xCo2CapPcc[17] + xSteaUsePcc[17] = 0.0\n",
       " steamUsePccEq[18] : -4.64324234588928 xCo2CapPcc[18] + xSteaUsePcc[18] = 0.0\n",
       " steamUsePccEq[19] : -4.64324234588928 xCo2CapPcc[19] + xSteaUsePcc[19] = 0.0\n",
       " steamUsePccEq[20] : -4.64324234588928 xCo2CapPcc[20] + xSteaUsePcc[20] = 0.0\n",
       " steamUsePccEq[21] : -4.64324234588928 xCo2CapPcc[21] + xSteaUsePcc[21] = 0.0\n",
       " steamUsePccEq[22] : -4.64324234588928 xCo2CapPcc[22] + xSteaUsePcc[22] = 0.0\n",
       " steamUsePccEq[23] : -4.64324234588928 xCo2CapPcc[23] + xSteaUsePcc[23] = 0.0"
      ]
     },
     "execution_count": 29,
     "metadata": {},
     "output_type": "execute_result"
    }
   ],
   "source": [
    "@constraint(m, steamUsePccEq[i = 0:tHorz - 1], \n",
    "            xSteaUsePcc[i] == aSteaUseRatePcc * xCo2CapPcc[i])"
   ]
  },
  {
   "cell_type": "markdown",
   "id": "40abcd45",
   "metadata": {},
   "source": [
    "* Amount of power consumed by the PCC\n",
    "\n"
   ]
  },
  {
   "cell_type": "code",
   "execution_count": 30,
   "id": "c77b4b42",
   "metadata": {},
   "outputs": [
    {
     "data": {
      "text/plain": [
       "1-dimensional DenseAxisArray{ConstraintRef{Model, MathOptInterface.ConstraintIndex{MathOptInterface.ScalarAffineFunction{Float64}, MathOptInterface.EqualTo{Float64}}, ScalarShape},1,...} with index sets:\n",
       "    Dimension 1, 0:23\n",
       "And data, a 24-element Vector{ConstraintRef{Model, MathOptInterface.ConstraintIndex{MathOptInterface.ScalarAffineFunction{Float64}, MathOptInterface.EqualTo{Float64}}, ScalarShape}}:\n",
       " powerUsePccEq[0] : -2.5 xCo2CapPcc[0] + xPowUsePcc[0] = 0.0\n",
       " powerUsePccEq[1] : -2.5 xCo2CapPcc[1] + xPowUsePcc[1] = 0.0\n",
       " powerUsePccEq[2] : -2.5 xCo2CapPcc[2] + xPowUsePcc[2] = 0.0\n",
       " powerUsePccEq[3] : -2.5 xCo2CapPcc[3] + xPowUsePcc[3] = 0.0\n",
       " powerUsePccEq[4] : -2.5 xCo2CapPcc[4] + xPowUsePcc[4] = 0.0\n",
       " powerUsePccEq[5] : -2.5 xCo2CapPcc[5] + xPowUsePcc[5] = 0.0\n",
       " powerUsePccEq[6] : -2.5 xCo2CapPcc[6] + xPowUsePcc[6] = 0.0\n",
       " powerUsePccEq[7] : -2.5 xCo2CapPcc[7] + xPowUsePcc[7] = 0.0\n",
       " powerUsePccEq[8] : -2.5 xCo2CapPcc[8] + xPowUsePcc[8] = 0.0\n",
       " powerUsePccEq[9] : -2.5 xCo2CapPcc[9] + xPowUsePcc[9] = 0.0\n",
       " powerUsePccEq[10] : -2.5 xCo2CapPcc[10] + xPowUsePcc[10] = 0.0\n",
       " powerUsePccEq[11] : -2.5 xCo2CapPcc[11] + xPowUsePcc[11] = 0.0\n",
       " powerUsePccEq[12] : -2.5 xCo2CapPcc[12] + xPowUsePcc[12] = 0.0\n",
       " powerUsePccEq[13] : -2.5 xCo2CapPcc[13] + xPowUsePcc[13] = 0.0\n",
       " powerUsePccEq[14] : -2.5 xCo2CapPcc[14] + xPowUsePcc[14] = 0.0\n",
       " powerUsePccEq[15] : -2.5 xCo2CapPcc[15] + xPowUsePcc[15] = 0.0\n",
       " powerUsePccEq[16] : -2.5 xCo2CapPcc[16] + xPowUsePcc[16] = 0.0\n",
       " powerUsePccEq[17] : -2.5 xCo2CapPcc[17] + xPowUsePcc[17] = 0.0\n",
       " powerUsePccEq[18] : -2.5 xCo2CapPcc[18] + xPowUsePcc[18] = 0.0\n",
       " powerUsePccEq[19] : -2.5 xCo2CapPcc[19] + xPowUsePcc[19] = 0.0\n",
       " powerUsePccEq[20] : -2.5 xCo2CapPcc[20] + xPowUsePcc[20] = 0.0\n",
       " powerUsePccEq[21] : -2.5 xCo2CapPcc[21] + xPowUsePcc[21] = 0.0\n",
       " powerUsePccEq[22] : -2.5 xCo2CapPcc[22] + xPowUsePcc[22] = 0.0\n",
       " powerUsePccEq[23] : -2.5 xCo2CapPcc[23] + xPowUsePcc[23] = 0.0"
      ]
     },
     "execution_count": 30,
     "metadata": {},
     "output_type": "execute_result"
    }
   ],
   "source": [
    "@constraint(m, powerUsePccEq[i = 0:tHorz - 1], \n",
    "            xPowUsePcc[i] == aPowUseRatePcc * xCo2CapPcc[i])"
   ]
  },
  {
   "cell_type": "markdown",
   "id": "853723bf",
   "metadata": {},
   "source": [
    "* Remaining Steam available for the PCC\n",
    "\n",
    "$\\mathtt{xPowUsePcc}_t = \\mathtt{aPowUseRatePcc} \\times \\mathtt{xCo2CapPcc}_t$"
   ]
  },
  {
   "cell_type": "code",
   "execution_count": 31,
   "id": "ca71f543",
   "metadata": {},
   "outputs": [
    {
     "data": {
      "text/plain": [
       "1-dimensional DenseAxisArray{ConstraintRef{Model, MathOptInterface.ConstraintIndex{MathOptInterface.ScalarAffineFunction{Float64}, MathOptInterface.EqualTo{Float64}}, ScalarShape},1,...} with index sets:\n",
       "    Dimension 1, 0:23\n",
       "And data, a 24-element Vector{ConstraintRef{Model, MathOptInterface.ConstraintIndex{MathOptInterface.ScalarAffineFunction{Float64}, MathOptInterface.EqualTo{Float64}}, ScalarShape}}:\n",
       " pccSteaSlack[0] : -xCcRebDuty[0] + xSteaUsePcc[0] + xPccSteaSlack[0] = 0.0\n",
       " pccSteaSlack[1] : -xCcRebDuty[1] + xSteaUsePcc[1] + xPccSteaSlack[1] = 0.0\n",
       " pccSteaSlack[2] : -xCcRebDuty[2] + xSteaUsePcc[2] + xPccSteaSlack[2] = 0.0\n",
       " pccSteaSlack[3] : -xCcRebDuty[3] + xSteaUsePcc[3] + xPccSteaSlack[3] = 0.0\n",
       " pccSteaSlack[4] : -xCcRebDuty[4] + xSteaUsePcc[4] + xPccSteaSlack[4] = 0.0\n",
       " pccSteaSlack[5] : -xCcRebDuty[5] + xSteaUsePcc[5] + xPccSteaSlack[5] = 0.0\n",
       " pccSteaSlack[6] : -xCcRebDuty[6] + xSteaUsePcc[6] + xPccSteaSlack[6] = 0.0\n",
       " pccSteaSlack[7] : -xCcRebDuty[7] + xSteaUsePcc[7] + xPccSteaSlack[7] = 0.0\n",
       " pccSteaSlack[8] : -xCcRebDuty[8] + xSteaUsePcc[8] + xPccSteaSlack[8] = 0.0\n",
       " pccSteaSlack[9] : -xCcRebDuty[9] + xSteaUsePcc[9] + xPccSteaSlack[9] = 0.0\n",
       " pccSteaSlack[10] : -xCcRebDuty[10] + xSteaUsePcc[10] + xPccSteaSlack[10] = 0.0\n",
       " pccSteaSlack[11] : -xCcRebDuty[11] + xSteaUsePcc[11] + xPccSteaSlack[11] = 0.0\n",
       " pccSteaSlack[12] : -xCcRebDuty[12] + xSteaUsePcc[12] + xPccSteaSlack[12] = 0.0\n",
       " pccSteaSlack[13] : -xCcRebDuty[13] + xSteaUsePcc[13] + xPccSteaSlack[13] = 0.0\n",
       " pccSteaSlack[14] : -xCcRebDuty[14] + xSteaUsePcc[14] + xPccSteaSlack[14] = 0.0\n",
       " pccSteaSlack[15] : -xCcRebDuty[15] + xSteaUsePcc[15] + xPccSteaSlack[15] = 0.0\n",
       " pccSteaSlack[16] : -xCcRebDuty[16] + xSteaUsePcc[16] + xPccSteaSlack[16] = 0.0\n",
       " pccSteaSlack[17] : -xCcRebDuty[17] + xSteaUsePcc[17] + xPccSteaSlack[17] = 0.0\n",
       " pccSteaSlack[18] : -xCcRebDuty[18] + xSteaUsePcc[18] + xPccSteaSlack[18] = 0.0\n",
       " pccSteaSlack[19] : -xCcRebDuty[19] + xSteaUsePcc[19] + xPccSteaSlack[19] = 0.0\n",
       " pccSteaSlack[20] : -xCcRebDuty[20] + xSteaUsePcc[20] + xPccSteaSlack[20] = 0.0\n",
       " pccSteaSlack[21] : -xCcRebDuty[21] + xSteaUsePcc[21] + xPccSteaSlack[21] = 0.0\n",
       " pccSteaSlack[22] : -xCcRebDuty[22] + xSteaUsePcc[22] + xPccSteaSlack[22] = 0.0\n",
       " pccSteaSlack[23] : -xCcRebDuty[23] + xSteaUsePcc[23] + xPccSteaSlack[23] = 0.0"
      ]
     },
     "execution_count": 31,
     "metadata": {},
     "output_type": "execute_result"
    }
   ],
   "source": [
    "@constraint(m, pccSteaSlack[i = 0:tHorz - 1], \n",
    "            xPccSteaSlack[i] == xCcRebDuty[i] - xSteaUsePcc[i])"
   ]
  },
  {
   "cell_type": "markdown",
   "id": "8225665b",
   "metadata": {},
   "source": [
    "## DAC equations"
   ]
  },
  {
   "cell_type": "markdown",
   "id": "7c8b8e55",
   "metadata": {},
   "source": [
    "The following equations represent the state space simple version of the DAC."
   ]
  },
  {
   "cell_type": "markdown",
   "id": "3f37bf73",
   "metadata": {},
   "source": [
    "* Amount allocated for absorption $\\mathtt{a0}_t = {\\mathtt{vAbs}_{t}} $.\n",
    "* Amount allocated for regeneration $\\mathtt{aR0}_t = \\mathtt{vReg}_{t}$.\n",
    "* Amount in absorption for one hour $\\mathtt{a1}_{t+1} = \\mathtt{a0}_{t}$.\n",
    "* Amount in absorption for two hours $\\mathtt{a2}_{t+1}  = \\mathtt{a1}_{t}$.\n",
    "* Amount in regeneration for one hour $\\mathtt{aR1}_{t+1} = \\mathtt{aR0}_{t}$.\n",
    "* Amount in fresh inventory $\\mathtt{sF}_{t+1} = \\mathtt{sF}_{t} - \\mathtt{vAbs}_{t} + \\mathtt{aR1}_{t}$\n",
    "* Amount in saturated inventory $\\mathtt{sS}_{t+1} = \\mathtt{sS}_{t} - \\mathtt{vReg}_{t} + \\mathtt{a2}_{t}$"
   ]
  },
  {
   "cell_type": "code",
   "execution_count": 32,
   "id": "7db374c4",
   "metadata": {},
   "outputs": [
    {
     "data": {
      "text/latex": [
       "capDacFlueEq : $ sFflue_{0} = 1.0e6 $"
      ],
      "text/plain": [
       "capDacFlueEq : sFflue[0] = 1.0e6"
      ]
     },
     "execution_count": 32,
     "metadata": {},
     "output_type": "execute_result"
    }
   ],
   "source": [
    "# DAC-Flue\n",
    "@constraint(m, a0FlueEq[i = 0:tHorz - 1], a0Flue[i] == vAbsFlue[i])\n",
    "@constraint(m, aR0FlueEq[i = 0:tHorz - 1], aR0Flue[i] == vRegFlue[i])\n",
    "@constraint(m, a1dFlueEq[i = 0:tHorz - 1], a1Flue[i + 1] == a0Flue[i])\n",
    "@constraint(m, a2dFlueEq[i = 0:tHorz - 1], a2Flue[i + 1] == a1Flue[i])\n",
    "@constraint(m, aRdFlueEq[i = 0:tHorz - 1], aR1Flue[i + 1] == aR0Flue[i])\n",
    "@constraint(m, storeFflueeq[i = 0:tHorz - 1], sFflue[i + 1] == sFflue[i] - vAbsFlue[i] + aR1Flue[i])\n",
    "@constraint(m, storeSflueeq[i = 0:tHorz - 1], sSflue[i + 1] == sSflue[i] - vRegFlue[i] + a2Flue[i])\n",
    "@constraint(m, capDacFlueEq, sFflue[0] == 1000000)"
   ]
  },
  {
   "cell_type": "markdown",
   "id": "e0c568a1",
   "metadata": {},
   "source": [
    "* Initial Conditions"
   ]
  },
  {
   "cell_type": "code",
   "execution_count": 33,
   "id": "8ed91a16",
   "metadata": {},
   "outputs": [
    {
     "data": {
      "text/latex": [
       "icSsFlueEq : $ sSflue_{0} = 0.0 $"
      ],
      "text/plain": [
       "icSsFlueEq : sSflue[0] = 0.0"
      ]
     },
     "execution_count": 33,
     "metadata": {},
     "output_type": "execute_result"
    }
   ],
   "source": [
    "@constraint(m, icA1FlueEq, a1Flue[0] == 0.)\n",
    "@constraint(m, icA2FlueEq, a2Flue[0] == 0.)\n",
    "@constraint(m, icAR1FlueEq, aR1Flue[0] == 0.)\n",
    "@constraint(m, icSsFlueEq, sSflue[0] == 0.)"
   ]
  },
  {
   "cell_type": "markdown",
   "id": "a32a831d",
   "metadata": {},
   "source": [
    "* CO2 storage capacity"
   ]
  },
  {
   "cell_type": "code",
   "execution_count": 34,
   "id": "e6cc31b2",
   "metadata": {},
   "outputs": [
    {
     "data": {
      "text/plain": [
       "1-dimensional DenseAxisArray{ConstraintRef{Model, MathOptInterface.ConstraintIndex{MathOptInterface.ScalarAffineFunction{Float64}, MathOptInterface.EqualTo{Float64}}, ScalarShape},1,...} with index sets:\n",
       "    Dimension 1, 0:23\n",
       "And data, a 24-element Vector{ConstraintRef{Model, MathOptInterface.ConstraintIndex{MathOptInterface.ScalarAffineFunction{Float64}, MathOptInterface.EqualTo{Float64}}, ScalarShape}}:\n",
       " co2StorDacFlueEq[0] : -4.400950000000001e-8 sSflue[0] + xCo2StorDacFlue[0] = 0.0\n",
       " co2StorDacFlueEq[1] : -4.400950000000001e-8 sSflue[1] + xCo2StorDacFlue[1] = 0.0\n",
       " co2StorDacFlueEq[2] : -4.400950000000001e-8 sSflue[2] + xCo2StorDacFlue[2] = 0.0\n",
       " co2StorDacFlueEq[3] : -4.400950000000001e-8 sSflue[3] + xCo2StorDacFlue[3] = 0.0\n",
       " co2StorDacFlueEq[4] : -4.400950000000001e-8 sSflue[4] + xCo2StorDacFlue[4] = 0.0\n",
       " co2StorDacFlueEq[5] : -4.400950000000001e-8 sSflue[5] + xCo2StorDacFlue[5] = 0.0\n",
       " co2StorDacFlueEq[6] : -4.400950000000001e-8 sSflue[6] + xCo2StorDacFlue[6] = 0.0\n",
       " co2StorDacFlueEq[7] : -4.400950000000001e-8 sSflue[7] + xCo2StorDacFlue[7] = 0.0\n",
       " co2StorDacFlueEq[8] : -4.400950000000001e-8 sSflue[8] + xCo2StorDacFlue[8] = 0.0\n",
       " co2StorDacFlueEq[9] : -4.400950000000001e-8 sSflue[9] + xCo2StorDacFlue[9] = 0.0\n",
       " co2StorDacFlueEq[10] : -4.400950000000001e-8 sSflue[10] + xCo2StorDacFlue[10] = 0.0\n",
       " co2StorDacFlueEq[11] : -4.400950000000001e-8 sSflue[11] + xCo2StorDacFlue[11] = 0.0\n",
       " co2StorDacFlueEq[12] : -4.400950000000001e-8 sSflue[12] + xCo2StorDacFlue[12] = 0.0\n",
       " co2StorDacFlueEq[13] : -4.400950000000001e-8 sSflue[13] + xCo2StorDacFlue[13] = 0.0\n",
       " co2StorDacFlueEq[14] : -4.400950000000001e-8 sSflue[14] + xCo2StorDacFlue[14] = 0.0\n",
       " co2StorDacFlueEq[15] : -4.400950000000001e-8 sSflue[15] + xCo2StorDacFlue[15] = 0.0\n",
       " co2StorDacFlueEq[16] : -4.400950000000001e-8 sSflue[16] + xCo2StorDacFlue[16] = 0.0\n",
       " co2StorDacFlueEq[17] : -4.400950000000001e-8 sSflue[17] + xCo2StorDacFlue[17] = 0.0\n",
       " co2StorDacFlueEq[18] : -4.400950000000001e-8 sSflue[18] + xCo2StorDacFlue[18] = 0.0\n",
       " co2StorDacFlueEq[19] : -4.400950000000001e-8 sSflue[19] + xCo2StorDacFlue[19] = 0.0\n",
       " co2StorDacFlueEq[20] : -4.400950000000001e-8 sSflue[20] + xCo2StorDacFlue[20] = 0.0\n",
       " co2StorDacFlueEq[21] : -4.400950000000001e-8 sSflue[21] + xCo2StorDacFlue[21] = 0.0\n",
       " co2StorDacFlueEq[22] : -4.400950000000001e-8 sSflue[22] + xCo2StorDacFlue[22] = 0.0\n",
       " co2StorDacFlueEq[23] : -4.400950000000001e-8 sSflue[23] + xCo2StorDacFlue[23] = 0.0"
      ]
     },
     "execution_count": 34,
     "metadata": {},
     "output_type": "execute_result"
    }
   ],
   "source": [
    "@constraint(m, co2StorDacFlueEq[i = 0:tHorz - 1], xCo2StorDacFlue[i] == aSorbCo2CapFlue * sSflue[i])"
   ]
  },
  {
   "cell_type": "markdown",
   "id": "51577412",
   "metadata": {},
   "source": [
    "* CO2 capture capacity of the DAC-Flue"
   ]
  },
  {
   "cell_type": "code",
   "execution_count": 35,
   "id": "8cb0c748",
   "metadata": {},
   "outputs": [
    {
     "data": {
      "text/plain": [
       "1-dimensional DenseAxisArray{ConstraintRef{Model, MathOptInterface.ConstraintIndex{MathOptInterface.ScalarAffineFunction{Float64}, MathOptInterface.EqualTo{Float64}}, ScalarShape},1,...} with index sets:\n",
       "    Dimension 1, 0:23\n",
       "And data, a 24-element Vector{ConstraintRef{Model, MathOptInterface.ConstraintIndex{MathOptInterface.ScalarAffineFunction{Float64}, MathOptInterface.EqualTo{Float64}}, ScalarShape}}:\n",
       " co2CapDacFlueEq[0] : -4.400950000000001e-8 aR1Flue[0] + xCo2CapDacFlue[0] = 0.0\n",
       " co2CapDacFlueEq[1] : -4.400950000000001e-8 aR1Flue[1] + xCo2CapDacFlue[1] = 0.0\n",
       " co2CapDacFlueEq[2] : -4.400950000000001e-8 aR1Flue[2] + xCo2CapDacFlue[2] = 0.0\n",
       " co2CapDacFlueEq[3] : -4.400950000000001e-8 aR1Flue[3] + xCo2CapDacFlue[3] = 0.0\n",
       " co2CapDacFlueEq[4] : -4.400950000000001e-8 aR1Flue[4] + xCo2CapDacFlue[4] = 0.0\n",
       " co2CapDacFlueEq[5] : -4.400950000000001e-8 aR1Flue[5] + xCo2CapDacFlue[5] = 0.0\n",
       " co2CapDacFlueEq[6] : -4.400950000000001e-8 aR1Flue[6] + xCo2CapDacFlue[6] = 0.0\n",
       " co2CapDacFlueEq[7] : -4.400950000000001e-8 aR1Flue[7] + xCo2CapDacFlue[7] = 0.0\n",
       " co2CapDacFlueEq[8] : -4.400950000000001e-8 aR1Flue[8] + xCo2CapDacFlue[8] = 0.0\n",
       " co2CapDacFlueEq[9] : -4.400950000000001e-8 aR1Flue[9] + xCo2CapDacFlue[9] = 0.0\n",
       " co2CapDacFlueEq[10] : -4.400950000000001e-8 aR1Flue[10] + xCo2CapDacFlue[10] = 0.0\n",
       " co2CapDacFlueEq[11] : -4.400950000000001e-8 aR1Flue[11] + xCo2CapDacFlue[11] = 0.0\n",
       " co2CapDacFlueEq[12] : -4.400950000000001e-8 aR1Flue[12] + xCo2CapDacFlue[12] = 0.0\n",
       " co2CapDacFlueEq[13] : -4.400950000000001e-8 aR1Flue[13] + xCo2CapDacFlue[13] = 0.0\n",
       " co2CapDacFlueEq[14] : -4.400950000000001e-8 aR1Flue[14] + xCo2CapDacFlue[14] = 0.0\n",
       " co2CapDacFlueEq[15] : -4.400950000000001e-8 aR1Flue[15] + xCo2CapDacFlue[15] = 0.0\n",
       " co2CapDacFlueEq[16] : -4.400950000000001e-8 aR1Flue[16] + xCo2CapDacFlue[16] = 0.0\n",
       " co2CapDacFlueEq[17] : -4.400950000000001e-8 aR1Flue[17] + xCo2CapDacFlue[17] = 0.0\n",
       " co2CapDacFlueEq[18] : -4.400950000000001e-8 aR1Flue[18] + xCo2CapDacFlue[18] = 0.0\n",
       " co2CapDacFlueEq[19] : -4.400950000000001e-8 aR1Flue[19] + xCo2CapDacFlue[19] = 0.0\n",
       " co2CapDacFlueEq[20] : -4.400950000000001e-8 aR1Flue[20] + xCo2CapDacFlue[20] = 0.0\n",
       " co2CapDacFlueEq[21] : -4.400950000000001e-8 aR1Flue[21] + xCo2CapDacFlue[21] = 0.0\n",
       " co2CapDacFlueEq[22] : -4.400950000000001e-8 aR1Flue[22] + xCo2CapDacFlue[22] = 0.0\n",
       " co2CapDacFlueEq[23] : -4.400950000000001e-8 aR1Flue[23] + xCo2CapDacFlue[23] = 0.0"
      ]
     },
     "execution_count": 35,
     "metadata": {},
     "output_type": "execute_result"
    }
   ],
   "source": [
    "@constraint(m, co2CapDacFlueEq[i = 0:tHorz - 1], xCo2CapDacFlue[i] == aSorbCo2CapFlue * aR1Flue[i])"
   ]
  },
  {
   "cell_type": "markdown",
   "id": "90d8ac8c",
   "metadata": {},
   "source": [
    "* Steam used for regeneration"
   ]
  },
  {
   "cell_type": "code",
   "execution_count": 36,
   "id": "e49b3202",
   "metadata": {},
   "outputs": [
    {
     "data": {
      "text/plain": [
       "1-dimensional DenseAxisArray{ConstraintRef{Model, MathOptInterface.ConstraintIndex{MathOptInterface.ScalarAffineFunction{Float64}, MathOptInterface.EqualTo{Float64}}, ScalarShape},1,...} with index sets:\n",
       "    Dimension 1, 0:23\n",
       "And data, a 24-element Vector{ConstraintRef{Model, MathOptInterface.ConstraintIndex{MathOptInterface.ScalarAffineFunction{Float64}, MathOptInterface.EqualTo{Float64}}, ScalarShape}}:\n",
       " steamUseDacFlueEq[0] : -6.6332033512704 xCo2CapDacFlue[0] + xSteaUseDacFlue[0] = 0.0\n",
       " steamUseDacFlueEq[1] : -6.6332033512704 xCo2CapDacFlue[1] + xSteaUseDacFlue[1] = 0.0\n",
       " steamUseDacFlueEq[2] : -6.6332033512704 xCo2CapDacFlue[2] + xSteaUseDacFlue[2] = 0.0\n",
       " steamUseDacFlueEq[3] : -6.6332033512704 xCo2CapDacFlue[3] + xSteaUseDacFlue[3] = 0.0\n",
       " steamUseDacFlueEq[4] : -6.6332033512704 xCo2CapDacFlue[4] + xSteaUseDacFlue[4] = 0.0\n",
       " steamUseDacFlueEq[5] : -6.6332033512704 xCo2CapDacFlue[5] + xSteaUseDacFlue[5] = 0.0\n",
       " steamUseDacFlueEq[6] : -6.6332033512704 xCo2CapDacFlue[6] + xSteaUseDacFlue[6] = 0.0\n",
       " steamUseDacFlueEq[7] : -6.6332033512704 xCo2CapDacFlue[7] + xSteaUseDacFlue[7] = 0.0\n",
       " steamUseDacFlueEq[8] : -6.6332033512704 xCo2CapDacFlue[8] + xSteaUseDacFlue[8] = 0.0\n",
       " steamUseDacFlueEq[9] : -6.6332033512704 xCo2CapDacFlue[9] + xSteaUseDacFlue[9] = 0.0\n",
       " steamUseDacFlueEq[10] : -6.6332033512704 xCo2CapDacFlue[10] + xSteaUseDacFlue[10] = 0.0\n",
       " steamUseDacFlueEq[11] : -6.6332033512704 xCo2CapDacFlue[11] + xSteaUseDacFlue[11] = 0.0\n",
       " steamUseDacFlueEq[12] : -6.6332033512704 xCo2CapDacFlue[12] + xSteaUseDacFlue[12] = 0.0\n",
       " steamUseDacFlueEq[13] : -6.6332033512704 xCo2CapDacFlue[13] + xSteaUseDacFlue[13] = 0.0\n",
       " steamUseDacFlueEq[14] : -6.6332033512704 xCo2CapDacFlue[14] + xSteaUseDacFlue[14] = 0.0\n",
       " steamUseDacFlueEq[15] : -6.6332033512704 xCo2CapDacFlue[15] + xSteaUseDacFlue[15] = 0.0\n",
       " steamUseDacFlueEq[16] : -6.6332033512704 xCo2CapDacFlue[16] + xSteaUseDacFlue[16] = 0.0\n",
       " steamUseDacFlueEq[17] : -6.6332033512704 xCo2CapDacFlue[17] + xSteaUseDacFlue[17] = 0.0\n",
       " steamUseDacFlueEq[18] : -6.6332033512704 xCo2CapDacFlue[18] + xSteaUseDacFlue[18] = 0.0\n",
       " steamUseDacFlueEq[19] : -6.6332033512704 xCo2CapDacFlue[19] + xSteaUseDacFlue[19] = 0.0\n",
       " steamUseDacFlueEq[20] : -6.6332033512704 xCo2CapDacFlue[20] + xSteaUseDacFlue[20] = 0.0\n",
       " steamUseDacFlueEq[21] : -6.6332033512704 xCo2CapDacFlue[21] + xSteaUseDacFlue[21] = 0.0\n",
       " steamUseDacFlueEq[22] : -6.6332033512704 xCo2CapDacFlue[22] + xSteaUseDacFlue[22] = 0.0\n",
       " steamUseDacFlueEq[23] : -6.6332033512704 xCo2CapDacFlue[23] + xSteaUseDacFlue[23] = 0.0"
      ]
     },
     "execution_count": 36,
     "metadata": {},
     "output_type": "execute_result"
    }
   ],
   "source": [
    "@constraint(m, steamUseDacFlueEq[i = 0:tHorz - 1], xSteaUseDacFlue[i] == aSteaUseRateDacFlue * xCo2CapDacFlue[i])"
   ]
  },
  {
   "cell_type": "markdown",
   "id": "5d4deeca",
   "metadata": {},
   "source": [
    "* Power used for the DAC operation"
   ]
  },
  {
   "cell_type": "code",
   "execution_count": 37,
   "id": "33e5f7f3",
   "metadata": {},
   "outputs": [
    {
     "data": {
      "text/plain": [
       "1-dimensional DenseAxisArray{ConstraintRef{Model, MathOptInterface.ConstraintIndex{MathOptInterface.ScalarAffineFunction{Float64}, MathOptInterface.EqualTo{Float64}}, ScalarShape},1,...} with index sets:\n",
       "    Dimension 1, 0:23\n",
       "And data, a 24-element Vector{ConstraintRef{Model, MathOptInterface.ConstraintIndex{MathOptInterface.ScalarAffineFunction{Float64}, MathOptInterface.EqualTo{Float64}}, ScalarShape}}:\n",
       " powUseDacFlueEq[0] : -0.25 xCo2CapDacFlue[0] + xPowUseDacFlue[0] = 0.0\n",
       " powUseDacFlueEq[1] : -0.25 xCo2CapDacFlue[1] + xPowUseDacFlue[1] = 0.0\n",
       " powUseDacFlueEq[2] : -0.25 xCo2CapDacFlue[2] + xPowUseDacFlue[2] = 0.0\n",
       " powUseDacFlueEq[3] : -0.25 xCo2CapDacFlue[3] + xPowUseDacFlue[3] = 0.0\n",
       " powUseDacFlueEq[4] : -0.25 xCo2CapDacFlue[4] + xPowUseDacFlue[4] = 0.0\n",
       " powUseDacFlueEq[5] : -0.25 xCo2CapDacFlue[5] + xPowUseDacFlue[5] = 0.0\n",
       " powUseDacFlueEq[6] : -0.25 xCo2CapDacFlue[6] + xPowUseDacFlue[6] = 0.0\n",
       " powUseDacFlueEq[7] : -0.25 xCo2CapDacFlue[7] + xPowUseDacFlue[7] = 0.0\n",
       " powUseDacFlueEq[8] : -0.25 xCo2CapDacFlue[8] + xPowUseDacFlue[8] = 0.0\n",
       " powUseDacFlueEq[9] : -0.25 xCo2CapDacFlue[9] + xPowUseDacFlue[9] = 0.0\n",
       " powUseDacFlueEq[10] : -0.25 xCo2CapDacFlue[10] + xPowUseDacFlue[10] = 0.0\n",
       " powUseDacFlueEq[11] : -0.25 xCo2CapDacFlue[11] + xPowUseDacFlue[11] = 0.0\n",
       " powUseDacFlueEq[12] : -0.25 xCo2CapDacFlue[12] + xPowUseDacFlue[12] = 0.0\n",
       " powUseDacFlueEq[13] : -0.25 xCo2CapDacFlue[13] + xPowUseDacFlue[13] = 0.0\n",
       " powUseDacFlueEq[14] : -0.25 xCo2CapDacFlue[14] + xPowUseDacFlue[14] = 0.0\n",
       " powUseDacFlueEq[15] : -0.25 xCo2CapDacFlue[15] + xPowUseDacFlue[15] = 0.0\n",
       " powUseDacFlueEq[16] : -0.25 xCo2CapDacFlue[16] + xPowUseDacFlue[16] = 0.0\n",
       " powUseDacFlueEq[17] : -0.25 xCo2CapDacFlue[17] + xPowUseDacFlue[17] = 0.0\n",
       " powUseDacFlueEq[18] : -0.25 xCo2CapDacFlue[18] + xPowUseDacFlue[18] = 0.0\n",
       " powUseDacFlueEq[19] : -0.25 xCo2CapDacFlue[19] + xPowUseDacFlue[19] = 0.0\n",
       " powUseDacFlueEq[20] : -0.25 xCo2CapDacFlue[20] + xPowUseDacFlue[20] = 0.0\n",
       " powUseDacFlueEq[21] : -0.25 xCo2CapDacFlue[21] + xPowUseDacFlue[21] = 0.0\n",
       " powUseDacFlueEq[22] : -0.25 xCo2CapDacFlue[22] + xPowUseDacFlue[22] = 0.0\n",
       " powUseDacFlueEq[23] : -0.25 xCo2CapDacFlue[23] + xPowUseDacFlue[23] = 0.0"
      ]
     },
     "execution_count": 37,
     "metadata": {},
     "output_type": "execute_result"
    }
   ],
   "source": [
    "@constraint(m, powUseDacFlueEq[i = 0:tHorz - 1], xPowUseDacFlue[i] == aPowUseRateDacFlue * xCo2CapDacFlue[i])"
   ]
  },
  {
   "cell_type": "markdown",
   "id": "fd0c5390",
   "metadata": {},
   "source": [
    "* Amount of CO2 vented by DAC"
   ]
  },
  {
   "cell_type": "code",
   "execution_count": 38,
   "id": "cf3ae52e",
   "metadata": {},
   "outputs": [
    {
     "data": {
      "text/plain": [
       "1-dimensional DenseAxisArray{ConstraintRef{Model, MathOptInterface.ConstraintIndex{MathOptInterface.ScalarAffineFunction{Float64}, MathOptInterface.EqualTo{Float64}}, ScalarShape},1,...} with index sets:\n",
       "    Dimension 1, 0:23\n",
       "And data, a 24-element Vector{ConstraintRef{Model, MathOptInterface.ConstraintIndex{MathOptInterface.ScalarAffineFunction{Float64}, MathOptInterface.EqualTo{Float64}}, ScalarShape}}:\n",
       " co2DacFlueVentEq[0] : -xCo2DacFlueIn[0] + xCo2CapDacFlue[0] + xCo2DacVentFlue[0] = 0.0\n",
       " co2DacFlueVentEq[1] : -xCo2DacFlueIn[1] + xCo2CapDacFlue[1] + xCo2DacVentFlue[1] = 0.0\n",
       " co2DacFlueVentEq[2] : -xCo2DacFlueIn[2] + xCo2CapDacFlue[2] + xCo2DacVentFlue[2] = 0.0\n",
       " co2DacFlueVentEq[3] : -xCo2DacFlueIn[3] + xCo2CapDacFlue[3] + xCo2DacVentFlue[3] = 0.0\n",
       " co2DacFlueVentEq[4] : -xCo2DacFlueIn[4] + xCo2CapDacFlue[4] + xCo2DacVentFlue[4] = 0.0\n",
       " co2DacFlueVentEq[5] : -xCo2DacFlueIn[5] + xCo2CapDacFlue[5] + xCo2DacVentFlue[5] = 0.0\n",
       " co2DacFlueVentEq[6] : -xCo2DacFlueIn[6] + xCo2CapDacFlue[6] + xCo2DacVentFlue[6] = 0.0\n",
       " co2DacFlueVentEq[7] : -xCo2DacFlueIn[7] + xCo2CapDacFlue[7] + xCo2DacVentFlue[7] = 0.0\n",
       " co2DacFlueVentEq[8] : -xCo2DacFlueIn[8] + xCo2CapDacFlue[8] + xCo2DacVentFlue[8] = 0.0\n",
       " co2DacFlueVentEq[9] : -xCo2DacFlueIn[9] + xCo2CapDacFlue[9] + xCo2DacVentFlue[9] = 0.0\n",
       " co2DacFlueVentEq[10] : -xCo2DacFlueIn[10] + xCo2CapDacFlue[10] + xCo2DacVentFlue[10] = 0.0\n",
       " co2DacFlueVentEq[11] : -xCo2DacFlueIn[11] + xCo2CapDacFlue[11] + xCo2DacVentFlue[11] = 0.0\n",
       " co2DacFlueVentEq[12] : -xCo2DacFlueIn[12] + xCo2CapDacFlue[12] + xCo2DacVentFlue[12] = 0.0\n",
       " co2DacFlueVentEq[13] : -xCo2DacFlueIn[13] + xCo2CapDacFlue[13] + xCo2DacVentFlue[13] = 0.0\n",
       " co2DacFlueVentEq[14] : -xCo2DacFlueIn[14] + xCo2CapDacFlue[14] + xCo2DacVentFlue[14] = 0.0\n",
       " co2DacFlueVentEq[15] : -xCo2DacFlueIn[15] + xCo2CapDacFlue[15] + xCo2DacVentFlue[15] = 0.0\n",
       " co2DacFlueVentEq[16] : -xCo2DacFlueIn[16] + xCo2CapDacFlue[16] + xCo2DacVentFlue[16] = 0.0\n",
       " co2DacFlueVentEq[17] : -xCo2DacFlueIn[17] + xCo2CapDacFlue[17] + xCo2DacVentFlue[17] = 0.0\n",
       " co2DacFlueVentEq[18] : -xCo2DacFlueIn[18] + xCo2CapDacFlue[18] + xCo2DacVentFlue[18] = 0.0\n",
       " co2DacFlueVentEq[19] : -xCo2DacFlueIn[19] + xCo2CapDacFlue[19] + xCo2DacVentFlue[19] = 0.0\n",
       " co2DacFlueVentEq[20] : -xCo2DacFlueIn[20] + xCo2CapDacFlue[20] + xCo2DacVentFlue[20] = 0.0\n",
       " co2DacFlueVentEq[21] : -xCo2DacFlueIn[21] + xCo2CapDacFlue[21] + xCo2DacVentFlue[21] = 0.0\n",
       " co2DacFlueVentEq[22] : -xCo2DacFlueIn[22] + xCo2CapDacFlue[22] + xCo2DacVentFlue[22] = 0.0\n",
       " co2DacFlueVentEq[23] : -xCo2DacFlueIn[23] + xCo2CapDacFlue[23] + xCo2DacVentFlue[23] = 0.0"
      ]
     },
     "execution_count": 38,
     "metadata": {},
     "output_type": "execute_result"
    }
   ],
   "source": [
    "@constraint(m, co2DacFlueVentEq[i = 0:tHorz - 1], xCo2DacVentFlue[i] == xCo2DacFlueIn[i] - xCo2CapDacFlue[i])"
   ]
  },
  {
   "cell_type": "markdown",
   "id": "9d262486",
   "metadata": {},
   "source": [
    "### DAC-Air (Similar to DAC-Flue)"
   ]
  },
  {
   "cell_type": "code",
   "execution_count": 39,
   "id": "cbb3ec43",
   "metadata": {},
   "outputs": [
    {
     "data": {
      "text/plain": [
       "1-dimensional DenseAxisArray{ConstraintRef{Model, MathOptInterface.ConstraintIndex{MathOptInterface.ScalarAffineFunction{Float64}, MathOptInterface.EqualTo{Float64}}, ScalarShape},1,...} with index sets:\n",
       "    Dimension 1, 0:23\n",
       "And data, a 24-element Vector{ConstraintRef{Model, MathOptInterface.ConstraintIndex{MathOptInterface.ScalarAffineFunction{Float64}, MathOptInterface.EqualTo{Float64}}, ScalarShape}}:\n",
       " powUseDacAirEq[0] : -0.5 xCo2CapDacAir[0] + xPowUseDacAir[0] = 0.0\n",
       " powUseDacAirEq[1] : -0.5 xCo2CapDacAir[1] + xPowUseDacAir[1] = 0.0\n",
       " powUseDacAirEq[2] : -0.5 xCo2CapDacAir[2] + xPowUseDacAir[2] = 0.0\n",
       " powUseDacAirEq[3] : -0.5 xCo2CapDacAir[3] + xPowUseDacAir[3] = 0.0\n",
       " powUseDacAirEq[4] : -0.5 xCo2CapDacAir[4] + xPowUseDacAir[4] = 0.0\n",
       " powUseDacAirEq[5] : -0.5 xCo2CapDacAir[5] + xPowUseDacAir[5] = 0.0\n",
       " powUseDacAirEq[6] : -0.5 xCo2CapDacAir[6] + xPowUseDacAir[6] = 0.0\n",
       " powUseDacAirEq[7] : -0.5 xCo2CapDacAir[7] + xPowUseDacAir[7] = 0.0\n",
       " powUseDacAirEq[8] : -0.5 xCo2CapDacAir[8] + xPowUseDacAir[8] = 0.0\n",
       " powUseDacAirEq[9] : -0.5 xCo2CapDacAir[9] + xPowUseDacAir[9] = 0.0\n",
       " powUseDacAirEq[10] : -0.5 xCo2CapDacAir[10] + xPowUseDacAir[10] = 0.0\n",
       " powUseDacAirEq[11] : -0.5 xCo2CapDacAir[11] + xPowUseDacAir[11] = 0.0\n",
       " powUseDacAirEq[12] : -0.5 xCo2CapDacAir[12] + xPowUseDacAir[12] = 0.0\n",
       " powUseDacAirEq[13] : -0.5 xCo2CapDacAir[13] + xPowUseDacAir[13] = 0.0\n",
       " powUseDacAirEq[14] : -0.5 xCo2CapDacAir[14] + xPowUseDacAir[14] = 0.0\n",
       " powUseDacAirEq[15] : -0.5 xCo2CapDacAir[15] + xPowUseDacAir[15] = 0.0\n",
       " powUseDacAirEq[16] : -0.5 xCo2CapDacAir[16] + xPowUseDacAir[16] = 0.0\n",
       " powUseDacAirEq[17] : -0.5 xCo2CapDacAir[17] + xPowUseDacAir[17] = 0.0\n",
       " powUseDacAirEq[18] : -0.5 xCo2CapDacAir[18] + xPowUseDacAir[18] = 0.0\n",
       " powUseDacAirEq[19] : -0.5 xCo2CapDacAir[19] + xPowUseDacAir[19] = 0.0\n",
       " powUseDacAirEq[20] : -0.5 xCo2CapDacAir[20] + xPowUseDacAir[20] = 0.0\n",
       " powUseDacAirEq[21] : -0.5 xCo2CapDacAir[21] + xPowUseDacAir[21] = 0.0\n",
       " powUseDacAirEq[22] : -0.5 xCo2CapDacAir[22] + xPowUseDacAir[22] = 0.0\n",
       " powUseDacAirEq[23] : -0.5 xCo2CapDacAir[23] + xPowUseDacAir[23] = 0.0"
      ]
     },
     "execution_count": 39,
     "metadata": {},
     "output_type": "execute_result"
    }
   ],
   "source": [
    "@constraint(m, a0AirEq[i = 0:tHorz - 1], a0Air[i] == vAbsAir[i])\n",
    "@constraint(m, aR0AirEq[i = 0:tHorz - 1], aR0Air[i] == vRegAir[i])\n",
    "@constraint(m, a1dAirEq[i = 0:tHorz - 1], a1Air[i + 1] == a0Air[i])\n",
    "@constraint(m, a2dAirEq[i = 0:tHorz - 1], a2Air[i + 1] == a1Air[i])\n",
    "@constraint(m, aRdAirEq[i = 0:tHorz - 1], aR1Air[i + 1] == aR0Air[i])\n",
    "@constraint(m, storeFairEq[i = 0:tHorz - 1], sFair[i + 1] == sFair[i] - vAbsAir[i] + aR1Air[i])\n",
    "@constraint(m, storeSaireq[i = 0:tHorz - 1], sSair[i + 1] == sSair[i] - vRegAir[i] + a2Air[i])\n",
    "@constraint(m, capDacAirEq, sFair[0] == 1000000)\n",
    "# \n",
    "@constraint(m, icA1AirEq, a1Air[0] == 0.)\n",
    "@constraint(m, icA2AirEq, a2Air[0] == 0.)\n",
    "@constraint(m, icAR1AirEq, aR1Air[0] == 0.)\n",
    "#\n",
    "@constraint(m, icSsAirEq, sSair[0] == 0.)\n",
    "# \n",
    "@constraint(m, co2StorDacAirEq[i = 0:tHorz - 1], xCo2StorDacAir[i] == aSorbCo2CapAir * sSair[i])\n",
    "@constraint(m, co2CapDacAirEq[i = 0:tHorz - 1], xCo2CapDacAir[i] == aSorbCo2CapAir * aR1Air[i])\n",
    "# \n",
    "@constraint(m, steamUseDacAirEq[i = 0:tHorz - 1], xSteaUseDacAir[i] == aSteaUseRateDacAir * xCo2CapDacAir[i])\n",
    "# \n",
    "@constraint(m, powUseDacAirEq[i = 0:tHorz - 1], xPowUseDacAir[i] == aPowUseRateDacAir * xCo2CapDacAir[i])"
   ]
  },
  {
   "cell_type": "markdown",
   "id": "10d69ba5",
   "metadata": {},
   "source": [
    "* Amount of Steam available for CO2 Capture"
   ]
  },
  {
   "cell_type": "code",
   "execution_count": 40,
   "id": "4016241a",
   "metadata": {},
   "outputs": [
    {
     "data": {
      "text/plain": [
       "1-dimensional DenseAxisArray{ConstraintRef{Model, MathOptInterface.ConstraintIndex{MathOptInterface.ScalarAffineFunction{Float64}, MathOptInterface.EqualTo{Float64}}, ScalarShape},1,...} with index sets:\n",
       "    Dimension 1, 0:23\n",
       "And data, a 24-element Vector{ConstraintRef{Model, MathOptInterface.ConstraintIndex{MathOptInterface.ScalarAffineFunction{Float64}, MathOptInterface.EqualTo{Float64}}, ScalarShape}}:\n",
       " dacSteaSlackEq[0] : -xDacSteaDuty[0] + xSteaUseDacFlue[0] + xSteaUseDacAir[0] + xDacSteaSlack[0] = 0.0\n",
       " dacSteaSlackEq[1] : -xDacSteaDuty[1] + xSteaUseDacFlue[1] + xSteaUseDacAir[1] + xDacSteaSlack[1] = 0.0\n",
       " dacSteaSlackEq[2] : -xDacSteaDuty[2] + xSteaUseDacFlue[2] + xSteaUseDacAir[2] + xDacSteaSlack[2] = 0.0\n",
       " dacSteaSlackEq[3] : -xDacSteaDuty[3] + xSteaUseDacFlue[3] + xSteaUseDacAir[3] + xDacSteaSlack[3] = 0.0\n",
       " dacSteaSlackEq[4] : -xDacSteaDuty[4] + xSteaUseDacFlue[4] + xSteaUseDacAir[4] + xDacSteaSlack[4] = 0.0\n",
       " dacSteaSlackEq[5] : -xDacSteaDuty[5] + xSteaUseDacFlue[5] + xSteaUseDacAir[5] + xDacSteaSlack[5] = 0.0\n",
       " dacSteaSlackEq[6] : -xDacSteaDuty[6] + xSteaUseDacFlue[6] + xSteaUseDacAir[6] + xDacSteaSlack[6] = 0.0\n",
       " dacSteaSlackEq[7] : -xDacSteaDuty[7] + xSteaUseDacFlue[7] + xSteaUseDacAir[7] + xDacSteaSlack[7] = 0.0\n",
       " dacSteaSlackEq[8] : -xDacSteaDuty[8] + xSteaUseDacFlue[8] + xSteaUseDacAir[8] + xDacSteaSlack[8] = 0.0\n",
       " dacSteaSlackEq[9] : -xDacSteaDuty[9] + xSteaUseDacFlue[9] + xSteaUseDacAir[9] + xDacSteaSlack[9] = 0.0\n",
       " dacSteaSlackEq[10] : -xDacSteaDuty[10] + xSteaUseDacFlue[10] + xSteaUseDacAir[10] + xDacSteaSlack[10] = 0.0\n",
       " dacSteaSlackEq[11] : -xDacSteaDuty[11] + xSteaUseDacFlue[11] + xSteaUseDacAir[11] + xDacSteaSlack[11] = 0.0\n",
       " dacSteaSlackEq[12] : -xDacSteaDuty[12] + xSteaUseDacFlue[12] + xSteaUseDacAir[12] + xDacSteaSlack[12] = 0.0\n",
       " dacSteaSlackEq[13] : -xDacSteaDuty[13] + xSteaUseDacFlue[13] + xSteaUseDacAir[13] + xDacSteaSlack[13] = 0.0\n",
       " dacSteaSlackEq[14] : -xDacSteaDuty[14] + xSteaUseDacFlue[14] + xSteaUseDacAir[14] + xDacSteaSlack[14] = 0.0\n",
       " dacSteaSlackEq[15] : -xDacSteaDuty[15] + xSteaUseDacFlue[15] + xSteaUseDacAir[15] + xDacSteaSlack[15] = 0.0\n",
       " dacSteaSlackEq[16] : -xDacSteaDuty[16] + xSteaUseDacFlue[16] + xSteaUseDacAir[16] + xDacSteaSlack[16] = 0.0\n",
       " dacSteaSlackEq[17] : -xDacSteaDuty[17] + xSteaUseDacFlue[17] + xSteaUseDacAir[17] + xDacSteaSlack[17] = 0.0\n",
       " dacSteaSlackEq[18] : -xDacSteaDuty[18] + xSteaUseDacFlue[18] + xSteaUseDacAir[18] + xDacSteaSlack[18] = 0.0\n",
       " dacSteaSlackEq[19] : -xDacSteaDuty[19] + xSteaUseDacFlue[19] + xSteaUseDacAir[19] + xDacSteaSlack[19] = 0.0\n",
       " dacSteaSlackEq[20] : -xDacSteaDuty[20] + xSteaUseDacFlue[20] + xSteaUseDacAir[20] + xDacSteaSlack[20] = 0.0\n",
       " dacSteaSlackEq[21] : -xDacSteaDuty[21] + xSteaUseDacFlue[21] + xSteaUseDacAir[21] + xDacSteaSlack[21] = 0.0\n",
       " dacSteaSlackEq[22] : -xDacSteaDuty[22] + xSteaUseDacFlue[22] + xSteaUseDacAir[22] + xDacSteaSlack[22] = 0.0\n",
       " dacSteaSlackEq[23] : -xDacSteaDuty[23] + xSteaUseDacFlue[23] + xSteaUseDacAir[23] + xDacSteaSlack[23] = 0.0"
      ]
     },
     "execution_count": 40,
     "metadata": {},
     "output_type": "execute_result"
    }
   ],
   "source": [
    "@constraint(m, dacSteaSlackEq[i = 0:tHorz - 1], \n",
    "            xDacSteaSlack[i] == xDacSteaDuty[i] - xSteaUseDacFlue[i] - xSteaUseDacAir[i])"
   ]
  },
  {
   "cell_type": "markdown",
   "id": "c6fcb618",
   "metadata": {},
   "source": [
    "## Compression CO2"
   ]
  },
  {
   "cell_type": "code",
   "execution_count": 41,
   "id": "848040bf",
   "metadata": {},
   "outputs": [
    {
     "data": {
      "text/plain": [
       "1-dimensional DenseAxisArray{ConstraintRef{Model, MathOptInterface.ConstraintIndex{MathOptInterface.ScalarAffineFunction{Float64}, MathOptInterface.EqualTo{Float64}}, ScalarShape},1,...} with index sets:\n",
       "    Dimension 1, 0:23\n",
       "And data, a 24-element Vector{ConstraintRef{Model, MathOptInterface.ConstraintIndex{MathOptInterface.ScalarAffineFunction{Float64}, MathOptInterface.EqualTo{Float64}}, ScalarShape}}:\n",
       " co2CompEq[0] : -xCo2CapPcc[0] + xCo2Comp[0] = 0.0\n",
       " co2CompEq[1] : -xCo2CapPcc[1] + xCo2Comp[1] = 0.0\n",
       " co2CompEq[2] : -xCo2CapPcc[2] + xCo2Comp[2] = 0.0\n",
       " co2CompEq[3] : -xCo2CapPcc[3] + xCo2Comp[3] = 0.0\n",
       " co2CompEq[4] : -xCo2CapPcc[4] + xCo2Comp[4] = 0.0\n",
       " co2CompEq[5] : -xCo2CapPcc[5] + xCo2Comp[5] = 0.0\n",
       " co2CompEq[6] : -xCo2CapPcc[6] + xCo2Comp[6] = 0.0\n",
       " co2CompEq[7] : -xCo2CapPcc[7] + xCo2Comp[7] = 0.0\n",
       " co2CompEq[8] : -xCo2CapPcc[8] + xCo2Comp[8] = 0.0\n",
       " co2CompEq[9] : -xCo2CapPcc[9] + xCo2Comp[9] = 0.0\n",
       " co2CompEq[10] : -xCo2CapPcc[10] + xCo2Comp[10] = 0.0\n",
       " co2CompEq[11] : -xCo2CapPcc[11] + xCo2Comp[11] = 0.0\n",
       " co2CompEq[12] : -xCo2CapPcc[12] + xCo2Comp[12] = 0.0\n",
       " co2CompEq[13] : -xCo2CapPcc[13] + xCo2Comp[13] = 0.0\n",
       " co2CompEq[14] : -xCo2CapPcc[14] + xCo2Comp[14] = 0.0\n",
       " co2CompEq[15] : -xCo2CapPcc[15] + xCo2Comp[15] = 0.0\n",
       " co2CompEq[16] : -xCo2CapPcc[16] + xCo2Comp[16] = 0.0\n",
       " co2CompEq[17] : -xCo2CapPcc[17] + xCo2Comp[17] = 0.0\n",
       " co2CompEq[18] : -xCo2CapPcc[18] + xCo2Comp[18] = 0.0\n",
       " co2CompEq[19] : -xCo2CapPcc[19] + xCo2Comp[19] = 0.0\n",
       " co2CompEq[20] : -xCo2CapPcc[20] + xCo2Comp[20] = 0.0\n",
       " co2CompEq[21] : -xCo2CapPcc[21] + xCo2Comp[21] = 0.0\n",
       " co2CompEq[22] : -xCo2CapPcc[22] + xCo2Comp[22] = 0.0\n",
       " co2CompEq[23] : -xCo2CapPcc[23] + xCo2Comp[23] = 0.0"
      ]
     },
     "execution_count": 41,
     "metadata": {},
     "output_type": "execute_result"
    }
   ],
   "source": [
    "# Co2 Compression\n",
    "# 27\n",
    "@constraint(m, co2CompEq[i = 0:tHorz - 1], xCo2Comp[i] == xCo2CapPcc[i])\n"
   ]
  },
  {
   "cell_type": "code",
   "execution_count": 42,
   "id": "48d1c59f",
   "metadata": {},
   "outputs": [
    {
     "data": {
      "text/plain": [
       "1-dimensional DenseAxisArray{ConstraintRef{Model, MathOptInterface.ConstraintIndex{MathOptInterface.ScalarAffineFunction{Float64}, MathOptInterface.EqualTo{Float64}}, ScalarShape},1,...} with index sets:\n",
       "    Dimension 1, 0:23\n",
       "And data, a 24-element Vector{ConstraintRef{Model, MathOptInterface.ConstraintIndex{MathOptInterface.ScalarAffineFunction{Float64}, MathOptInterface.EqualTo{Float64}}, ScalarShape}}:\n",
       " powUseCompEq[0] : -0.001 xCo2Comp[0] + xPowUseComp[0] = 0.0\n",
       " powUseCompEq[1] : -0.001 xCo2Comp[1] + xPowUseComp[1] = 0.0\n",
       " powUseCompEq[2] : -0.001 xCo2Comp[2] + xPowUseComp[2] = 0.0\n",
       " powUseCompEq[3] : -0.001 xCo2Comp[3] + xPowUseComp[3] = 0.0\n",
       " powUseCompEq[4] : -0.001 xCo2Comp[4] + xPowUseComp[4] = 0.0\n",
       " powUseCompEq[5] : -0.001 xCo2Comp[5] + xPowUseComp[5] = 0.0\n",
       " powUseCompEq[6] : -0.001 xCo2Comp[6] + xPowUseComp[6] = 0.0\n",
       " powUseCompEq[7] : -0.001 xCo2Comp[7] + xPowUseComp[7] = 0.0\n",
       " powUseCompEq[8] : -0.001 xCo2Comp[8] + xPowUseComp[8] = 0.0\n",
       " powUseCompEq[9] : -0.001 xCo2Comp[9] + xPowUseComp[9] = 0.0\n",
       " powUseCompEq[10] : -0.001 xCo2Comp[10] + xPowUseComp[10] = 0.0\n",
       " powUseCompEq[11] : -0.001 xCo2Comp[11] + xPowUseComp[11] = 0.0\n",
       " powUseCompEq[12] : -0.001 xCo2Comp[12] + xPowUseComp[12] = 0.0\n",
       " powUseCompEq[13] : -0.001 xCo2Comp[13] + xPowUseComp[13] = 0.0\n",
       " powUseCompEq[14] : -0.001 xCo2Comp[14] + xPowUseComp[14] = 0.0\n",
       " powUseCompEq[15] : -0.001 xCo2Comp[15] + xPowUseComp[15] = 0.0\n",
       " powUseCompEq[16] : -0.001 xCo2Comp[16] + xPowUseComp[16] = 0.0\n",
       " powUseCompEq[17] : -0.001 xCo2Comp[17] + xPowUseComp[17] = 0.0\n",
       " powUseCompEq[18] : -0.001 xCo2Comp[18] + xPowUseComp[18] = 0.0\n",
       " powUseCompEq[19] : -0.001 xCo2Comp[19] + xPowUseComp[19] = 0.0\n",
       " powUseCompEq[20] : -0.001 xCo2Comp[20] + xPowUseComp[20] = 0.0\n",
       " powUseCompEq[21] : -0.001 xCo2Comp[21] + xPowUseComp[21] = 0.0\n",
       " powUseCompEq[22] : -0.001 xCo2Comp[22] + xPowUseComp[22] = 0.0\n",
       " powUseCompEq[23] : -0.001 xCo2Comp[23] + xPowUseComp[23] = 0.0"
      ]
     },
     "execution_count": 42,
     "metadata": {},
     "output_type": "execute_result"
    }
   ],
   "source": [
    "@constraint(m, powUseCompEq[i = 0:tHorz - 1], xPowUseComp[i] == aPowUseRateComp * xCo2Comp[i])"
   ]
  },
  {
   "cell_type": "code",
   "execution_count": 43,
   "id": "794a5e3a",
   "metadata": {},
   "outputs": [
    {
     "data": {
      "text/plain": [
       "1-dimensional DenseAxisArray{ConstraintRef{Model, MathOptInterface.ConstraintIndex{MathOptInterface.ScalarAffineFunction{Float64}, MathOptInterface.EqualTo{Float64}}, ScalarShape},1,...} with index sets:\n",
       "    Dimension 1, 0:23\n",
       "And data, a 24-element Vector{ConstraintRef{Model, MathOptInterface.ConstraintIndex{MathOptInterface.ScalarAffineFunction{Float64}, MathOptInterface.EqualTo{Float64}}, ScalarShape}}:\n",
       " co2VentEq[0] : -vCo2PccVent[0] - xCo2DacVentFlue[0] + xCo2CapDacAir[0] + xCo2Vent[0] = 0.0\n",
       " co2VentEq[1] : -vCo2PccVent[1] - xCo2DacVentFlue[1] + xCo2CapDacAir[1] + xCo2Vent[1] = 0.0\n",
       " co2VentEq[2] : -vCo2PccVent[2] - xCo2DacVentFlue[2] + xCo2CapDacAir[2] + xCo2Vent[2] = 0.0\n",
       " co2VentEq[3] : -vCo2PccVent[3] - xCo2DacVentFlue[3] + xCo2CapDacAir[3] + xCo2Vent[3] = 0.0\n",
       " co2VentEq[4] : -vCo2PccVent[4] - xCo2DacVentFlue[4] + xCo2CapDacAir[4] + xCo2Vent[4] = 0.0\n",
       " co2VentEq[5] : -vCo2PccVent[5] - xCo2DacVentFlue[5] + xCo2CapDacAir[5] + xCo2Vent[5] = 0.0\n",
       " co2VentEq[6] : -vCo2PccVent[6] - xCo2DacVentFlue[6] + xCo2CapDacAir[6] + xCo2Vent[6] = 0.0\n",
       " co2VentEq[7] : -vCo2PccVent[7] - xCo2DacVentFlue[7] + xCo2CapDacAir[7] + xCo2Vent[7] = 0.0\n",
       " co2VentEq[8] : -vCo2PccVent[8] - xCo2DacVentFlue[8] + xCo2CapDacAir[8] + xCo2Vent[8] = 0.0\n",
       " co2VentEq[9] : -vCo2PccVent[9] - xCo2DacVentFlue[9] + xCo2CapDacAir[9] + xCo2Vent[9] = 0.0\n",
       " co2VentEq[10] : -vCo2PccVent[10] - xCo2DacVentFlue[10] + xCo2CapDacAir[10] + xCo2Vent[10] = 0.0\n",
       " co2VentEq[11] : -vCo2PccVent[11] - xCo2DacVentFlue[11] + xCo2CapDacAir[11] + xCo2Vent[11] = 0.0\n",
       " co2VentEq[12] : -vCo2PccVent[12] - xCo2DacVentFlue[12] + xCo2CapDacAir[12] + xCo2Vent[12] = 0.0\n",
       " co2VentEq[13] : -vCo2PccVent[13] - xCo2DacVentFlue[13] + xCo2CapDacAir[13] + xCo2Vent[13] = 0.0\n",
       " co2VentEq[14] : -vCo2PccVent[14] - xCo2DacVentFlue[14] + xCo2CapDacAir[14] + xCo2Vent[14] = 0.0\n",
       " co2VentEq[15] : -vCo2PccVent[15] - xCo2DacVentFlue[15] + xCo2CapDacAir[15] + xCo2Vent[15] = 0.0\n",
       " co2VentEq[16] : -vCo2PccVent[16] - xCo2DacVentFlue[16] + xCo2CapDacAir[16] + xCo2Vent[16] = 0.0\n",
       " co2VentEq[17] : -vCo2PccVent[17] - xCo2DacVentFlue[17] + xCo2CapDacAir[17] + xCo2Vent[17] = 0.0\n",
       " co2VentEq[18] : -vCo2PccVent[18] - xCo2DacVentFlue[18] + xCo2CapDacAir[18] + xCo2Vent[18] = 0.0\n",
       " co2VentEq[19] : -vCo2PccVent[19] - xCo2DacVentFlue[19] + xCo2CapDacAir[19] + xCo2Vent[19] = 0.0\n",
       " co2VentEq[20] : -vCo2PccVent[20] - xCo2DacVentFlue[20] + xCo2CapDacAir[20] + xCo2Vent[20] = 0.0\n",
       " co2VentEq[21] : -vCo2PccVent[21] - xCo2DacVentFlue[21] + xCo2CapDacAir[21] + xCo2Vent[21] = 0.0\n",
       " co2VentEq[22] : -vCo2PccVent[22] - xCo2DacVentFlue[22] + xCo2CapDacAir[22] + xCo2Vent[22] = 0.0\n",
       " co2VentEq[23] : -vCo2PccVent[23] - xCo2DacVentFlue[23] + xCo2CapDacAir[23] + xCo2Vent[23] = 0.0"
      ]
     },
     "execution_count": 43,
     "metadata": {},
     "output_type": "execute_result"
    }
   ],
   "source": [
    "@constraint(m, co2VentEq[i = 0:tHorz - 1], xCo2Vent[i] == vCo2PccVent[i] + xCo2DacVentFlue[i] - \n",
    "            xCo2CapDacAir[i])"
   ]
  },
  {
   "cell_type": "markdown",
   "id": "14fdd08c",
   "metadata": {},
   "source": [
    "* Gross power from the plant"
   ]
  },
  {
   "cell_type": "code",
   "execution_count": 44,
   "id": "ca36cffc",
   "metadata": {},
   "outputs": [
    {
     "data": {
      "text/plain": [
       "1-dimensional DenseAxisArray{ConstraintRef{Model, MathOptInterface.ConstraintIndex{MathOptInterface.ScalarAffineFunction{Float64}, MathOptInterface.EqualTo{Float64}}, ScalarShape},1,...} with index sets:\n",
       "    Dimension 1, 0:23\n",
       "And data, a 24-element Vector{ConstraintRef{Model, MathOptInterface.ConstraintIndex{MathOptInterface.ScalarAffineFunction{Float64}, MathOptInterface.EqualTo{Float64}}, ScalarShape}}:\n",
       " powGrossEq[0] : -xPowGasTur[0] + xPowGross[0] - xPowSteaTur[0] = 0.0\n",
       " powGrossEq[1] : -xPowGasTur[1] + xPowGross[1] - xPowSteaTur[1] = 0.0\n",
       " powGrossEq[2] : -xPowGasTur[2] + xPowGross[2] - xPowSteaTur[2] = 0.0\n",
       " powGrossEq[3] : -xPowGasTur[3] + xPowGross[3] - xPowSteaTur[3] = 0.0\n",
       " powGrossEq[4] : -xPowGasTur[4] + xPowGross[4] - xPowSteaTur[4] = 0.0\n",
       " powGrossEq[5] : -xPowGasTur[5] + xPowGross[5] - xPowSteaTur[5] = 0.0\n",
       " powGrossEq[6] : -xPowGasTur[6] + xPowGross[6] - xPowSteaTur[6] = 0.0\n",
       " powGrossEq[7] : -xPowGasTur[7] + xPowGross[7] - xPowSteaTur[7] = 0.0\n",
       " powGrossEq[8] : -xPowGasTur[8] + xPowGross[8] - xPowSteaTur[8] = 0.0\n",
       " powGrossEq[9] : -xPowGasTur[9] + xPowGross[9] - xPowSteaTur[9] = 0.0\n",
       " powGrossEq[10] : -xPowGasTur[10] + xPowGross[10] - xPowSteaTur[10] = 0.0\n",
       " powGrossEq[11] : -xPowGasTur[11] + xPowGross[11] - xPowSteaTur[11] = 0.0\n",
       " powGrossEq[12] : -xPowGasTur[12] + xPowGross[12] - xPowSteaTur[12] = 0.0\n",
       " powGrossEq[13] : -xPowGasTur[13] + xPowGross[13] - xPowSteaTur[13] = 0.0\n",
       " powGrossEq[14] : -xPowGasTur[14] + xPowGross[14] - xPowSteaTur[14] = 0.0\n",
       " powGrossEq[15] : -xPowGasTur[15] + xPowGross[15] - xPowSteaTur[15] = 0.0\n",
       " powGrossEq[16] : -xPowGasTur[16] + xPowGross[16] - xPowSteaTur[16] = 0.0\n",
       " powGrossEq[17] : -xPowGasTur[17] + xPowGross[17] - xPowSteaTur[17] = 0.0\n",
       " powGrossEq[18] : -xPowGasTur[18] + xPowGross[18] - xPowSteaTur[18] = 0.0\n",
       " powGrossEq[19] : -xPowGasTur[19] + xPowGross[19] - xPowSteaTur[19] = 0.0\n",
       " powGrossEq[20] : -xPowGasTur[20] + xPowGross[20] - xPowSteaTur[20] = 0.0\n",
       " powGrossEq[21] : -xPowGasTur[21] + xPowGross[21] - xPowSteaTur[21] = 0.0\n",
       " powGrossEq[22] : -xPowGasTur[22] + xPowGross[22] - xPowSteaTur[22] = 0.0\n",
       " powGrossEq[23] : -xPowGasTur[23] + xPowGross[23] - xPowSteaTur[23] = 0.0"
      ]
     },
     "execution_count": 44,
     "metadata": {},
     "output_type": "execute_result"
    }
   ],
   "source": [
    "@constraint(m, powGrossEq[i = 0:tHorz - 1], \n",
    "            xPowGross[i] == xPowGasTur[i] + xPowSteaTur[i]\n",
    "           )"
   ]
  },
  {
   "cell_type": "markdown",
   "id": "4c62c506",
   "metadata": {},
   "source": [
    "* Total auxiliary power"
   ]
  },
  {
   "cell_type": "code",
   "execution_count": 45,
   "id": "b650d009",
   "metadata": {},
   "outputs": [
    {
     "data": {
      "text/plain": [
       "1-dimensional DenseAxisArray{ConstraintRef{Model, MathOptInterface.ConstraintIndex{MathOptInterface.ScalarAffineFunction{Float64}, MathOptInterface.EqualTo{Float64}}, ScalarShape},1,...} with index sets:\n",
       "    Dimension 1, 0:23\n",
       "And data, a 24-element Vector{ConstraintRef{Model, MathOptInterface.ConstraintIndex{MathOptInterface.ScalarAffineFunction{Float64}, MathOptInterface.EqualTo{Float64}}, ScalarShape}}:\n",
       " auxPowEq[0] : -xAuxPowGasT[0] - xAuxPowSteaT[0] + xAuxPow[0] = 0.0\n",
       " auxPowEq[1] : -xAuxPowGasT[1] - xAuxPowSteaT[1] + xAuxPow[1] = 0.0\n",
       " auxPowEq[2] : -xAuxPowGasT[2] - xAuxPowSteaT[2] + xAuxPow[2] = 0.0\n",
       " auxPowEq[3] : -xAuxPowGasT[3] - xAuxPowSteaT[3] + xAuxPow[3] = 0.0\n",
       " auxPowEq[4] : -xAuxPowGasT[4] - xAuxPowSteaT[4] + xAuxPow[4] = 0.0\n",
       " auxPowEq[5] : -xAuxPowGasT[5] - xAuxPowSteaT[5] + xAuxPow[5] = 0.0\n",
       " auxPowEq[6] : -xAuxPowGasT[6] - xAuxPowSteaT[6] + xAuxPow[6] = 0.0\n",
       " auxPowEq[7] : -xAuxPowGasT[7] - xAuxPowSteaT[7] + xAuxPow[7] = 0.0\n",
       " auxPowEq[8] : -xAuxPowGasT[8] - xAuxPowSteaT[8] + xAuxPow[8] = 0.0\n",
       " auxPowEq[9] : -xAuxPowGasT[9] - xAuxPowSteaT[9] + xAuxPow[9] = 0.0\n",
       " auxPowEq[10] : -xAuxPowGasT[10] - xAuxPowSteaT[10] + xAuxPow[10] = 0.0\n",
       " auxPowEq[11] : -xAuxPowGasT[11] - xAuxPowSteaT[11] + xAuxPow[11] = 0.0\n",
       " auxPowEq[12] : -xAuxPowGasT[12] - xAuxPowSteaT[12] + xAuxPow[12] = 0.0\n",
       " auxPowEq[13] : -xAuxPowGasT[13] - xAuxPowSteaT[13] + xAuxPow[13] = 0.0\n",
       " auxPowEq[14] : -xAuxPowGasT[14] - xAuxPowSteaT[14] + xAuxPow[14] = 0.0\n",
       " auxPowEq[15] : -xAuxPowGasT[15] - xAuxPowSteaT[15] + xAuxPow[15] = 0.0\n",
       " auxPowEq[16] : -xAuxPowGasT[16] - xAuxPowSteaT[16] + xAuxPow[16] = 0.0\n",
       " auxPowEq[17] : -xAuxPowGasT[17] - xAuxPowSteaT[17] + xAuxPow[17] = 0.0\n",
       " auxPowEq[18] : -xAuxPowGasT[18] - xAuxPowSteaT[18] + xAuxPow[18] = 0.0\n",
       " auxPowEq[19] : -xAuxPowGasT[19] - xAuxPowSteaT[19] + xAuxPow[19] = 0.0\n",
       " auxPowEq[20] : -xAuxPowGasT[20] - xAuxPowSteaT[20] + xAuxPow[20] = 0.0\n",
       " auxPowEq[21] : -xAuxPowGasT[21] - xAuxPowSteaT[21] + xAuxPow[21] = 0.0\n",
       " auxPowEq[22] : -xAuxPowGasT[22] - xAuxPowSteaT[22] + xAuxPow[22] = 0.0\n",
       " auxPowEq[23] : -xAuxPowGasT[23] - xAuxPowSteaT[23] + xAuxPow[23] = 0.0"
      ]
     },
     "execution_count": 45,
     "metadata": {},
     "output_type": "execute_result"
    }
   ],
   "source": [
    "@constraint(m, auxPowEq[i = 0:tHorz - 1],\n",
    "            xAuxPow[i] == xAuxPowGasT[i] + xAuxPowSteaT[i])"
   ]
  },
  {
   "cell_type": "markdown",
   "id": "3b935ed3",
   "metadata": {},
   "source": [
    "* Total Power out"
   ]
  },
  {
   "cell_type": "code",
   "execution_count": 46,
   "id": "6abb2efe",
   "metadata": {},
   "outputs": [
    {
     "data": {
      "text/plain": [
       "1-dimensional DenseAxisArray{ConstraintRef{Model, MathOptInterface.ConstraintIndex{MathOptInterface.ScalarAffineFunction{Float64}, MathOptInterface.EqualTo{Float64}}, ScalarShape},1,...} with index sets:\n",
       "    Dimension 1, 0:23\n",
       "And data, a 24-element Vector{ConstraintRef{Model, MathOptInterface.ConstraintIndex{MathOptInterface.ScalarAffineFunction{Float64}, MathOptInterface.EqualTo{Float64}}, ScalarShape}}:\n",
       " powOutEq[0] : -xPowGross[0] + xPowOut[0] + xPowUsePcc[0] + xPowUseDacFlue[0] + xPowUseDacAir[0] + xPowUseComp[0] + xAuxPow[0] = 0.0\n",
       " powOutEq[1] : -xPowGross[1] + xPowOut[1] + xPowUsePcc[1] + xPowUseDacFlue[1] + xPowUseDacAir[1] + xPowUseComp[1] + xAuxPow[1] = 0.0\n",
       " powOutEq[2] : -xPowGross[2] + xPowOut[2] + xPowUsePcc[2] + xPowUseDacFlue[2] + xPowUseDacAir[2] + xPowUseComp[2] + xAuxPow[2] = 0.0\n",
       " powOutEq[3] : -xPowGross[3] + xPowOut[3] + xPowUsePcc[3] + xPowUseDacFlue[3] + xPowUseDacAir[3] + xPowUseComp[3] + xAuxPow[3] = 0.0\n",
       " powOutEq[4] : -xPowGross[4] + xPowOut[4] + xPowUsePcc[4] + xPowUseDacFlue[4] + xPowUseDacAir[4] + xPowUseComp[4] + xAuxPow[4] = 0.0\n",
       " powOutEq[5] : -xPowGross[5] + xPowOut[5] + xPowUsePcc[5] + xPowUseDacFlue[5] + xPowUseDacAir[5] + xPowUseComp[5] + xAuxPow[5] = 0.0\n",
       " powOutEq[6] : -xPowGross[6] + xPowOut[6] + xPowUsePcc[6] + xPowUseDacFlue[6] + xPowUseDacAir[6] + xPowUseComp[6] + xAuxPow[6] = 0.0\n",
       " powOutEq[7] : -xPowGross[7] + xPowOut[7] + xPowUsePcc[7] + xPowUseDacFlue[7] + xPowUseDacAir[7] + xPowUseComp[7] + xAuxPow[7] = 0.0\n",
       " powOutEq[8] : -xPowGross[8] + xPowOut[8] + xPowUsePcc[8] + xPowUseDacFlue[8] + xPowUseDacAir[8] + xPowUseComp[8] + xAuxPow[8] = 0.0\n",
       " powOutEq[9] : -xPowGross[9] + xPowOut[9] + xPowUsePcc[9] + xPowUseDacFlue[9] + xPowUseDacAir[9] + xPowUseComp[9] + xAuxPow[9] = 0.0\n",
       " powOutEq[10] : -xPowGross[10] + xPowOut[10] + xPowUsePcc[10] + xPowUseDacFlue[10] + xPowUseDacAir[10] + xPowUseComp[10] + xAuxPow[10] = 0.0\n",
       " powOutEq[11] : -xPowGross[11] + xPowOut[11] + xPowUsePcc[11] + xPowUseDacFlue[11] + xPowUseDacAir[11] + xPowUseComp[11] + xAuxPow[11] = 0.0\n",
       " powOutEq[12] : -xPowGross[12] + xPowOut[12] + xPowUsePcc[12] + xPowUseDacFlue[12] + xPowUseDacAir[12] + xPowUseComp[12] + xAuxPow[12] = 0.0\n",
       " powOutEq[13] : -xPowGross[13] + xPowOut[13] + xPowUsePcc[13] + xPowUseDacFlue[13] + xPowUseDacAir[13] + xPowUseComp[13] + xAuxPow[13] = 0.0\n",
       " powOutEq[14] : -xPowGross[14] + xPowOut[14] + xPowUsePcc[14] + xPowUseDacFlue[14] + xPowUseDacAir[14] + xPowUseComp[14] + xAuxPow[14] = 0.0\n",
       " powOutEq[15] : -xPowGross[15] + xPowOut[15] + xPowUsePcc[15] + xPowUseDacFlue[15] + xPowUseDacAir[15] + xPowUseComp[15] + xAuxPow[15] = 0.0\n",
       " powOutEq[16] : -xPowGross[16] + xPowOut[16] + xPowUsePcc[16] + xPowUseDacFlue[16] + xPowUseDacAir[16] + xPowUseComp[16] + xAuxPow[16] = 0.0\n",
       " powOutEq[17] : -xPowGross[17] + xPowOut[17] + xPowUsePcc[17] + xPowUseDacFlue[17] + xPowUseDacAir[17] + xPowUseComp[17] + xAuxPow[17] = 0.0\n",
       " powOutEq[18] : -xPowGross[18] + xPowOut[18] + xPowUsePcc[18] + xPowUseDacFlue[18] + xPowUseDacAir[18] + xPowUseComp[18] + xAuxPow[18] = 0.0\n",
       " powOutEq[19] : -xPowGross[19] + xPowOut[19] + xPowUsePcc[19] + xPowUseDacFlue[19] + xPowUseDacAir[19] + xPowUseComp[19] + xAuxPow[19] = 0.0\n",
       " powOutEq[20] : -xPowGross[20] + xPowOut[20] + xPowUsePcc[20] + xPowUseDacFlue[20] + xPowUseDacAir[20] + xPowUseComp[20] + xAuxPow[20] = 0.0\n",
       " powOutEq[21] : -xPowGross[21] + xPowOut[21] + xPowUsePcc[21] + xPowUseDacFlue[21] + xPowUseDacAir[21] + xPowUseComp[21] + xAuxPow[21] = 0.0\n",
       " powOutEq[22] : -xPowGross[22] + xPowOut[22] + xPowUsePcc[22] + xPowUseDacFlue[22] + xPowUseDacAir[22] + xPowUseComp[22] + xAuxPow[22] = 0.0\n",
       " powOutEq[23] : -xPowGross[23] + xPowOut[23] + xPowUsePcc[23] + xPowUseDacFlue[23] + xPowUseDacAir[23] + xPowUseComp[23] + xAuxPow[23] = 0.0"
      ]
     },
     "execution_count": 46,
     "metadata": {},
     "output_type": "execute_result"
    }
   ],
   "source": [
    "@constraint(m, powOutEq[i = 0:tHorz - 1], \n",
    "            xPowOut[i] == xPowGross[i] - xPowUsePcc[i] - xPowUseDacFlue[i] \n",
    "            - xPowUseDacAir[i] - xPowUseComp[i] - xAuxPow[i]\n",
    "           )"
   ]
  },
  {
   "cell_type": "markdown",
   "id": "905109d4",
   "metadata": {},
   "source": [
    "# Objective function"
   ]
  },
  {
   "cell_type": "code",
   "execution_count": 47,
   "id": "0ccdfea2",
   "metadata": {},
   "outputs": [
    {
     "data": {
      "text/latex": [
       "$$ 1.263086026399636 xFuel_{0} + 2.0e7 xCo2Vent_{0} + 10 xCo2Comp_{0} - 22.613532660866532 xPowOut_{0} + 1.263086026399636 xFuel_{1} + 2.0e7 xCo2Vent_{1} + 10 xCo2Comp_{1} - 43.940339900325355 xPowOut_{1} + 1.263086026399636 xFuel_{2} + 2.0e7 xCo2Vent_{2} + 10 xCo2Comp_{2} - 47.97565774886927 xPowOut_{2} + 1.263086026399636 xFuel_{3} + 2.0e7 xCo2Vent_{3} + 10 xCo2Comp_{3} - 26.487926792753967 xPowOut_{3} + 1.263086026399636 xFuel_{4} + 2.0e7 xCo2Vent_{4} + 10 xCo2Comp_{4} - 36.761905133029316 xPowOut_{4} + 1.263086026399636 xFuel_{5} + 2.0e7 xCo2Vent_{5} + 10 xCo2Comp_{5} - 32.698702744093936 xPowOut_{5} + 1.263086026399636 xFuel_{6} + 2.0e7 xCo2Vent_{6} + 10 xCo2Comp_{6} - 67.75048284914392 xPowOut_{6} + 1.263086026399636 xFuel_{7} + 2.0e7 xCo2Vent_{7} + 10 xCo2Comp_{7} - 3.92930864989746 xPowOut_{7} + 1.263086026399636 xFuel_{8} + 2.0e7 xCo2Vent_{8} + 10 xCo2Comp_{8} - 102.61074530440287 xPowOut_{8} + 1.263086026399636 xFuel_{9} + 2.0e7 xCo2Vent_{9} + 10 xCo2Comp_{9} - 89.15994431692522 xPowOut_{9} + 1.263086026399636 xFuel_{10} + 2.0e7 xCo2Vent_{10} + 10 xCo2Comp_{10} - 56.9568742231953 xPowOut_{10} + 1.263086026399636 xFuel_{11} + 2.0e7 xCo2Vent_{11} + 10 xCo2Comp_{11} - 5.365504664649465 xPowOut_{11} + 1.263086026399636 xFuel_{12} + 2.0e7 xCo2Vent_{12} + 10 xCo2Comp_{12} - 12.650196407002381 xPowOut_{12} + 1.263086026399636 xFuel_{13} + 2.0e7 xCo2Vent_{13} + 10 xCo2Comp_{13} - 13.162302387582502 xPowOut_{13} + 1.263086026399636 xFuel_{14} + 2.0e7 xCo2Vent_{14} + 10 xCo2Comp_{14} - 35.11099318523387 xPowOut_{14} + 1.263086026399636 xFuel_{15} + 2.0e7 xCo2Vent_{15} + 10 xCo2Comp_{15} - 30.52480431248639 xPowOut_{15} + 1.263086026399636 xFuel_{16} + 2.0e7 xCo2Vent_{16} + 10 xCo2Comp_{16} - 88.54300712718462 xPowOut_{16} + 1.263086026399636 xFuel_{17} + 2.0e7 xCo2Vent_{17} + 10 xCo2Comp_{17} - 1.0569730078023205 xPowOut_{17} + 1.263086026399636 xFuel_{18} + 2.0e7 xCo2Vent_{18} + 10 xCo2Comp_{18} - 20.28920011611015 xPowOut_{18} + 1.263086026399636 xFuel_{19} + 2.0e7 xCo2Vent_{19} + 10 xCo2Comp_{19} - 56.16046820129542 xPowOut_{19} + 1.263086026399636 xFuel_{20} + 2.0e7 xCo2Vent_{20} + 10 xCo2Comp_{20} - 23.96910338858932 xPowOut_{20} + 1.263086026399636 xFuel_{21} + 2.0e7 xCo2Vent_{21} + 10 xCo2Comp_{21} - 15.062770868598442 xPowOut_{21} + 1.263086026399636 xFuel_{22} + 2.0e7 xCo2Vent_{22} + 10 xCo2Comp_{22} - 57.42472899557157 xPowOut_{22} + 1.263086026399636 xFuel_{23} + 2.0e7 xCo2Vent_{23} + 10 xCo2Comp_{23} - 3.8135224422961223 xPowOut_{23} $$"
      ],
      "text/plain": [
       "1.263086026399636 xFuel[0] + 2.0e7 xCo2Vent[0] + 10 xCo2Comp[0] - 22.613532660866532 xPowOut[0] + 1.263086026399636 xFuel[1] + 2.0e7 xCo2Vent[1] + 10 xCo2Comp[1] - 43.940339900325355 xPowOut[1] + 1.263086026399636 xFuel[2] + 2.0e7 xCo2Vent[2] + 10 xCo2Comp[2] - 47.97565774886927 xPowOut[2] + 1.263086026399636 xFuel[3] + 2.0e7 xCo2Vent[3] + 10 xCo2Comp[3] - 26.487926792753967 xPowOut[3] + 1.263086026399636 xFuel[4] + 2.0e7 xCo2Vent[4] + 10 xCo2Comp[4] - 36.761905133029316 xPowOut[4] + 1.263086026399636 xFuel[5] + 2.0e7 xCo2Vent[5] + 10 xCo2Comp[5] - 32.698702744093936 xPowOut[5] + 1.263086026399636 xFuel[6] + 2.0e7 xCo2Vent[6] + 10 xCo2Comp[6] - 67.75048284914392 xPowOut[6] + 1.263086026399636 xFuel[7] + 2.0e7 xCo2Vent[7] + 10 xCo2Comp[7] - 3.92930864989746 xPowOut[7] + 1.263086026399636 xFuel[8] + 2.0e7 xCo2Vent[8] + 10 xCo2Comp[8] - 102.61074530440287 xPowOut[8] + 1.263086026399636 xFuel[9] + 2.0e7 xCo2Vent[9] + 10 xCo2Comp[9] - 89.15994431692522 xPowOut[9] + 1.263086026399636 xFuel[10] + 2.0e7 xCo2Vent[10] + 10 xCo2Comp[10] - 56.9568742231953 xPowOut[10] + 1.263086026399636 xFuel[11] + 2.0e7 xCo2Vent[11] + 10 xCo2Comp[11] - 5.365504664649465 xPowOut[11] + 1.263086026399636 xFuel[12] + 2.0e7 xCo2Vent[12] + 10 xCo2Comp[12] - 12.650196407002381 xPowOut[12] + 1.263086026399636 xFuel[13] + 2.0e7 xCo2Vent[13] + 10 xCo2Comp[13] - 13.162302387582502 xPowOut[13] + 1.263086026399636 xFuel[14] + 2.0e7 xCo2Vent[14] + 10 xCo2Comp[14] - 35.11099318523387 xPowOut[14] + 1.263086026399636 xFuel[15] + 2.0e7 xCo2Vent[15] + 10 xCo2Comp[15] - 30.52480431248639 xPowOut[15] + 1.263086026399636 xFuel[16] + 2.0e7 xCo2Vent[16] + 10 xCo2Comp[16] - 88.54300712718462 xPowOut[16] + 1.263086026399636 xFuel[17] + 2.0e7 xCo2Vent[17] + 10 xCo2Comp[17] - 1.0569730078023205 xPowOut[17] + 1.263086026399636 xFuel[18] + 2.0e7 xCo2Vent[18] + 10 xCo2Comp[18] - 20.28920011611015 xPowOut[18] + 1.263086026399636 xFuel[19] + 2.0e7 xCo2Vent[19] + 10 xCo2Comp[19] - 56.16046820129542 xPowOut[19] + 1.263086026399636 xFuel[20] + 2.0e7 xCo2Vent[20] + 10 xCo2Comp[20] - 23.96910338858932 xPowOut[20] + 1.263086026399636 xFuel[21] + 2.0e7 xCo2Vent[21] + 10 xCo2Comp[21] - 15.062770868598442 xPowOut[21] + 1.263086026399636 xFuel[22] + 2.0e7 xCo2Vent[22] + 10 xCo2Comp[22] - 57.42472899557157 xPowOut[22] + 1.263086026399636 xFuel[23] + 2.0e7 xCo2Vent[23] + 10 xCo2Comp[23] - 3.8135224422961223 xPowOut[23]"
      ]
     },
     "execution_count": 47,
     "metadata": {},
     "output_type": "execute_result"
    }
   ],
   "source": [
    "@expression(m, eObjfExpr, sum(price_ng_lb * xFuel[i] + \n",
    "                              pEmissionPrice * xCo2Vent[i] + \n",
    "                              pCo2TranspPrice * xCo2Comp[i] - \n",
    "                              pow_price[i+1] * xPowOut[i] for i in 0:tHorz - 1))\n",
    "                              #pPowBasePrice * xPowOut[i] for i in 0:tHorz - 1))\n",
    "#@expression(m, eObjfExpr, sum(-xPowOut[i] for i in 0:tHorz - 1))"
   ]
  },
  {
   "cell_type": "code",
   "execution_count": 48,
   "id": "37fa9968",
   "metadata": {
    "collapsed": true
   },
   "outputs": [
    {
     "data": {
      "text/latex": [
       "$$ 1.263086026399636 xFuel_{0} + 2.0e7 xCo2Vent_{0} + 10 xCo2Comp_{0} - 22.613532660866532 xPowOut_{0} + 1.263086026399636 xFuel_{1} + 2.0e7 xCo2Vent_{1} + 10 xCo2Comp_{1} - 43.940339900325355 xPowOut_{1} + 1.263086026399636 xFuel_{2} + 2.0e7 xCo2Vent_{2} + 10 xCo2Comp_{2} - 47.97565774886927 xPowOut_{2} + 1.263086026399636 xFuel_{3} + 2.0e7 xCo2Vent_{3} + 10 xCo2Comp_{3} - 26.487926792753967 xPowOut_{3} + 1.263086026399636 xFuel_{4} + 2.0e7 xCo2Vent_{4} + 10 xCo2Comp_{4} - 36.761905133029316 xPowOut_{4} + 1.263086026399636 xFuel_{5} + 2.0e7 xCo2Vent_{5} + 10 xCo2Comp_{5} - 32.698702744093936 xPowOut_{5} + 1.263086026399636 xFuel_{6} + 2.0e7 xCo2Vent_{6} + 10 xCo2Comp_{6} - 67.75048284914392 xPowOut_{6} + 1.263086026399636 xFuel_{7} + 2.0e7 xCo2Vent_{7} + 10 xCo2Comp_{7} - 3.92930864989746 xPowOut_{7} + 1.263086026399636 xFuel_{8} + 2.0e7 xCo2Vent_{8} + 10 xCo2Comp_{8} - 102.61074530440287 xPowOut_{8} + 1.263086026399636 xFuel_{9} + 2.0e7 xCo2Vent_{9} + 10 xCo2Comp_{9} - 89.15994431692522 xPowOut_{9} + 1.263086026399636 xFuel_{10} + 2.0e7 xCo2Vent_{10} + 10 xCo2Comp_{10} - 56.9568742231953 xPowOut_{10} + 1.263086026399636 xFuel_{11} + 2.0e7 xCo2Vent_{11} + 10 xCo2Comp_{11} - 5.365504664649465 xPowOut_{11} + 1.263086026399636 xFuel_{12} + 2.0e7 xCo2Vent_{12} + 10 xCo2Comp_{12} - 12.650196407002381 xPowOut_{12} + 1.263086026399636 xFuel_{13} + 2.0e7 xCo2Vent_{13} + 10 xCo2Comp_{13} - 13.162302387582502 xPowOut_{13} + 1.263086026399636 xFuel_{14} + 2.0e7 xCo2Vent_{14} + 10 xCo2Comp_{14} - 35.11099318523387 xPowOut_{14} + 1.263086026399636 xFuel_{15} + 2.0e7 xCo2Vent_{15} + 10 xCo2Comp_{15} - 30.52480431248639 xPowOut_{15} + 1.263086026399636 xFuel_{16} + 2.0e7 xCo2Vent_{16} + 10 xCo2Comp_{16} - 88.54300712718462 xPowOut_{16} + 1.263086026399636 xFuel_{17} + 2.0e7 xCo2Vent_{17} + 10 xCo2Comp_{17} - 1.0569730078023205 xPowOut_{17} + 1.263086026399636 xFuel_{18} + 2.0e7 xCo2Vent_{18} + 10 xCo2Comp_{18} - 20.28920011611015 xPowOut_{18} + 1.263086026399636 xFuel_{19} + 2.0e7 xCo2Vent_{19} + 10 xCo2Comp_{19} - 56.16046820129542 xPowOut_{19} + 1.263086026399636 xFuel_{20} + 2.0e7 xCo2Vent_{20} + 10 xCo2Comp_{20} - 23.96910338858932 xPowOut_{20} + 1.263086026399636 xFuel_{21} + 2.0e7 xCo2Vent_{21} + 10 xCo2Comp_{21} - 15.062770868598442 xPowOut_{21} + 1.263086026399636 xFuel_{22} + 2.0e7 xCo2Vent_{22} + 10 xCo2Comp_{22} - 57.42472899557157 xPowOut_{22} + 1.263086026399636 xFuel_{23} + 2.0e7 xCo2Vent_{23} + 10 xCo2Comp_{23} - 3.8135224422961223 xPowOut_{23} $$"
      ],
      "text/plain": [
       "1.263086026399636 xFuel[0] + 2.0e7 xCo2Vent[0] + 10 xCo2Comp[0] - 22.613532660866532 xPowOut[0] + 1.263086026399636 xFuel[1] + 2.0e7 xCo2Vent[1] + 10 xCo2Comp[1] - 43.940339900325355 xPowOut[1] + 1.263086026399636 xFuel[2] + 2.0e7 xCo2Vent[2] + 10 xCo2Comp[2] - 47.97565774886927 xPowOut[2] + 1.263086026399636 xFuel[3] + 2.0e7 xCo2Vent[3] + 10 xCo2Comp[3] - 26.487926792753967 xPowOut[3] + 1.263086026399636 xFuel[4] + 2.0e7 xCo2Vent[4] + 10 xCo2Comp[4] - 36.761905133029316 xPowOut[4] + 1.263086026399636 xFuel[5] + 2.0e7 xCo2Vent[5] + 10 xCo2Comp[5] - 32.698702744093936 xPowOut[5] + 1.263086026399636 xFuel[6] + 2.0e7 xCo2Vent[6] + 10 xCo2Comp[6] - 67.75048284914392 xPowOut[6] + 1.263086026399636 xFuel[7] + 2.0e7 xCo2Vent[7] + 10 xCo2Comp[7] - 3.92930864989746 xPowOut[7] + 1.263086026399636 xFuel[8] + 2.0e7 xCo2Vent[8] + 10 xCo2Comp[8] - 102.61074530440287 xPowOut[8] + 1.263086026399636 xFuel[9] + 2.0e7 xCo2Vent[9] + 10 xCo2Comp[9] - 89.15994431692522 xPowOut[9] + 1.263086026399636 xFuel[10] + 2.0e7 xCo2Vent[10] + 10 xCo2Comp[10] - 56.9568742231953 xPowOut[10] + 1.263086026399636 xFuel[11] + 2.0e7 xCo2Vent[11] + 10 xCo2Comp[11] - 5.365504664649465 xPowOut[11] + 1.263086026399636 xFuel[12] + 2.0e7 xCo2Vent[12] + 10 xCo2Comp[12] - 12.650196407002381 xPowOut[12] + 1.263086026399636 xFuel[13] + 2.0e7 xCo2Vent[13] + 10 xCo2Comp[13] - 13.162302387582502 xPowOut[13] + 1.263086026399636 xFuel[14] + 2.0e7 xCo2Vent[14] + 10 xCo2Comp[14] - 35.11099318523387 xPowOut[14] + 1.263086026399636 xFuel[15] + 2.0e7 xCo2Vent[15] + 10 xCo2Comp[15] - 30.52480431248639 xPowOut[15] + 1.263086026399636 xFuel[16] + 2.0e7 xCo2Vent[16] + 10 xCo2Comp[16] - 88.54300712718462 xPowOut[16] + 1.263086026399636 xFuel[17] + 2.0e7 xCo2Vent[17] + 10 xCo2Comp[17] - 1.0569730078023205 xPowOut[17] + 1.263086026399636 xFuel[18] + 2.0e7 xCo2Vent[18] + 10 xCo2Comp[18] - 20.28920011611015 xPowOut[18] + 1.263086026399636 xFuel[19] + 2.0e7 xCo2Vent[19] + 10 xCo2Comp[19] - 56.16046820129542 xPowOut[19] + 1.263086026399636 xFuel[20] + 2.0e7 xCo2Vent[20] + 10 xCo2Comp[20] - 23.96910338858932 xPowOut[20] + 1.263086026399636 xFuel[21] + 2.0e7 xCo2Vent[21] + 10 xCo2Comp[21] - 15.062770868598442 xPowOut[21] + 1.263086026399636 xFuel[22] + 2.0e7 xCo2Vent[22] + 10 xCo2Comp[22] - 57.42472899557157 xPowOut[22] + 1.263086026399636 xFuel[23] + 2.0e7 xCo2Vent[23] + 10 xCo2Comp[23] - 3.8135224422961223 xPowOut[23]"
      ]
     },
     "execution_count": 48,
     "metadata": {},
     "output_type": "execute_result"
    }
   ],
   "source": [
    "@objective(m, Min, eObjfExpr)"
   ]
  },
  {
   "cell_type": "markdown",
   "id": "2a82b65a",
   "metadata": {},
   "source": [
    "# Solver declaration and solution"
   ]
  },
  {
   "cell_type": "code",
   "execution_count": 49,
   "id": "7a4761ac",
   "metadata": {},
   "outputs": [
    {
     "data": {
      "text/plain": [
       "1"
      ]
     },
     "execution_count": 49,
     "metadata": {},
     "output_type": "execute_result"
    }
   ],
   "source": [
    "set_optimizer(m, Clp.Optimizer)\n",
    "set_optimizer_attribute(m, \"LogLevel\", 3)\n",
    "set_optimizer_attribute(m, \"PresolveType\", 1)"
   ]
  },
  {
   "cell_type": "markdown",
   "id": "ff6b1963",
   "metadata": {},
   "source": [
    "## Solve"
   ]
  },
  {
   "cell_type": "code",
   "execution_count": 50,
   "id": "8027d846",
   "metadata": {},
   "outputs": [
    {
     "name": "stdout",
     "output_type": "stream",
     "text": [
      "OPTIMAL\n",
      "Clp1001I Initial range of elements is 4.40095e-08 to 1509.5298\n",
      "Clp1002I Range of elements is 0.00020978441 to 4766.7984\n",
      "Clp1002I Range of elements is 0.01217949 to 82.105243\n",
      "Clp1003I Final range of elements is 0.032194279 to 31.061419\n",
      "Clp0022I Absolute values of scaled rhs range from 2.3062292e-13 to 1000000, minimum gap 1e+100\n",
      "Clp0020I Absolute values of scaled objective range from 15.52486 to 81531107\n",
      "Clp0021I Absolute values of scaled bounds range from 19.620223 to 32.700372, minimum gap 13.080149\n",
      "Clp0006I 0  Obj 0 Primal inf 2058204.1 (242) Dual inf 19580597 (48) w.o. free dual inf (24)\n",
      "Clp0060I Primal error 0.5, dual error 0\n",
      "Clp0006I 97  Obj -3.4239961e+16 Primal inf 1.0762466e+16 (341)\n",
      "Clp0060I Primal error 0.5, dual error 9.6279381e-19\n",
      "Clp0006I 194  Obj -3.4239961e+16 Primal inf 1.0226041e+16 (347)\n",
      "Clp0006I 291  Obj -1.3131386e+14 Primal inf 3.9418985e+12 (280)\n",
      "Clp0006I 388  Obj -1.3131386e+14 Primal inf 1.1731554e+13 (241)\n",
      "Clp0006I 485  Obj -6758722.9 Primal inf 183631.95 (160)\n",
      "Clp0006I 582  Obj -2113953.3 Primal inf 19782.381 (149)\n",
      "Clp0006I 679  Obj -2113953.3 Primal inf 12724.838 (134)\n",
      "Clp0006I 776  Obj -2113953.3 Primal inf 1.5273631e+10 (182)\n",
      "Clp0006I 873  Obj -2113953.3 Primal inf 9.6789657e+10 (201)\n",
      " maybe forcing re-factorization - sum  1980877.9   67  pivots\n",
      " forcing re-factorization\n",
      "Clp0006I 940  Obj -1763060.1 Primal inf 7.1403764e+09 (256)\n",
      "Clp0006I 1037  Obj 4.404331e+10 Primal inf 1341.3144 (81)\n",
      " maybe forcing re-factorization - sum  1210380.7   75  pivots\n",
      " forcing re-factorization\n",
      "Clp0006I 1112  Obj 4.4043317e+10 Primal inf 1748.2657 (18)\n",
      " maybe forcing re-factorization - sum  18336.579   38  pivots\n",
      " forcing re-factorization\n",
      "Clp0006I 1150  Obj 4.4043317e+10 Primal inf 1745.6608 (10)\n",
      "Clp0006I 1170  Obj 4.4043317e+10\n",
      "Clp0025I Looking optimal checking bounds with 1e+10\n",
      "Clp0013I Going back to original objective\n",
      "Clp0025I Looking optimal checking bounds with 1e+10\n",
      "Clp0000I Optimal - objective value 4.4043317e+10\n",
      "Clp0033I Dual took 0.01 seconds (total 0.01)\n",
      "Clp0032I Optimal objective 4.404331735e+10 - 1170 iterations time 0.012\n"
     ]
    }
   ],
   "source": [
    "optimize!(m)\n",
    "println(termination_status(m))"
   ]
  },
  {
   "cell_type": "markdown",
   "id": "553d7d34",
   "metadata": {},
   "source": [
    "## Report"
   ]
  },
  {
   "cell_type": "code",
   "execution_count": 51,
   "id": "7d7afeeb",
   "metadata": {},
   "outputs": [
    {
     "data": {
      "text/plain": [
       "\"df_pow_price.csv\""
      ]
     },
     "execution_count": 51,
     "metadata": {},
     "output_type": "execute_result"
    }
   ],
   "source": [
    "\n",
    "# Co2 Data Frame\n",
    "df_co = DataFrame(Symbol(\"Co2Fuel\") => Float64[], # Pairs.\n",
    "                  Symbol(\"Co2CapPcc\") => Float64[],\n",
    "                  Symbol(\"Co2PccOut\") => Float64[],\n",
    "                  Symbol(\"vCo2PccVent\") => Float64[],\n",
    "                  Symbol(\"Co2DacFlueIn\") => Float64[],\n",
    "                  Symbol(\"Co2StoreDacFlue\") => Float64[],\n",
    "                  Symbol(\"Co2CapDacFlue\") => Float64[],\n",
    "                  Symbol(\"Co2CapDacAir\") => Float64[],\n",
    "                  Symbol(\"Co2DacVentFlue\") => Float64[],\n",
    "                  Symbol(\"Co2Vent\") => Float64[],\n",
    "                 )\n",
    "for i in 0:tHorz - 1\n",
    "    push!(df_co, (\n",
    "                  value(xCo2Fuel[i]),\n",
    "               value(xCo2CapPcc[i]),\n",
    "               value(xCo2PccOut[i]), \n",
    "               value(vCo2PccVent[i]), \n",
    "               value(xCo2DacFlueIn[i]), \n",
    "               value(xCo2StorDacFlue[i]), \n",
    "               value(xCo2CapDacFlue[i]), \n",
    "               value(xCo2CapDacAir[i]), \n",
    "               value(xCo2DacVentFlue[i]), \n",
    "               value(xCo2Vent[i])))\n",
    "end\n",
    "\n",
    "# Power Data Frame.\n",
    "df_pow = DataFrame(\n",
    "                  Symbol(\"PowGasTur\") => Float64[], # Pairs.\n",
    "                  Symbol(\"PowSteaTurb\") => Float64[],\n",
    "                  Symbol(\"PowHp\") => Float64[],\n",
    "                  Symbol(\"PowIp\") => Float64[],\n",
    "                  Symbol(\"PowLp\") => Float64[],\n",
    "                  Symbol(\"PowUsePcc\") => Float64[],\n",
    "                  Symbol(\"PowUseDacFlue\") => Float64[],\n",
    "                  Symbol(\"PowUseDacAir\") => Float64[],\n",
    "                  Symbol(\"PowUseComp\") => Float64[],\n",
    "                  Symbol(\"AuxPowGasT\") => Float64[],\n",
    "                  Symbol(\"AuxPowSteaT\") => Float64[],\n",
    "                  Symbol(\"PowGross\") => Float64[],\n",
    "                  Symbol(\"PowOut\") => Float64[],\n",
    "                  Symbol(\"yGasTelecLoad\") => Float64[],\n",
    "                  Symbol(\"Demand\") => Float64[]\n",
    "                 )\n",
    "for i in 0:tHorz-1\n",
    "    push!(df_pow, (\n",
    "                   value(xPowGasTur[i]),\n",
    "                   value(xPowSteaTur[i]),\n",
    "                   value(xPowHp[i]), \n",
    "                   value(xPowIp[i]), \n",
    "                   value(xPowLp[i]), \n",
    "                   value(xPowUsePcc[i]), \n",
    "                   value(xPowUseDacFlue[i]), \n",
    "                   value(xPowUseDacAir[i]), \n",
    "                   value(xPowUseComp[i]),\n",
    "                   value(xAuxPowGasT[i]),\n",
    "                   value(xAuxPowSteaT[i]),\n",
    "                   value(xPowGross[i]),\n",
    "                   value(xPowOut[i]),\n",
    "                   value(yGasTelecLoad[i]),\n",
    "                   rnum[i + 1]\n",
    "                  ))\n",
    "end\n",
    "\n",
    "df_steam = DataFrame(\n",
    "                     Symbol(\"CcRebDuty\") => Float64[],\n",
    "                     Symbol(\"SteaUsePcc\") => Float64[],\n",
    "                     Symbol(\"PccSteaSlack\") => Float64[],\n",
    "                     Symbol(\"DacSteaDuty\") => Float64[],\n",
    "                     Symbol(\"SteaUseDacFlue\") => Float64[],\n",
    "                     Symbol(\"SteaUseDacAir\") => Float64[],\n",
    "                     Symbol(\"DacSteaSlack\") => Float64[],\n",
    "                     Symbol(\"Fuel\") => Float64[]\n",
    "                    )\n",
    "for i in 0:tHorz-1\n",
    "    push!(df_steam, (\n",
    "                     value(xCcRebDuty[i]),\n",
    "                     value(xSteaUsePcc[i]),\n",
    "                     value(xPccSteaSlack[i]),\n",
    "                     value(xDacSteaDuty[i]),\n",
    "                     value(xSteaUseDacFlue[i]),\n",
    "                     value(xSteaUseDacAir[i]),\n",
    "                     value(xDacSteaSlack[i]),\n",
    "                     value(xFuel[i])\n",
    "                    ),\n",
    "         )\n",
    "end\n",
    "\n",
    "# Generate Dataframe of the DAC-Flue variables.\n",
    "df_dac_flue = DataFrame(:sFflue => Float64[],\n",
    "                     :sSflue => Float64[],\n",
    "                     :vAbsFlue => Float64[],\n",
    "                     :vRegFlue => Float64[],\n",
    "                     :a0Flue => Float64[],\n",
    "                     :a1Flue => Float64[],\n",
    "                     :a2Flue => Float64[],\n",
    "                     :aR0Flue => Float64[],\n",
    "                     :aR1Flue => Float64[])\n",
    "for i in 0:tHorz - 1\n",
    "    push!(df_dac_flue,(value(sFflue[i]), value(sSflue[i]),\n",
    "                  value(vAbsFlue[i]), value(vRegFlue[i]),\n",
    "                  value(a0Flue[i]), value(a1Flue[i]), value(a2Flue[i]),\n",
    "                  value(aR0Flue[i]), value(aR1Flue[i])))\n",
    "end\n",
    "\n",
    "# Generate Dataframe of the DAC-Air variables.\n",
    "df_dac_air = DataFrame(:sFair => Float64[],\n",
    "                     :sSair => Float64[],\n",
    "                     :vAbsAir => Float64[],\n",
    "                     :vRegAir => Float64[],\n",
    "                     :a0Air => Float64[],\n",
    "                     :a1Air => Float64[],\n",
    "                     :a2Air => Float64[],\n",
    "                     :aR0Air => Float64[],\n",
    "                     :aR1Air => Float64[])\n",
    "for i in 0:tHorz - 1\n",
    "    push!(df_dac_air,(value(sFair[i]), value(sSair[i]),\n",
    "                  value(vAbsAir[i]), value(vRegAir[i]),\n",
    "                  value(a0Air[i]), value(a1Air[i]), value(a2Air[i]),\n",
    "                  value(aR0Air[i]), value(aR1Air[i])))\n",
    "end\n",
    "\n",
    "\n",
    "df_pow_price = DataFrame(\n",
    "                         price = Float64[]\n",
    "                        )\n",
    "for i in 0:tHorz - 1\n",
    "    push!(df_pow_price, pow_price[i + 1])\n",
    "end\n",
    "          \n",
    "\n",
    "CSV.write(\"df_co.csv\", df_co)\n",
    "CSV.write(\"df_pow.csv\", df_pow)\n",
    "CSV.write(\"df_steam.csv\", df_steam)\n",
    "CSV.write(\"df_dac_flue.csv\", df_dac_flue)\n",
    "CSV.write(\"df_dac_air.csv\", df_dac_air)\n",
    "CSV.write(\"df_pow_price.csv\", df_pow_price)"
   ]
  }
 ],
 "metadata": {
  "kernelspec": {
   "display_name": "Julia 1.6.1",
   "language": "julia",
   "name": "julia-1.6"
  },
  "language_info": {
   "file_extension": ".jl",
   "mimetype": "application/julia",
   "name": "julia",
   "version": "1.6.1"
  }
 },
 "nbformat": 4,
 "nbformat_minor": 5
}
